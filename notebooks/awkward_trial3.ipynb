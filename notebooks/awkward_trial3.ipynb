{
 "cells": [
  {
   "cell_type": "markdown",
   "metadata": {
    "collapsed": true,
    "pycharm": {
     "name": "#%% md\n"
    }
   },
   "source": [
    "# Awkward NN Trial 3 (currently broken)\n",
    "\n",
    "## Working with yaml files\n",
    "\n",
    "- Get yaml file for awkwardNN from rootfile showing all the fields associated\n",
    "with which type of neural network: `rnn`, `gru`, `lstm`, or `deepset`.\n",
    "\n",
    "- By default, awkwardNN uses one RNN with every field in the list.\n"
   ]
  },
  {
   "cell_type": "code",
   "execution_count": null,
   "outputs": [],
   "source": [
    "from awkwardNN.awkwardNN import awkwardNN_fromYaml\n",
    "\n",
    "\n",
    "rootfile = \"../data/test_qcd_1000.root\"\n",
    "\n",
    "# where to save the yaml file to\n",
    "yamlfile = '../test_qcd_1000_default.yaml'\n",
    "\n",
    "# static method to get yaml file\n",
    "yaml_dict_list = awkwardNN_fromYaml.get_yaml_model_from_rootfile(rootfile, yamlfile)\n",
    "\n",
    "for key, val in yaml_dict_list[0].items():\n",
    "    print(\"{}: {}\".format(key, val))\n"
   ],
   "metadata": {
    "collapsed": false,
    "pycharm": {
     "name": "#%%\n"
    }
   }
  },
  {
   "cell_type": "markdown",
   "source": [
    "## Editing Yaml files\n",
    "\n",
    "- But, can edit yaml list such that awkwardNN_fromYaml associates\n",
    "different subsets of fields with certain types of nets.\n"
   ],
   "metadata": {
    "collapsed": false,
    "pycharm": {
     "name": "#%% md\n"
    }
   }
  },
  {
   "cell_type": "code",
   "execution_count": null,
   "outputs": [],
   "source": [
    "editted_yaml = '../test_qcd_1000.yaml'\n",
    "model = awkwardNN_fromYaml(editted_yaml)\n",
    "\n",
    "for yaml_dict in model.get_yaml_model():\n",
    "    for key, val in yaml_dict.items():\n",
    "        print(\"{}: {}\".format(key, val))\n",
    "    print()\n"
   ],
   "metadata": {
    "collapsed": false,
    "pycharm": {
     "name": "#%%\n"
    }
   }
  },
  {
   "cell_type": "markdown",
   "source": [
    "## Train yaml AwkwardNN on rootfile\n",
    "\n",
    "- Pass in list of dict with two key:value pairs, as seen in example below\n",
    "\n",
    "### How it trains\n",
    "\n",
    "- For every subset of fields, pass it through the associated type\n",
    "of neural network indicated via `mode`\n",
    "\n",
    "- Then take the output from these sub-networks, concatenate them, and\n",
    "pass them through a fully connected network to predict the output."
   ],
   "metadata": {
    "collapsed": false,
    "pycharm": {
     "name": "#%% md\n"
    }
   }
  },
  {
   "cell_type": "code",
   "execution_count": null,
   "outputs": [],
   "source": [
    "data_info = [{'rootfile': '../data/test_qcd_1000.root', 'target': 0},\n",
    "            {'rootfile': '../data/test_ttbar_1000.root', 'target': 1}]\n",
    "\n",
    "# modeled a lot of the parameters and methods from scikit-learn\n",
    "model.train(data_info, max_iter=3, verbose=True)\n"
   ],
   "metadata": {
    "collapsed": false,
    "pycharm": {
     "name": "#%%\n"
    }
   }
  },
  {
   "cell_type": "markdown",
   "source": [
    "## Issues and next steps\n",
    "\n",
    "- Priority: Currently having issues dealing with deepset implementation in\n",
    "this mixed neural network environment - although deepset\n",
    "by itself seems to work fine.\n",
    "\n",
    "- Also, finish implementations of other functions for awkwardNN:\n",
    "    - predict()\n",
    "    - predict_proba()\n",
    "    - predict_log_proba()\n",
    "\n",
    "- Make pip installable\n",
    "\n"
   ],
   "metadata": {
    "collapsed": false,
    "pycharm": {
     "name": "#%% md\n"
    }
   }
  }
 ],
 "metadata": {
  "kernelspec": {
   "display_name": "Python 3",
   "language": "python",
   "name": "python3"
  },
  "language_info": {
   "codemirror_mode": {
    "name": "ipython",
    "version": 2
   },
   "file_extension": ".py",
   "mimetype": "text/x-python",
   "name": "python",
   "nbconvert_exporter": "python",
   "pygments_lexer": "ipython2",
   "version": "2.7.6"
  }
 },
 "nbformat": 4,
 "nbformat_minor": 0
}