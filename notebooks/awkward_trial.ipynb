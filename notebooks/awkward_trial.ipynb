{
 "cells": [
  {
   "cell_type": "code",
   "execution_count": null,
   "outputs": [],
   "source": [
    "import time\n",
    "from awkwardNN.trainAwkwardNet import AwkwardNNTrainer\n",
    "from awkwardNN.config import get_config\n",
    "from awkwardNN.utils import print_time\n",
    "from awkwardNN.preprocessAwkwardData import *\n",
    "\n",
    "config, _ = get_config()\n",
    "start = time.time()\n",
    "\n",
    "np.random.seed(config.random_seed)\n",
    "torch.manual_seed(config.random_seed)\n",
    "if torch.cuda.is_available():\n",
    "    torch.cuda.manual_seed(config.random_seed)"
   ],
   "metadata": {
    "collapsed": false,
    "pycharm": {
     "name": "#%%\n"
    }
   }
  },
  {
   "cell_type": "code",
   "execution_count": null,
   "outputs": [],
   "source": [
    "if config.train:\n",
    "    trainloader = get_dataloader(\n",
    "        dataset_size=config.train_size, batch_size=config.batch_size,\n",
    "        prob_nest=config.prob_nest, prob_signal=config.prob_signal,\n",
    "        prob_noise=config.prob_noise, max_len=config.max_len,\n",
    "        max_depth=config.max_depth\n",
    "    )\n",
    "    validloader = get_dataloader(\n",
    "        dataset_size=config.valid_size, batch_size=config.batch_size,\n",
    "        prob_nest=config.prob_nest, prob_signal=config.prob_signal,\n",
    "        prob_noise=config.prob_noise, max_len=config.max_len,\n",
    "        max_depth=config.max_depth\n",
    "    )\n",
    "    dataloader = (trainloader, validloader)\n",
    "else:\n",
    "    dataloader = get_dataloader(\n",
    "        dataset_size=config.test_size, batch_size=config.batch_size,\n",
    "        prob_nest=config.prob_nest, prob_signal=config.prob_signal,\n",
    "        prob_noise=config.prob_noise, max_len=config.max_len,\n",
    "        max_depth=config.max_depth\n",
    "    )\n",
    "\n",
    "trainer = AwkwardNNTrainer(config, config.max_depth, 1, 2, dataloader)\n",
    "if config.train:\n",
    "    trainer.train()\n",
    "else:\n",
    "    trainer.test()\n",
    "\n",
    "print_time(start)"
   ],
   "metadata": {
    "collapsed": false,
    "pycharm": {
     "name": "#%%\n"
    }
   }
  },
  {
   "cell_type": "markdown",
   "source": [
    "This is a markdown test\n",
    "\n",
    "$$ x = \\sqrt(y)$$\n"
   ],
   "metadata": {
    "collapsed": false,
    "pycharm": {
     "name": "#%% md\n"
    }
   }
  },
  {
   "cell_type": "raw",
   "source": [
    "\n",
    "This is a raw test\n",
    "\n",
    "\n"
   ],
   "metadata": {
    "collapsed": false,
    "pycharm": {
     "name": "#%% raw\n"
    }
   }
  }
 ],
 "metadata": {
  "kernelspec": {
   "display_name": "Python 3",
   "language": "python",
   "name": "python3"
  },
  "language_info": {
   "codemirror_mode": {
    "name": "ipython",
    "version": 2
   },
   "file_extension": ".py",
   "mimetype": "text/x-python",
   "name": "python",
   "nbconvert_exporter": "python",
   "pygments_lexer": "ipython2",
   "version": "2.7.6"
  }
 },
 "nbformat": 4,
 "nbformat_minor": 0
}