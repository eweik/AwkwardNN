{
 "cells": [
  {
   "cell_type": "markdown",
   "source": [
    "# AwkwardNN: trial 1\n",
    "\n",
    "### Get awkward toy data\n",
    "\n",
    "- Focus on just nested and jagged arrays\n",
    "- Assign maximum possible length and max possible depth for all arrays.\n",
    "    * Randomly pick max length/depth from range [1, max] for each event\n",
    "    and again for each sublist/nested list.\n",
    "- Binary targets: 0, 1\n",
    "- Signal data drawn from\n",
    "    * Gaussian(-L, 1) for target 0, where L is level on data\n",
    "        * e.g. for the highest level of data (nest 0) with max depth 5,\n",
    "        data would be drawn from Gaussian(-5, 1).\n",
    "    * Gaussian(+L, 1) for target 1\n",
    "- Noise data: drawn from uniform dist in range (-max_depth, +max_depth)\n",
    "- Assign probabilities for possible elements in array. Example:\n",
    "    * p( signal ) = 0.50\n",
    "    * p( noise ) = 0.10\n",
    "    * p( subarray ) = 0.40\n",
    "- Starting with empty list, randomly sample elements until max length\n",
    "is reached. When max depth is reached, only sample from p(signal)\n",
    "and p(noise)\n",
    "\n"
   ],
   "metadata": {
    "collapsed": false,
    "pycharm": {
     "name": "#%% md\n"
    }
   }
  },
  {
   "cell_type": "code",
   "execution_count": null,
   "outputs": [],
   "source": [
    "import awkward\n",
    "from awkwardNN.createAwkwardData import generate_data_target\n",
    "\n",
    "max_len = 3\n",
    "max_depth = 3\n",
    "p_signal = 0.50\n",
    "p_noise = 0.10\n",
    "p_subarray = 0.40\n",
    "num_events = 5\n",
    "\n",
    "data, targets = generate_data_target(num_events=num_events,\n",
    "                                     prob_nest=p_subarray,\n",
    "                                     prob_sig=p_signal,\n",
    "                                     prob_bkg=p_noise,\n",
    "                                     max_len=max_len,\n",
    "                                     max_depth=max_depth)\n",
    "\n",
    "for i in range(num_events):\n",
    "    print(\"{}: {}\".format(targets[i], data[i]))\n"
   ],
   "metadata": {
    "collapsed": false,
    "pycharm": {
     "name": "#%%\n"
    }
   }
  },
  {
   "cell_type": "markdown",
   "source": [
    "### Some details\n",
    "\n",
    "Create configuration namespace object to assign arbitrary values for NN\n",
    "parameters such as size of hidden layers, number of training epochs,\n",
    "learning rate, etc."
   ],
   "metadata": {
    "collapsed": false,
    "pycharm": {
     "name": "#%% md\n"
    }
   }
  },
  {
   "cell_type": "code",
   "execution_count": null,
   "outputs": [],
   "source": [
    "from awkwardNN.config import get_config\n",
    "import numpy as np\n",
    "import torch\n",
    "\n",
    "config, _ = get_config()\n",
    "\n",
    "np.random.seed(config.random_seed)\n",
    "torch.manual_seed(config.random_seed)\n",
    "if torch.cuda.is_available():\n",
    "    torch.cuda.manual_seed(config.random_seed)\n",
    "\n",
    "config_dict = vars(config)\n",
    "for i in config_dict:\n",
    "    print(i + \": {}\".format(config_dict[i]))"
   ],
   "metadata": {
    "collapsed": false,
    "pycharm": {
     "name": "#%%\n"
    }
   }
  },
  {
   "cell_type": "markdown",
   "source": [
    "### Create Pytorch dataloader for neural net"
   ],
   "metadata": {
    "collapsed": false,
    "pycharm": {
     "name": "#%% md\n"
    }
   }
  },
  {
   "cell_type": "code",
   "execution_count": null,
   "outputs": [],
   "source": [
    "\n",
    "from awkwardNN.preprocessAwkwardData import get_dataloader\n",
    "\n",
    "trainloader = get_dataloader(\n",
    "    dataset_size=config.train_size, batch_size=config.batch_size,\n",
    "    prob_nest=config.prob_nest, prob_signal=config.prob_signal,\n",
    "    prob_noise=config.prob_noise, max_len=config.max_len,\n",
    "    max_depth=config.max_depth\n",
    ")\n",
    "validloader = get_dataloader(\n",
    "    dataset_size=config.valid_size, batch_size=config.batch_size,\n",
    "    prob_nest=config.prob_nest, prob_signal=config.prob_signal,\n",
    "    prob_noise=config.prob_noise, max_len=config.max_len,\n",
    "    max_depth=config.max_depth\n",
    ")\n",
    "dataloader = (trainloader, validloader)\n"
   ],
   "metadata": {
    "collapsed": false,
    "pycharm": {
     "name": "#%%\n"
    }
   }
  },
  {
   "cell_type": "markdown",
   "source": [
    "### Create pytorch neural net\n",
    "\n",
    "First trial network: flattening all the data from an event into one list and passing through an RNN.\n",
    "Loses information from nesting structure.\n",
    "\n",
    "Second trial network:\n",
    "- Recurrent neural network with a layer for each nested level of data.\n",
    "- RNN processes an event one nested level at a time, passing each level through its associated layer in order from highest level to lowest level.\n",
    "- Append hidden state to input for each layer, then use hidden state for through final output layer\n"
   ],
   "metadata": {
    "collapsed": false,
    "pycharm": {
     "name": "#%% md\n"
    }
   }
  },
  {
   "cell_type": "code",
   "execution_count": null,
   "outputs": [],
   "source": [
    "import torch.nn as nn\n",
    "import torch.nn.functional as F\n",
    "\n",
    "\n",
    "class AwkwardNN(nn.Module):\n",
    "    def __init__(self, max_depth, input_sz, hidden_sz, output_sz):\n",
    "        super(AwkwardNN, self).__init__()\n",
    "        self.max_depth = max_depth\n",
    "        self.input_sz = input_sz\n",
    "        self.hidden_sz = hidden_sz\n",
    "        self.layers = []\n",
    "        for _ in range(max_depth):\n",
    "            self.layers.append( nn.Linear(input_sz + hidden_sz, hidden_sz) )\n",
    "        self.output = nn.Linear(hidden_sz, output_sz)\n",
    "\n",
    "    def forward(self, input_data, markers, hidden):\n",
    "        i = 0\n",
    "        # since we're not iterating over batches\n",
    "        input_data, markers = input_data[0], markers[0]\n",
    "        for marker, net_layer in zip(markers, self.layers):\n",
    "            if marker == 0:\n",
    "                continue\n",
    "            for _ in range(marker):\n",
    "                x = torch.tensor([[input_data[i]]], dtype=torch.float32)\n",
    "                combined = torch.cat((x, hidden), 1)\n",
    "                hidden = F.relu(net_layer(combined))\n",
    "                i += 1\n",
    "        output = F.log_softmax(self.output(hidden), dim=1)\n",
    "        return output, hidden"
   ],
   "metadata": {
    "collapsed": false,
    "pycharm": {
     "name": "#%%\n"
    }
   }
  },
  {
   "cell_type": "markdown",
   "source": [
    "### Train neural net"
   ],
   "metadata": {
    "collapsed": false,
    "pycharm": {
     "name": "#%% md\n"
    }
   }
  },
  {
   "cell_type": "code",
   "execution_count": null,
   "outputs": [],
   "source": [
    "import torch.optim as optim\n",
    "import awkwardNN.utils as utils\n",
    "\n",
    "model = AwkwardNN(max_depth=config.max_depth,\n",
    "                  input_sz=1,\n",
    "                  hidden_sz=config.hidden_size,\n",
    "                  output_sz=2)\n",
    "\n",
    "device = torch.device(\"cuda:0\" if torch.cuda.is_available() else \"cpu\")\n",
    "model = model.to(device)\n",
    "optimizer = optim.Adam(model.parameters(), lr=config.learning_rate)\n",
    "\n",
    "def train():\n",
    "    best_valid_acc = 0\n",
    "    for epoch in range(config.epochs):\n",
    "        print('\\nEpoch: {}/{}'.format(epoch+1, config.epochs))\n",
    "        train_one_epoch(epoch)\n",
    "        valid_loss, valid_acc = validate_one_epoch(epoch)\n",
    "        best_valid_acc = max(valid_acc, best_valid_acc)\n",
    "        utils.print_valid_stat(valid_loss, valid_acc, config.valid_size, best_valid_acc)\n",
    "    return\n",
    "\n",
    "def train_one_epoch(epoch):\n",
    "    losses, accs = utils.AverageMeter(), utils.AverageMeter()\n",
    "    model.train()\n",
    "    for i, (x, marker, y) in enumerate(trainloader):\n",
    "        x, marker, y = x.to(device), marker.to(device), y.to(device)\n",
    "        hidden = torch.zeros(config.batch_size, config.hidden_size)\n",
    "        hidden = hidden.to(device)\n",
    "        optimizer.zero_grad()\n",
    "        with torch.set_grad_enabled(True):\n",
    "            y_hat, hidden = model(x, marker, hidden)\n",
    "            loss = utils.get_loss(y, y_hat)\n",
    "            acc = utils.get_accuracy(y, y_hat)\n",
    "            loss.backward()\n",
    "            optimizer.step()\n",
    "            losses.update(loss.item(), x.size(0))\n",
    "            accs.update(acc.item(), x.size(0))\n",
    "\n",
    "        if i % config.print_freq == 0:\n",
    "            utils.print_train_stat(epoch+1, i+config.print_freq, x, config.train_size, loss, acc)\n",
    "    return losses.avg, accs.avg\n",
    "\n",
    "\n",
    "def validate_one_epoch(epoch):\n",
    "    losses, accs = utils.AverageMeter(), utils.AverageMeter()\n",
    "    model.eval()\n",
    "    for i, (x, marker, y) in enumerate(validloader):\n",
    "        x, marker, y = x.to(device), marker.to(device), y.to(device)\n",
    "        hidden = torch.zeros(config.batch_size, config.hidden_size)\n",
    "        hidden = hidden.to(device)\n",
    "        with torch.no_grad():\n",
    "            y_hat, _ = model(x, marker, hidden)\n",
    "            loss = utils.get_loss(y, y_hat)\n",
    "            acc = utils.get_accuracy(y, y_hat)\n",
    "            losses.update(loss.item(), x.size(0))\n",
    "            accs.update(acc.item(), x.size(0))\n",
    "    return losses.avg, accs.avg\n",
    "\n",
    "train()"
   ],
   "metadata": {
    "collapsed": false,
    "pycharm": {
     "name": "#%%\n"
    }
   }
  },
  {
   "cell_type": "markdown",
   "source": [
    "Or you can run `main.py`\n",
    "\n",
    "### Current issues/problems:\n",
    "\n",
    "- Pytorch only takes in `Tensor` objects, which have to be rectangular like numpy arrays\n",
    "- Varying length arrays → hard to batch data\n",
    "    - because `Tensor` objects have to be rectangular\n",
    "    - Could zero pad and then ignore those zeros\n",
    "    - Currently: go through data one event at a time\n",
    "- Other ways to pass an Awkward Data Structure through an RNN are possible, perhaps\n",
    "consider other architectures"
   ],
   "metadata": {
    "collapsed": false,
    "pycharm": {
     "name": "#%% md\n"
    }
   }
  }
 ],
 "metadata": {
  "kernelspec": {
   "display_name": "Python 3",
   "language": "python",
   "name": "python3"
  },
  "language_info": {
   "codemirror_mode": {
    "name": "ipython",
    "version": 2
   },
   "file_extension": ".py",
   "mimetype": "text/x-python",
   "name": "python",
   "nbconvert_exporter": "python",
   "pygments_lexer": "ipython2",
   "version": "2.7.6"
  }
 },
 "nbformat": 4,
 "nbformat_minor": 0
}