{
 "cells": [
  {
   "cell_type": "markdown",
   "metadata": {
    "collapsed": true,
    "pycharm": {
     "name": "#%% md\n"
    }
   },
   "source": [
    "# Yamlfile in awkwardNN\n",
    "\n",
    "- AwkwardNN processes data from a rootfile based on a yaml file.\n",
    "\n",
    "- The yaml file specifies:\n",
    "    - what fields from the rootfile are to be trained,\n",
    "    - how fields from different nested branches are connected, and\n",
    "    - the types of network blocks for each branch.\n"
   ]
  },
  {
   "cell_type": "code",
   "execution_count": 1,
   "outputs": [],
   "source": [
    "from awkwardNN.nets.awkwardNN import awkwardNN_fromYaml\n"
   ],
   "metadata": {
    "collapsed": false,
    "pycharm": {
     "name": "#%%\n"
    }
   }
  },
  {
   "cell_type": "markdown",
   "source": [
    "## Creating Yaml Files from Root files\n",
    "\n",
    "- You can create a yaml file from a root file with the functions below.\n",
    "\n",
    "- In the rootfile notebook, I mentioned that a field in an event can have 1 of 4\n",
    "possible data structure interpretations: fixed, jagged, object, or nested.\n",
    "The yaml file partitions fields based on their interpretation.\n"
   ],
   "metadata": {
    "collapsed": false,
    "pycharm": {
     "name": "#%% md\n"
    }
   }
  },
  {
   "cell_type": "code",
   "execution_count": 2,
   "outputs": [
    {
     "name": "stderr",
     "output_type": "stream",
     "text": [
      "/Users/edisonweik/.pyenv/versions/3.6.11/lib/python3.6/site-packages/awkward/array/base.py:394: VisibleDeprecationWarning: Creating an ndarray from ragged nested sequences (which is a list-or-tuple of lists-or-tuples-or ndarrays with different lengths or shapes) is deprecated. If you meant to do this, you must specify 'dtype=object' when creating the ndarray\n",
      "  return cls.numpy.array(value, copy=False)\n"
     ]
    }
   ],
   "source": [
    "root_filename = \"../data/test_qcd_1000.root\"\n",
    "yaml_filename = \"../test_qcd_1000_default.yaml\"\n",
    "\n",
    "# can get yaml dict from rootfile\n",
    "yaml_dict = awkwardNN_fromYaml.get_yaml_dict_from_rootfile(root_filename)\n",
    "\n",
    "# can save yaml dict to a yaml file\n",
    "awkwardNN_fromYaml.save_yaml_dict(yaml_dict, yaml_filename)\n",
    "\n",
    "# can create a yaml file directly from a rootfile\n",
    "awkwardNN_fromYaml.create_yaml_file_from_rootfile(root_filename, yaml_filename)"
   ],
   "metadata": {
    "collapsed": false,
    "pycharm": {
     "name": "#%%\n"
    }
   }
  },
  {
   "cell_type": "markdown",
   "source": [
    "## Specifying Yaml files from functions\n",
    "\n",
    "- Can also customize yaml file from the same functions.\n",
    "\n",
    "- Can use keyword arguments to specify:\n",
    "    - embed_dim\n",
    "    - mode\n",
    "    - fixed_mode\n",
    "    - jagged_mode\n",
    "    - object_mode\n",
    "    - nested_mode\n",
    "    - hidden_sizes\n",
    "    - nonlinearity\n",
    "    - phi_sizes\n",
    "    - rho_sizes"
   ],
   "metadata": {
    "collapsed": false,
    "pycharm": {
     "name": "#%% md\n"
    }
   }
  },
  {
   "cell_type": "code",
   "execution_count": 3,
   "outputs": [],
   "source": [
    "kwargs1 = {'embed_dim': 64, 'fixed_mode': 'deepset', 'jagged_mode': 'gru',\n",
    "           'phi_sizes': '(64, 40)', 'rho_sizes': '(50, 25)'}\n",
    "kwargs2 = {'embed_dim': 50, 'jagged_mode': 'lstm', 'object_mode': 'lstm',\n",
    "           'hidden_sizes': '(100, 40)'}\n",
    "kwargs3 = {'mode': 'deepset', 'nonlinearity': 'tanh', 'jagged_mode': 'lstm'}\n",
    "\n",
    "yaml_filename1 = '../test_qcd_1000_default1.yaml'\n",
    "yaml_filename2 = '../test_qcd_1000_default2.yaml'\n",
    "yaml_filename3 = '../test_qcd_1000_default3.yaml'\n",
    "\n",
    "awkwardNN_fromYaml.create_yaml_file_from_rootfile(root_filename, yaml_filename1, **kwargs1)\n",
    "awkwardNN_fromYaml.create_yaml_file_from_rootfile(root_filename, yaml_filename2, **kwargs2)\n",
    "awkwardNN_fromYaml.create_yaml_file_from_rootfile(root_filename, yaml_filename3, **kwargs3)\n"
   ],
   "metadata": {
    "collapsed": false,
    "pycharm": {
     "name": "#%%\n"
    }
   }
  },
  {
   "cell_type": "markdown",
   "source": [
    "## Possible keys in Yaml files\n",
    "\n",
    "Can also modify the yaml file directly with the following keys:\n",
    "\n",
    "- embed_dim - `int` - must be >0:\n",
    "    - the output size for the network; also the input size for\n",
    "    the next neural network above it\n",
    "- mode - `str` - [`mlp`, `deepset`]:\n",
    "    - the type of network to be used for each AwkwardNN network block\n",
    "- fixed_mode - `str` - [`mlp`, `deepset`]:\n",
    "    - the type of network to be used for each fixed network block\n",
    "- jagged_mode - `str` - [`vanilla_rnn`, `gru`, `lstm`, `deepset`]:\n",
    "    - the type of network to be used for each jagged network block\n",
    "- object_mode - `str` - [`vanilla_rnn`, `gru`, `lstm`, `deepset`]:\n",
    "    - the type of network to be used for each object network block\n",
    "- nested_mode - `str` - [`vanilla_rnn`, `lstm`, `gru`, `deepset`, `mlp`]:\n",
    "    - the type of network to be used for each nested network block\n",
    "- hidden_sizes - `str`:\n",
    "    - a string of comma separated, positive integers, surround by parentheses\n",
    "    - e.g. \"(30, 56, 32, 50)\" or \"(100, 100)\"\n",
    "    - the number of nodes in each layer of an mlp\n",
    "- nonlinearity - `str` - [`relu`, `tanh`]:\n",
    "    - nonlinear functions to used for `mlp`, `deepset`, & `vanilla_rnn`\n",
    "- phi_sizes - `str`:\n",
    "    - a string of comma separated, positive integers, surround by parentheses\n",
    "    - the number of nodes in each layer of the first network in a\n",
    "    deepset network\n",
    "- rho_sizes - `str`:\n",
    "    - a string of comma separated, positive integers, surround by parentheses\n",
    "    - the number of nodes in each layer of the second network in a\n",
    "    deepset network\n",
    "- fields - `str`:\n",
    "    - list of fields used to train a network block\n",
    "- use - `bool`:\n",
    "    - this field is by default not present in the yaml file, but it can be\n",
    "    added as a field for any specific network mode - fixed, jagged, object, nested -\n",
    "    to indicate whether it should be use or not.\n",
    "\n",
    "Note: can also comment out individual fields if you don't want to\n",
    "use them during training (comment out with #)\n",
    "\n"
   ],
   "metadata": {
    "collapsed": false,
    "pycharm": {
     "name": "#%% md\n"
    }
   }
  }
 ],
 "metadata": {
  "kernelspec": {
   "display_name": "Python 3",
   "language": "python",
   "name": "python3"
  },
  "language_info": {
   "codemirror_mode": {
    "name": "ipython",
    "version": 2
   },
   "file_extension": ".py",
   "mimetype": "text/x-python",
   "name": "python",
   "nbconvert_exporter": "python",
   "pygments_lexer": "ipython2",
   "version": "2.7.6"
  }
 },
 "nbformat": 4,
 "nbformat_minor": 0
}