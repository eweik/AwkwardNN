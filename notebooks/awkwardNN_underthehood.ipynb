{
 "cells": [
  {
   "cell_type": "markdown",
   "metadata": {
    "collapsed": true,
    "pycharm": {
     "name": "#%% md\n"
    }
   },
   "source": [
    "# AwkwardNN Under the Hood\n",
    "\n",
    "- Here, I explain how AwkwardNN processes the fields\n",
    "from a given root file and yaml file. I don't show much\n",
    "python code here, that can be seen in the python files.\n",
    "\n",
    "- I will look specifically at training fields in the file\n",
    "`test_ttbar_1000.root`\n",
    "\n",
    "## Overview of AwkwardNN Structure\n",
    "\n",
    "- An _AwkwardNN block_ is a network block with four different\n",
    "types of subnetworks (each corresponding to a different data\n",
    "interpretation from `uproot`):\n",
    "    - a fixed network\n",
    "    - a jagged network\n",
    "    - an object network\n",
    "    - a nested network\n",
    "\n",
    "- There is final network on top of these four subnetworks that\n",
    "takes in the concatenated outputs from the subnetworks.\n",
    "\n",
    "The yaml file is essentially one big AwkwardNN block.\n",
    "\n",
    "Furthermore, nested blocks are composed of AwkwardNN blocks\n",
    "because nested fields have a tree structure.\n"
   ]
  },
  {
   "cell_type": "code",
   "execution_count": 1,
   "outputs": [],
   "source": [
    "import uproot\n",
    "from awkwardNN.utils.dataset_utils_uproot import get_events_from_tree\n",
    "\n",
    "tree = uproot.open(\"../data/test_ttbar_1000.root\")['Delphes']"
   ],
   "metadata": {
    "collapsed": false,
    "pycharm": {
     "name": "#%%\n"
    }
   }
  },
  {
   "cell_type": "markdown",
   "source": [
    "## Fixed Network Block\n",
    "\n",
    "- Possible modes:\n",
    "    - `mlp`\n",
    "    - `deepset`\n",
    "\n",
    "- Input: fixed interpreted arrays\n",
    "\n",
    "- Feeds forward like a normal neural network or deepset model\n",
    "\n",
    "- This deepset model consists of 2 networks:\n",
    "    - the first network takes each individual element of an array\n",
    "    as its input,\n",
    "    - the second network takes the element-wise sum of the\n",
    "    outputs from the first network as its input.\n",
    "\n",
    "- Output: latent array whose length with length `embed_dim` from\n",
    "yaml file"
   ],
   "metadata": {
    "collapsed": false,
    "pycharm": {
     "name": "#%% md\n"
    }
   }
  },
  {
   "cell_type": "code",
   "execution_count": 2,
   "outputs": [
    {
     "name": "stdout",
     "output_type": "stream",
     "text": [
      "Event 1: tensor([[  4., 737.,   0.,   1.]])\n",
      "Event 2: tensor([[  2., 682.,   0.,   1.]])\n",
      "Event 3: tensor([[4.0000e+00, 1.2670e+03, 0.0000e+00, 1.0000e+00]])\n",
      "Event 4: tensor([[4.0000e+00, 1.3900e+03, 0.0000e+00, 1.0000e+00]])\n",
      "Event 5: tensor([[  3., 792.,   0.,   1.]])\n"
     ]
    }
   ],
   "source": [
    "# Example of fixed data\n",
    "\n",
    "fixed_fields = ['Jet_size', 'Particle_size', 'Muon_size', 'Event_size']\n",
    "fixed_data = get_events_from_tree(tree, fixed_fields)\n",
    "\n",
    "for i in range(5):\n",
    "    print(\"Event {}: {}\".format(i+1, fixed_data[i]))\n"
   ],
   "metadata": {
    "collapsed": false,
    "pycharm": {
     "name": "#%%\n"
    }
   }
  },
  {
   "cell_type": "markdown",
   "source": [
    "## Jagged Network Block\n",
    "\n",
    "- Possible modes:\n",
    "    - `lstm`\n",
    "    - `gru`\n",
    "    - `vanilla_rnn`\n",
    "    - `deepset`\n",
    "\n",
    "- Input: jagged interpreted arrays\n",
    "\n",
    "- Feeds forward like a recurrent neural network or deepset model.\n",
    "\n",
    "- This deepset model consists of 2 networks:\n",
    "    - the first network takes arrays of fixed length as its input,\n",
    "    - the second network takes the element-wise sum of all the\n",
    "    outputs from the first network as its input.\n",
    "\n",
    "- Output: latent array whose length with length `embed_dim` from\n",
    "yaml file\n"
   ],
   "metadata": {
    "collapsed": false,
    "pycharm": {
     "name": "#%% md\n"
    }
   }
  },
  {
   "cell_type": "code",
   "execution_count": 3,
   "outputs": [
    {
     "name": "stdout",
     "output_type": "stream",
     "text": [
      "Event 1: tensor([[[206.9777,   0.2733,   0.8877]],\n",
      "\n",
      "        [[179.3755,  -0.3325,  -2.4103]],\n",
      "\n",
      "        [[ 10.8406,   0.4900,  -0.2258]],\n",
      "\n",
      "        [[ 14.2367,   3.0309,  -1.9108]]])\n",
      "\n",
      "Event 2: tensor([[[ 1.8060e+02, -1.5794e-01,  1.7673e+00]],\n",
      "\n",
      "        [[ 1.3347e+02,  4.8330e-01, -1.3502e+00]]])\n",
      "\n",
      "Event 3: tensor([[[ 2.1602e+02,  7.0078e-01,  3.0060e+00]],\n",
      "\n",
      "        [[ 1.6781e+02,  3.7453e-01, -1.4007e-01]],\n",
      "\n",
      "        [[ 8.5620e+00,  3.4655e+00, -2.3441e+00]],\n",
      "\n",
      "        [[ 7.6187e+00,  1.8378e-01, -1.2875e+00]]])\n",
      "\n",
      "Event 4: tensor([[[ 1.9608e+02,  2.4928e-01,  2.6330e+00]],\n",
      "\n",
      "        [[ 1.6945e+02, -4.2195e-01, -2.9568e-01]],\n",
      "\n",
      "        [[ 6.0668e+01, -1.1219e-01, -2.1356e+00]],\n",
      "\n",
      "        [[ 1.4514e+01,  2.9883e+00, -9.5512e-01]]])\n",
      "\n",
      "Event 5: tensor([[[185.3319,  -0.9399,   1.6659]],\n",
      "\n",
      "        [[215.2863,  -0.8183,  -1.5329]],\n",
      "\n",
      "        [[ 13.3948,   2.9999,   0.3681]]])\n",
      "\n"
     ]
    }
   ],
   "source": [
    "# Example of jagged data\n",
    "\n",
    "jagged_fields = ['Jet.Mass', 'Jet.Eta', 'Jet.Phi']\n",
    "jagged_data = get_events_from_tree(tree, jagged_fields)\n",
    "\n",
    "for i in range(5):\n",
    "    print(\"Event {}: {}\\n\".format(i+1, jagged_data[i]))"
   ],
   "metadata": {
    "collapsed": false,
    "pycharm": {
     "name": "#%%\n"
    }
   }
  },
  {
   "cell_type": "markdown",
   "source": [
    "## Object Network Block\n",
    "\n",
    "- Possible modes:\n",
    "    - `lstm`\n",
    "    - `gru`\n",
    "    - `vanilla_rnn`\n",
    "    - `deepset`\n",
    "\n",
    "- Input: object interpreted arrays\n",
    "\n",
    "- Difference from jagged arrays:\n",
    "    - Each event has a varying number of subobjects, e.g. jets,\n",
    "    but each subobject also has a varying number of elements too.\n",
    "\n",
    "    - Therefore, can't just use a normal RNN that sequentially\n",
    "    processes an event one jet at a time.\n",
    "\n",
    "- (Ad Hoc) Feeds forward like a modified recurrent neural network\n",
    "or deepset model.\n",
    "\n",
    "- Modified RNN consists of 2 RNNs stacked on top of each other:\n",
    "    - the first RNN:\n",
    "        - takes as input each subevent (e.g. jet in an event)\n",
    "        - sequentially processes it one element at a time,\n",
    "        - returns a hidden state for each subevent.\n",
    "    - the second RNN:\n",
    "        - takes as input all the hidden states from the first RNN,\n",
    "        - processes them sequentially one at a time,\n",
    "        - returns latent array.\n",
    "\n",
    "- this modified deepset model is composed of 2 standard deepset\n",
    "models stacked on top of each other:\n",
    "    - the first deepset model:\n",
    "        - takes each subevent,\n",
    "        - feeds forward through its phi network one element at time,\n",
    "        - element-wise sums the outputs from the phi network,\n",
    "        - feeds forward through its rho network, and\n",
    "        - returns a hidden state for each subevent.\n",
    "    - the second deepset model:\n",
    "        - takes the outputs from the first deepset model,\n",
    "        - passes each one through its phi network,\n",
    "        - sums the latent state for each subevent,\n",
    "        - feeds forward through its rho network,\n",
    "        - returns latent array.\n",
    "\n",
    "Is this how it should feed forward? I'm not sure. I don't think\n",
    "I've ever seen this type of data format used in this context\n",
    "before."
   ],
   "metadata": {
    "collapsed": false,
    "pycharm": {
     "name": "#%% md\n"
    }
   }
  },
  {
   "cell_type": "code",
   "execution_count": 4,
   "outputs": [
    {
     "name": "stderr",
     "output_type": "stream",
     "text": [
      "/Users/edisonweik/.pyenv/versions/3.6.11/lib/python3.6/site-packages/awkward/array/base.py:394: VisibleDeprecationWarning: Creating an ndarray from ragged nested sequences (which is a list-or-tuple of lists-or-tuples-or ndarrays with different lengths or shapes) is deprecated. If you meant to do this, you must specify 'dtype=object' when creating the ndarray\n",
      "  return cls.numpy.array(value, copy=False)\n"
     ]
    },
    {
     "name": "stdout",
     "output_type": "stream",
     "text": [
      "Event 1: number of jets 4\n",
      "  jet 1 has length 107\n",
      "  jet 2 has length 140\n",
      "  jet 3 has length 20\n",
      "  jet 4 has length 25\n",
      "\n",
      "Event 2: number of jets 2\n",
      "  jet 1 has length 126\n",
      "  jet 2 has length 132\n",
      "\n",
      "Event 3: number of jets 4\n",
      "  jet 1 has length 148\n",
      "  jet 2 has length 174\n",
      "  jet 3 has length 19\n",
      "  jet 4 has length 18\n",
      "\n",
      "Event 4: number of jets 4\n",
      "  jet 1 has length 131\n",
      "  jet 2 has length 128\n",
      "  jet 3 has length 84\n",
      "  jet 4 has length 29\n",
      "\n",
      "Event 5: number of jets 3\n",
      "  jet 1 has length 81\n",
      "  jet 2 has length 134\n",
      "  jet 3 has length 32\n",
      "\n"
     ]
    }
   ],
   "source": [
    "# Example of object data\n",
    "\n",
    "object_fields = ['Jet.Constituents', 'Jet.Particles']\n",
    "object_data = get_events_from_tree(tree, object_fields)\n",
    "\n",
    "for i in range(5):\n",
    "    print(\"Event {}: number of jets {}\".format(i+1, len(object_data[i])))\n",
    "    for j, obj_array in enumerate(object_data[i]):\n",
    "        print(\"  jet {} has length {}\".format(j+1, len(obj_array)))\n",
    "    print()\n"
   ],
   "metadata": {
    "collapsed": false,
    "pycharm": {
     "name": "#%%\n"
    }
   }
  },
  {
   "cell_type": "markdown",
   "source": [
    "## Nested Network Block\n",
    "\n",
    "- Possible modes:\n",
    "    - `lstm`\n",
    "    - `gru`\n",
    "    - `vanilla_rnn`\n",
    "    - `mlp`\n",
    "    - `deepset`\n",
    "        - Note: same `deepset` model here as the one in jagged block\n",
    "\n",
    "- Input: latent arrays from AwkwardNN subblocks\n",
    "    - Recall: a nested field from a rootfile has its own tree structure\n",
    "\n",
    "- How it feeds forward depends on the mode.\n",
    "\n",
    "- If the mode is `lstm`, `gru`, `vanilla_rnn`, or `deepset`:\n",
    "    - The network sequentially processing the AwkwardNN subblocks one at a time.\n",
    "    - Then returns the latent array.\n",
    "\n",
    "    - Note: sometimes subevents are null within an event.\n",
    "        - E.g. an event may have 5 jets but 0 muons.\n",
    "        - In this case, the `Muon` block would be skipped over by the network\n",
    "        (as opposed to being zero padded).\n",
    "\n",
    "- If the mode is `mlp`:\n",
    "    - The network concatenates the outputs from all of the its AwkwardNN\n",
    "    subblocks,\n",
    "    - The feeds forward like a conventional MLP.\n",
    "\n",
    "    - Note: If a subevent is null, then the input would have to be zero\n",
    "    padded because an MLP cannot accomodate a variable input lengths.d\n"
   ],
   "metadata": {
    "collapsed": false,
    "pycharm": {
     "name": "#%% md\n"
    }
   }
  },
  {
   "cell_type": "markdown",
   "source": [
    "## AwkwardNN Block\n",
    "\n",
    "- Possible modes:\n",
    "    - `mlp`\n",
    "    - `deepset`\n",
    "        - Note: same `deepset` model here as the one in fixed block\n",
    "\n",
    "- Input:  the concatenation of the latent array outputs from\n",
    " of all of its subblocks.\n",
    "\n",
    "    - Note: not every type of subblock may be present.\n",
    "\n",
    "    - If the list of fields doesn't have a type of data interpretation\n",
    "    present, then there will be no associated subblock.\n"
   ],
   "metadata": {
    "collapsed": false,
    "pycharm": {
     "name": "#%% md\n"
    }
   }
  },
  {
   "cell_type": "markdown",
   "source": [
    "## Visualize Awkward NN\n",
    "\n",
    "- Can visualize the higher level structure of AwkwardNN and how\n",
    "its component blocks are organized\n",
    "\n"
   ],
   "metadata": {
    "collapsed": false,
    "pycharm": {
     "name": "#%% md\n"
    }
   }
  },
  {
   "cell_type": "code",
   "execution_count": 5,
   "outputs": [
    {
     "data": {
      "text/plain": "<graphviz.dot.Digraph at 0x1078e5f28>",
      "image/svg+xml": "<?xml version=\"1.0\" encoding=\"UTF-8\" standalone=\"no\"?>\n<!DOCTYPE svg PUBLIC \"-//W3C//DTD SVG 1.1//EN\"\n \"http://www.w3.org/Graphics/SVG/1.1/DTD/svg11.dtd\">\n<!-- Generated by graphviz version 2.44.1 (20200629.0846)\n -->\n<!-- Title: AwkwardNN Pages: 1 -->\n<svg width=\"500pt\" height=\"436pt\"\n viewBox=\"0.00 0.00 500.00 436.00\" xmlns=\"http://www.w3.org/2000/svg\" xmlns:xlink=\"http://www.w3.org/1999/xlink\">\n<g id=\"graph0\" class=\"graph\" transform=\"scale(1 1) rotate(0) translate(4 432)\">\n<title>AwkwardNN</title>\n<polygon fill=\"white\" stroke=\"transparent\" points=\"-4,4 -4,-432 496,-432 496,4 -4,4\"/>\n<!-- 0 -->\n<g id=\"node1\" class=\"node\">\n<title>0</title>\n<polygon fill=\"none\" stroke=\"black\" points=\"492,-302.5 421,-302.5 421,-259.5 492,-259.5 492,-302.5\"/>\n<text text-anchor=\"middle\" x=\"456.5\" y=\"-293.7\" font-family=\"Times,serif\" font-size=\"6.00\">event</text>\n<text text-anchor=\"middle\" x=\"456.5\" y=\"-286.7\" font-family=\"Times,serif\" font-size=\"6.00\">embed_dim: 64</text>\n<text text-anchor=\"middle\" x=\"456.5\" y=\"-279.7\" font-family=\"Times,serif\" font-size=\"6.00\">mode: mlp</text>\n<text text-anchor=\"middle\" x=\"456.5\" y=\"-272.7\" font-family=\"Times,serif\" font-size=\"6.00\">hidden_sizes: (64, 64)</text>\n<text text-anchor=\"middle\" x=\"456.5\" y=\"-265.7\" font-family=\"Times,serif\" font-size=\"6.00\">nonlinearity: relu</text>\n</g>\n<!-- 1 -->\n<g id=\"node2\" class=\"node\">\n<title>1</title>\n<polygon fill=\"none\" stroke=\"black\" points=\"385,-364.5 314,-364.5 314,-321.5 385,-321.5 385,-364.5\"/>\n<text text-anchor=\"middle\" x=\"349.5\" y=\"-355.7\" font-family=\"Times,serif\" font-size=\"6.00\">Fixed Block</text>\n<text text-anchor=\"middle\" x=\"349.5\" y=\"-348.7\" font-family=\"Times,serif\" font-size=\"6.00\">embed_dim: 64</text>\n<text text-anchor=\"middle\" x=\"349.5\" y=\"-341.7\" font-family=\"Times,serif\" font-size=\"6.00\">mode: mlp</text>\n<text text-anchor=\"middle\" x=\"349.5\" y=\"-334.7\" font-family=\"Times,serif\" font-size=\"6.00\">hidden_sizes: (64, 64)</text>\n<text text-anchor=\"middle\" x=\"349.5\" y=\"-327.7\" font-family=\"Times,serif\" font-size=\"6.00\">nonlinearity: relu</text>\n</g>\n<!-- 1&#45;&gt;0 -->\n<g id=\"edge1\" class=\"edge\">\n<title>1&#45;&gt;0</title>\n<path fill=\"none\" stroke=\"black\" d=\"M385.17,-322.53C393.77,-317.45 403.1,-311.94 412.06,-306.65\"/>\n<polygon fill=\"black\" stroke=\"black\" points=\"414.03,-309.55 420.86,-301.45 410.47,-303.52 414.03,-309.55\"/>\n</g>\n<!-- 2 -->\n<g id=\"node3\" class=\"node\">\n<title>2</title>\n<polygon fill=\"none\" stroke=\"black\" points=\"278,-428 195,-428 195,-322 278,-322 278,-428\"/>\n<text text-anchor=\"middle\" x=\"236.5\" y=\"-419.2\" font-family=\"Times,serif\" font-size=\"6.00\">Event_size</text>\n<text text-anchor=\"middle\" x=\"236.5\" y=\"-412.2\" font-family=\"Times,serif\" font-size=\"6.00\">Particle_size</text>\n<text text-anchor=\"middle\" x=\"236.5\" y=\"-405.2\" font-family=\"Times,serif\" font-size=\"6.00\">Track_size</text>\n<text text-anchor=\"middle\" x=\"236.5\" y=\"-398.2\" font-family=\"Times,serif\" font-size=\"6.00\">Tower_size</text>\n<text text-anchor=\"middle\" x=\"236.5\" y=\"-391.2\" font-family=\"Times,serif\" font-size=\"6.00\">EFlowTrack_size</text>\n<text text-anchor=\"middle\" x=\"236.5\" y=\"-384.2\" font-family=\"Times,serif\" font-size=\"6.00\">EFlowPhoton_size</text>\n<text text-anchor=\"middle\" x=\"236.5\" y=\"-377.2\" font-family=\"Times,serif\" font-size=\"6.00\">EFlowNeutralHadron_size</text>\n<text text-anchor=\"middle\" x=\"236.5\" y=\"-370.2\" font-family=\"Times,serif\" font-size=\"6.00\">Jet_size</text>\n<text text-anchor=\"middle\" x=\"236.5\" y=\"-363.2\" font-family=\"Times,serif\" font-size=\"6.00\">Electron_size</text>\n<text text-anchor=\"middle\" x=\"236.5\" y=\"-356.2\" font-family=\"Times,serif\" font-size=\"6.00\">Photon_size</text>\n<text text-anchor=\"middle\" x=\"236.5\" y=\"-349.2\" font-family=\"Times,serif\" font-size=\"6.00\">Muon_size</text>\n<text text-anchor=\"middle\" x=\"236.5\" y=\"-342.2\" font-family=\"Times,serif\" font-size=\"6.00\">FatJet_size</text>\n<text text-anchor=\"middle\" x=\"236.5\" y=\"-335.2\" font-family=\"Times,serif\" font-size=\"6.00\">MissingET_size</text>\n<text text-anchor=\"middle\" x=\"236.5\" y=\"-328.2\" font-family=\"Times,serif\" font-size=\"6.00\">ScalarHT_size</text>\n</g>\n<!-- 2&#45;&gt;1 -->\n<g id=\"edge2\" class=\"edge\">\n<title>2&#45;&gt;1</title>\n<path fill=\"none\" stroke=\"black\" d=\"M278.2,-363.27C286.56,-360.86 295.41,-358.31 303.9,-355.86\"/>\n<polygon fill=\"black\" stroke=\"black\" points=\"305.01,-359.18 313.65,-353.05 303.07,-352.45 305.01,-359.18\"/>\n</g>\n<!-- 3 -->\n<g id=\"node4\" class=\"node\">\n<title>3</title>\n<polygon fill=\"none\" stroke=\"black\" points=\"385,-272.5 314,-272.5 314,-229.5 385,-229.5 385,-272.5\"/>\n<text text-anchor=\"middle\" x=\"349.5\" y=\"-263.7\" font-family=\"Times,serif\" font-size=\"6.00\">Nested Block</text>\n<text text-anchor=\"middle\" x=\"349.5\" y=\"-256.7\" font-family=\"Times,serif\" font-size=\"6.00\">embed_dim: 64</text>\n<text text-anchor=\"middle\" x=\"349.5\" y=\"-249.7\" font-family=\"Times,serif\" font-size=\"6.00\">mode: mlp</text>\n<text text-anchor=\"middle\" x=\"349.5\" y=\"-242.7\" font-family=\"Times,serif\" font-size=\"6.00\">hidden_sizes: (64, 64)</text>\n<text text-anchor=\"middle\" x=\"349.5\" y=\"-235.7\" font-family=\"Times,serif\" font-size=\"6.00\">nonlinearity: relu</text>\n</g>\n<!-- 3&#45;&gt;0 -->\n<g id=\"edge3\" class=\"edge\">\n<title>3&#45;&gt;0</title>\n<path fill=\"none\" stroke=\"black\" d=\"M385.17,-260.91C393.5,-263.29 402.52,-265.86 411.22,-268.35\"/>\n<polygon fill=\"black\" stroke=\"black\" points=\"410.29,-271.72 420.86,-271.1 412.21,-264.99 410.29,-271.72\"/>\n</g>\n<!-- 4 -->\n<g id=\"node5\" class=\"node\">\n<title>4</title>\n<polygon fill=\"none\" stroke=\"black\" points=\"272,-303.5 201,-303.5 201,-260.5 272,-260.5 272,-303.5\"/>\n<text text-anchor=\"middle\" x=\"236.5\" y=\"-294.7\" font-family=\"Times,serif\" font-size=\"6.00\">Event</text>\n<text text-anchor=\"middle\" x=\"236.5\" y=\"-287.7\" font-family=\"Times,serif\" font-size=\"6.00\">embed_dim: 64</text>\n<text text-anchor=\"middle\" x=\"236.5\" y=\"-280.7\" font-family=\"Times,serif\" font-size=\"6.00\">mode: mlp</text>\n<text text-anchor=\"middle\" x=\"236.5\" y=\"-273.7\" font-family=\"Times,serif\" font-size=\"6.00\">hidden_sizes: (64, 64)</text>\n<text text-anchor=\"middle\" x=\"236.5\" y=\"-266.7\" font-family=\"Times,serif\" font-size=\"6.00\">nonlinearity: relu</text>\n</g>\n<!-- 4&#45;&gt;3 -->\n<g id=\"edge4\" class=\"edge\">\n<title>4&#45;&gt;3</title>\n<path fill=\"none\" stroke=\"black\" d=\"M272.01,-272.36C282.04,-269.56 293.15,-266.46 303.71,-263.51\"/>\n<polygon fill=\"black\" stroke=\"black\" points=\"304.94,-266.8 313.63,-260.74 303.05,-260.06 304.94,-266.8\"/>\n</g>\n<!-- 5 -->\n<g id=\"node6\" class=\"node\">\n<title>5</title>\n<polygon fill=\"none\" stroke=\"black\" points=\"155.5,-317 101.5,-317 101.5,-281 155.5,-281 155.5,-317\"/>\n<text text-anchor=\"middle\" x=\"128.5\" y=\"-304.7\" font-family=\"Times,serif\" font-size=\"6.00\">Jagged Block</text>\n<text text-anchor=\"middle\" x=\"128.5\" y=\"-297.7\" font-family=\"Times,serif\" font-size=\"6.00\">embed_dim: 64</text>\n<text text-anchor=\"middle\" x=\"128.5\" y=\"-290.7\" font-family=\"Times,serif\" font-size=\"6.00\">mode: lstm</text>\n</g>\n<!-- 5&#45;&gt;4 -->\n<g id=\"edge5\" class=\"edge\">\n<title>5&#45;&gt;4</title>\n<path fill=\"none\" stroke=\"black\" d=\"M155.7,-294.8C166.34,-293.09 178.92,-291.07 190.92,-289.15\"/>\n<polygon fill=\"black\" stroke=\"black\" points=\"191.48,-292.6 200.8,-287.57 190.37,-285.69 191.48,-292.6\"/>\n</g>\n<!-- 6 -->\n<g id=\"node7\" class=\"node\">\n<title>6</title>\n<polygon fill=\"none\" stroke=\"black\" points=\"61,-359.5 1,-359.5 1,-274.5 61,-274.5 61,-359.5\"/>\n<text text-anchor=\"middle\" x=\"31\" y=\"-350.7\" font-family=\"Times,serif\" font-size=\"6.00\">Event.Weight</text>\n<text text-anchor=\"middle\" x=\"31\" y=\"-343.7\" font-family=\"Times,serif\" font-size=\"6.00\">Event.Scale</text>\n<text text-anchor=\"middle\" x=\"31\" y=\"-336.7\" font-family=\"Times,serif\" font-size=\"6.00\">Event.AlphaQED</text>\n<text text-anchor=\"middle\" x=\"31\" y=\"-329.7\" font-family=\"Times,serif\" font-size=\"6.00\">Event.AlphaQCD</text>\n<text text-anchor=\"middle\" x=\"31\" y=\"-322.7\" font-family=\"Times,serif\" font-size=\"6.00\">Event.ID1</text>\n<text text-anchor=\"middle\" x=\"31\" y=\"-315.7\" font-family=\"Times,serif\" font-size=\"6.00\">Event.ID2</text>\n<text text-anchor=\"middle\" x=\"31\" y=\"-308.7\" font-family=\"Times,serif\" font-size=\"6.00\">Event.X1</text>\n<text text-anchor=\"middle\" x=\"31\" y=\"-301.7\" font-family=\"Times,serif\" font-size=\"6.00\">Event.X2</text>\n<text text-anchor=\"middle\" x=\"31\" y=\"-294.7\" font-family=\"Times,serif\" font-size=\"6.00\">Event.ScalePDF</text>\n<text text-anchor=\"middle\" x=\"31\" y=\"-287.7\" font-family=\"Times,serif\" font-size=\"6.00\">Event.PDF1</text>\n<text text-anchor=\"middle\" x=\"31\" y=\"-280.7\" font-family=\"Times,serif\" font-size=\"6.00\">Event.PDF2</text>\n</g>\n<!-- 6&#45;&gt;5 -->\n<g id=\"edge6\" class=\"edge\">\n<title>6&#45;&gt;5</title>\n<path fill=\"none\" stroke=\"black\" d=\"M61.17,-311.5C70.7,-309.71 81.39,-307.69 91.37,-305.81\"/>\n<polygon fill=\"black\" stroke=\"black\" points=\"92.25,-309.21 101.42,-303.91 90.95,-302.33 92.25,-309.21\"/>\n</g>\n<!-- 7 -->\n<g id=\"node8\" class=\"node\">\n<title>7</title>\n<polygon fill=\"none\" stroke=\"black\" points=\"272,-242.5 201,-242.5 201,-199.5 272,-199.5 272,-242.5\"/>\n<text text-anchor=\"middle\" x=\"236.5\" y=\"-233.7\" font-family=\"Times,serif\" font-size=\"6.00\">Track</text>\n<text text-anchor=\"middle\" x=\"236.5\" y=\"-226.7\" font-family=\"Times,serif\" font-size=\"6.00\">embed_dim: 64</text>\n<text text-anchor=\"middle\" x=\"236.5\" y=\"-219.7\" font-family=\"Times,serif\" font-size=\"6.00\">mode: mlp</text>\n<text text-anchor=\"middle\" x=\"236.5\" y=\"-212.7\" font-family=\"Times,serif\" font-size=\"6.00\">hidden_sizes: (64, 64)</text>\n<text text-anchor=\"middle\" x=\"236.5\" y=\"-205.7\" font-family=\"Times,serif\" font-size=\"6.00\">nonlinearity: relu</text>\n</g>\n<!-- 7&#45;&gt;3 -->\n<g id=\"edge7\" class=\"edge\">\n<title>7&#45;&gt;3</title>\n<path fill=\"none\" stroke=\"black\" d=\"M272.01,-230.33C282.04,-233.04 293.15,-236.04 303.71,-238.9\"/>\n<polygon fill=\"black\" stroke=\"black\" points=\"303.06,-242.34 313.63,-241.57 304.89,-235.59 303.06,-242.34\"/>\n</g>\n<!-- 8 -->\n<g id=\"node9\" class=\"node\">\n<title>8</title>\n<polygon fill=\"none\" stroke=\"black\" points=\"155.5,-239 101.5,-239 101.5,-203 155.5,-203 155.5,-239\"/>\n<text text-anchor=\"middle\" x=\"128.5\" y=\"-226.7\" font-family=\"Times,serif\" font-size=\"6.00\">Jagged Block</text>\n<text text-anchor=\"middle\" x=\"128.5\" y=\"-219.7\" font-family=\"Times,serif\" font-size=\"6.00\">embed_dim: 64</text>\n<text text-anchor=\"middle\" x=\"128.5\" y=\"-212.7\" font-family=\"Times,serif\" font-size=\"6.00\">mode: lstm</text>\n</g>\n<!-- 8&#45;&gt;7 -->\n<g id=\"edge8\" class=\"edge\">\n<title>8&#45;&gt;7</title>\n<path fill=\"none\" stroke=\"black\" d=\"M155.7,-221C166.23,-221 178.67,-221 190.56,-221\"/>\n<polygon fill=\"black\" stroke=\"black\" points=\"190.8,-224.5 200.8,-221 190.8,-217.5 190.8,-224.5\"/>\n</g>\n<!-- 9 -->\n<g id=\"node10\" class=\"node\">\n<title>9</title>\n<polygon fill=\"none\" stroke=\"black\" points=\"58,-256.5 4,-256.5 4,-185.5 58,-185.5 58,-256.5\"/>\n<text text-anchor=\"middle\" x=\"31\" y=\"-247.7\" font-family=\"Times,serif\" font-size=\"6.00\">Track.Charge</text>\n<text text-anchor=\"middle\" x=\"31\" y=\"-240.7\" font-family=\"Times,serif\" font-size=\"6.00\">Track.P</text>\n<text text-anchor=\"middle\" x=\"31\" y=\"-233.7\" font-family=\"Times,serif\" font-size=\"6.00\">Track.PT</text>\n<text text-anchor=\"middle\" x=\"31\" y=\"-226.7\" font-family=\"Times,serif\" font-size=\"6.00\">Track.Eta</text>\n<text text-anchor=\"middle\" x=\"31\" y=\"-219.7\" font-family=\"Times,serif\" font-size=\"6.00\">Track.Phi</text>\n<text text-anchor=\"middle\" x=\"31\" y=\"-212.7\" font-family=\"Times,serif\" font-size=\"6.00\">Track.T</text>\n<text text-anchor=\"middle\" x=\"31\" y=\"-205.7\" font-family=\"Times,serif\" font-size=\"6.00\">Track.X</text>\n<text text-anchor=\"middle\" x=\"31\" y=\"-198.7\" font-family=\"Times,serif\" font-size=\"6.00\">Track.Y</text>\n<text text-anchor=\"middle\" x=\"31\" y=\"-191.7\" font-family=\"Times,serif\" font-size=\"6.00\">Track.Z</text>\n</g>\n<!-- 9&#45;&gt;8 -->\n<g id=\"edge9\" class=\"edge\">\n<title>9&#45;&gt;8</title>\n<path fill=\"none\" stroke=\"black\" d=\"M58.1,-221C68.31,-221 80.2,-221 91.22,-221\"/>\n<polygon fill=\"black\" stroke=\"black\" points=\"91.44,-224.5 101.44,-221 91.44,-217.5 91.44,-224.5\"/>\n</g>\n<!-- 10 -->\n<g id=\"node11\" class=\"node\">\n<title>10</title>\n<polygon fill=\"none\" stroke=\"black\" points=\"272,-132.5 201,-132.5 201,-89.5 272,-89.5 272,-132.5\"/>\n<text text-anchor=\"middle\" x=\"236.5\" y=\"-123.7\" font-family=\"Times,serif\" font-size=\"6.00\">Jet</text>\n<text text-anchor=\"middle\" x=\"236.5\" y=\"-116.7\" font-family=\"Times,serif\" font-size=\"6.00\">embed_dim: 64</text>\n<text text-anchor=\"middle\" x=\"236.5\" y=\"-109.7\" font-family=\"Times,serif\" font-size=\"6.00\">mode: mlp</text>\n<text text-anchor=\"middle\" x=\"236.5\" y=\"-102.7\" font-family=\"Times,serif\" font-size=\"6.00\">hidden_sizes: (64, 64)</text>\n<text text-anchor=\"middle\" x=\"236.5\" y=\"-95.7\" font-family=\"Times,serif\" font-size=\"6.00\">nonlinearity: relu</text>\n</g>\n<!-- 10&#45;&gt;3 -->\n<g id=\"edge10\" class=\"edge\">\n<title>10&#45;&gt;3</title>\n<path fill=\"none\" stroke=\"black\" d=\"M254.6,-132.57C273.45,-156.34 303.89,-194.73 324.98,-221.33\"/>\n<polygon fill=\"black\" stroke=\"black\" points=\"322.24,-223.52 331.2,-229.18 327.73,-219.17 322.24,-223.52\"/>\n</g>\n<!-- 11 -->\n<g id=\"node12\" class=\"node\">\n<title>11</title>\n<polygon fill=\"none\" stroke=\"black\" points=\"155.5,-129 101.5,-129 101.5,-93 155.5,-93 155.5,-129\"/>\n<text text-anchor=\"middle\" x=\"128.5\" y=\"-116.7\" font-family=\"Times,serif\" font-size=\"6.00\">Jagged Block</text>\n<text text-anchor=\"middle\" x=\"128.5\" y=\"-109.7\" font-family=\"Times,serif\" font-size=\"6.00\">embed_dim: 64</text>\n<text text-anchor=\"middle\" x=\"128.5\" y=\"-102.7\" font-family=\"Times,serif\" font-size=\"6.00\">mode: lstm</text>\n</g>\n<!-- 11&#45;&gt;10 -->\n<g id=\"edge11\" class=\"edge\">\n<title>11&#45;&gt;10</title>\n<path fill=\"none\" stroke=\"black\" d=\"M155.7,-111C166.23,-111 178.67,-111 190.56,-111\"/>\n<polygon fill=\"black\" stroke=\"black\" points=\"190.8,-114.5 200.8,-111 190.8,-107.5 190.8,-114.5\"/>\n</g>\n<!-- 12 -->\n<g id=\"node13\" class=\"node\">\n<title>12</title>\n<polygon fill=\"none\" stroke=\"black\" points=\"62,-167.5 0,-167.5 0,-54.5 62,-54.5 62,-167.5\"/>\n<text text-anchor=\"middle\" x=\"31\" y=\"-158.7\" font-family=\"Times,serif\" font-size=\"6.00\">Jet.PT</text>\n<text text-anchor=\"middle\" x=\"31\" y=\"-151.7\" font-family=\"Times,serif\" font-size=\"6.00\">Jet.Eta</text>\n<text text-anchor=\"middle\" x=\"31\" y=\"-144.7\" font-family=\"Times,serif\" font-size=\"6.00\">Jet.Phi</text>\n<text text-anchor=\"middle\" x=\"31\" y=\"-137.7\" font-family=\"Times,serif\" font-size=\"6.00\">Jet.T</text>\n<text text-anchor=\"middle\" x=\"31\" y=\"-130.7\" font-family=\"Times,serif\" font-size=\"6.00\">Jet.Mass</text>\n<text text-anchor=\"middle\" x=\"31\" y=\"-123.7\" font-family=\"Times,serif\" font-size=\"6.00\">Jet.DeltaEta</text>\n<text text-anchor=\"middle\" x=\"31\" y=\"-116.7\" font-family=\"Times,serif\" font-size=\"6.00\">Jet.DeltaPhi</text>\n<text text-anchor=\"middle\" x=\"31\" y=\"-109.7\" font-family=\"Times,serif\" font-size=\"6.00\">Jet.TauTag</text>\n<text text-anchor=\"middle\" x=\"31\" y=\"-102.7\" font-family=\"Times,serif\" font-size=\"6.00\">Jet.Charge</text>\n<text text-anchor=\"middle\" x=\"31\" y=\"-95.7\" font-family=\"Times,serif\" font-size=\"6.00\">Jet.EhadOverEem</text>\n<text text-anchor=\"middle\" x=\"31\" y=\"-88.7\" font-family=\"Times,serif\" font-size=\"6.00\">Jet.NCharged</text>\n<text text-anchor=\"middle\" x=\"31\" y=\"-81.7\" font-family=\"Times,serif\" font-size=\"6.00\">Jet.NNeutrals</text>\n<text text-anchor=\"middle\" x=\"31\" y=\"-74.7\" font-family=\"Times,serif\" font-size=\"6.00\">Jet.Beta</text>\n<text text-anchor=\"middle\" x=\"31\" y=\"-67.7\" font-family=\"Times,serif\" font-size=\"6.00\">Jet.BetaStar</text>\n<text text-anchor=\"middle\" x=\"31\" y=\"-60.7\" font-family=\"Times,serif\" font-size=\"6.00\">Jet.MeanSqDeltaR</text>\n</g>\n<!-- 12&#45;&gt;11 -->\n<g id=\"edge12\" class=\"edge\">\n<title>12&#45;&gt;11</title>\n<path fill=\"none\" stroke=\"black\" d=\"M62.22,-111C71.45,-111 81.69,-111 91.28,-111\"/>\n<polygon fill=\"black\" stroke=\"black\" points=\"91.34,-114.5 101.34,-111 91.34,-107.5 91.34,-114.5\"/>\n</g>\n<!-- 13 -->\n<g id=\"node14\" class=\"node\">\n<title>13</title>\n<polygon fill=\"none\" stroke=\"black\" points=\"159,-56 98,-56 98,-20 159,-20 159,-56\"/>\n<text text-anchor=\"middle\" x=\"128.5\" y=\"-47.2\" font-family=\"Times,serif\" font-size=\"6.00\">Object Block</text>\n<text text-anchor=\"middle\" x=\"128.5\" y=\"-40.2\" font-family=\"Times,serif\" font-size=\"6.00\">embed_dim: 64</text>\n<text text-anchor=\"middle\" x=\"128.5\" y=\"-33.2\" font-family=\"Times,serif\" font-size=\"6.00\">mode: vanilla_rnn</text>\n<text text-anchor=\"middle\" x=\"128.5\" y=\"-26.2\" font-family=\"Times,serif\" font-size=\"6.00\">nonlinearity: relu</text>\n</g>\n<!-- 13&#45;&gt;10 -->\n<g id=\"edge13\" class=\"edge\">\n<title>13&#45;&gt;10</title>\n<path fill=\"none\" stroke=\"black\" d=\"M155.7,-56.04C167.67,-64.29 182.12,-74.24 195.41,-83.39\"/>\n<polygon fill=\"black\" stroke=\"black\" points=\"193.72,-86.47 203.94,-89.26 197.69,-80.71 193.72,-86.47\"/>\n</g>\n<!-- 14 -->\n<g id=\"node15\" class=\"node\">\n<title>14</title>\n<polygon fill=\"none\" stroke=\"black\" points=\"58,-36 4,-36 4,0 58,0 58,-36\"/>\n<text text-anchor=\"middle\" x=\"31\" y=\"-20.2\" font-family=\"Times,serif\" font-size=\"6.00\">Jet.Constituents</text>\n<text text-anchor=\"middle\" x=\"31\" y=\"-13.2\" font-family=\"Times,serif\" font-size=\"6.00\">Jet.Particles</text>\n</g>\n<!-- 14&#45;&gt;13 -->\n<g id=\"edge14\" class=\"edge\">\n<title>14&#45;&gt;13</title>\n<path fill=\"none\" stroke=\"black\" d=\"M58.1,-23.47C67.29,-25.39 77.85,-27.6 87.9,-29.71\"/>\n<polygon fill=\"black\" stroke=\"black\" points=\"87.22,-33.14 97.73,-31.76 88.65,-26.29 87.22,-33.14\"/>\n</g>\n</g>\n</svg>\n"
     },
     "execution_count": 5,
     "metadata": {},
     "output_type": "execute_result"
    }
   ],
   "source": [
    "from awkwardNN.visualize_network import visualize_network\n",
    "import awkwardNN.utils.yaml_utils as yaml_utils\n",
    "yaml_filename = '../test_qcd_1000_demo.yaml'\n",
    "yaml_dict = yaml_utils.get_yaml_dict_list(yaml_filename)\n",
    "graph = visualize_network(yaml_dict, fontsize=6)\n",
    "graph\n",
    "\n",
    "\n",
    "\n"
   ],
   "metadata": {
    "collapsed": false,
    "pycharm": {
     "name": "#%%\n"
    }
   }
  }
 ],
 "metadata": {
  "kernelspec": {
   "display_name": "Python 3",
   "language": "python",
   "name": "python3"
  },
  "language_info": {
   "codemirror_mode": {
    "name": "ipython",
    "version": 2
   },
   "file_extension": ".py",
   "mimetype": "text/x-python",
   "name": "python",
   "nbconvert_exporter": "python",
   "pygments_lexer": "ipython2",
   "version": "2.7.6"
  }
 },
 "nbformat": 4,
 "nbformat_minor": 0
}