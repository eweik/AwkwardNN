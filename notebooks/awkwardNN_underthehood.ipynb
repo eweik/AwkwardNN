{
 "cells": [
  {
   "cell_type": "markdown",
   "metadata": {
    "collapsed": true,
    "pycharm": {
     "name": "#%% md\n"
    }
   },
   "source": [
    "# AwkwardNN Under the Hood\n",
    "\n",
    "- In this notebook, I explain how AwkwardNN processes the fields\n",
    "from a given root file and yaml file. I will not how show much\n",
    "python code here, that can be seen in the python files.\n",
    "\n",
    "    - Note: all the field names in the yaml file must correspond\n",
    "    to field names in the root file\n",
    "\n",
    "- To be concrete, I will look specifically at some of the fields in\n",
    "`test_ttbar_1000.root`\n",
    "\n",
    "## Overview of AwkwardNN Structure\n",
    "\n",
    "- An AwkwardNN subblock is a network block with four different\n",
    "types of subnetworks (each corresponding to a different data\n",
    "structure interpretation from `uproot`):\n",
    "    - a fixed network\n",
    "    - a jagged network\n",
    "    - an object network\n",
    "    - a nested network\n",
    "\n",
    "The yaml file is essentially one big AwkwardNN subblock\n"
   ]
  },
  {
   "cell_type": "code",
   "execution_count": 3,
   "outputs": [],
   "source": [
    "import uproot\n",
    "from awkwardNN.utils.dataset_utils_uproot import get_events_from_tree\n",
    "\n",
    "tree = uproot.open(\"../data/test_ttbar_1000.root\")['Delphes']"
   ],
   "metadata": {
    "collapsed": false,
    "pycharm": {
     "name": "#%%\n"
    }
   }
  },
  {
   "cell_type": "markdown",
   "source": [
    "## Fixed Network Block\n",
    "\n",
    "- Possible modes: `mlp` or `deepset`\n",
    "\n",
    "- Takes as input arrays of fixed length, data structures interpreted\n",
    "as fixed by `uproot`\n",
    "\n",
    "- Feeds forward like a normal neural network or deepset model\n",
    "\n",
    "- this deepset model consists of 2 networks:\n",
    "    - the first network takes each individual element of an array\n",
    "    as its input\n",
    "    - the second network takes, as it input, an array whose elements\n",
    "    are the element-wise sum of the outputs from the first network\n",
    "\n",
    "- The output is an array whose length is specified by `embed_dim` key\n",
    "in the yaml file"
   ],
   "metadata": {
    "collapsed": false,
    "pycharm": {
     "name": "#%% md\n"
    }
   }
  },
  {
   "cell_type": "code",
   "execution_count": 7,
   "outputs": [
    {
     "name": "stdout",
     "output_type": "stream",
     "text": [
      "Event 1: [[  4. 737.   0.   1.]]\n",
      "Event 2: [[  2. 682.   0.   1.]]\n",
      "Event 3: [[4.000e+00 1.267e+03 0.000e+00 1.000e+00]]\n",
      "Event 4: [[4.00e+00 1.39e+03 0.00e+00 1.00e+00]]\n",
      "Event 5: [[  3. 792.   0.   1.]]\n"
     ]
    }
   ],
   "source": [
    "# Example of fixed data\n",
    "\n",
    "fixed_fields = ['Jet_size', 'Particle_size', 'Muon_size', 'Event_size']\n",
    "fixed_data = get_events_from_tree(tree, fixed_fields)\n",
    "\n",
    "for i in range(5):\n",
    "    print(\"Event {}: {}\".format(i+1, fixed_data[i]))\n"
   ],
   "metadata": {
    "collapsed": false,
    "pycharm": {
     "name": "#%%\n"
    }
   }
  },
  {
   "cell_type": "markdown",
   "source": [
    "## Jagged Network Block\n",
    "\n",
    "- Possible modes: `lstm`, `gru`, `vanilla_rnn`, or `deepset`\n",
    "\n",
    "- Takes as input arrays of data structures interpreted as jagged\n",
    "by `uproot`\n",
    "\n",
    "- Feeds forward like a recurrent neural network or deepset model\n",
    "\n",
    "- this deepset model consists of 2 networks:\n",
    "    - the first network takes arrays of fixed length as its input\n",
    "    - the second network takes the element-wise sum of all the\n",
    "    outputs from the first network as its input\n",
    "\n",
    "- The output is an array whose length is specified by `embed_dim` key\n",
    "in the yaml file. If the mode is an RNN-style network, then `embed_dim`\n",
    "also corresponds to size of the _hidden-state_ for the RNN.\n"
   ],
   "metadata": {
    "collapsed": false,
    "pycharm": {
     "name": "#%% md\n"
    }
   }
  },
  {
   "cell_type": "code",
   "execution_count": 14,
   "outputs": [
    {
     "name": "stdout",
     "output_type": "stream",
     "text": [
      "Event 1: [[206.97768      0.27329388   0.88772887]\n",
      " [179.3755      -0.33246595  -2.410344  ]\n",
      " [ 10.840576     0.49002475  -0.22583866]\n",
      " [ 14.236657     3.0309205   -1.910816  ]]\n",
      "\n",
      "Event 2: [[ 1.8059798e+02 -1.5793906e-01  1.7673397e+00]\n",
      " [ 1.3346812e+02  4.8330280e-01 -1.3502347e+00]]\n",
      "\n",
      "Event 3: [[ 2.1601949e+02  7.0078456e-01  3.0060477e+00]\n",
      " [ 1.6780676e+02  3.7452587e-01 -1.4007255e-01]\n",
      " [ 8.5620213e+00  3.4654589e+00 -2.3441007e+00]\n",
      " [ 7.6187215e+00  1.8378289e-01 -1.2875067e+00]]\n",
      "\n",
      "Event 4: [[ 1.9607657e+02  2.4927530e-01  2.6330438e+00]\n",
      " [ 1.6945067e+02 -4.2195076e-01 -2.9567575e-01]\n",
      " [ 6.0668121e+01 -1.1219054e-01 -2.1356351e+00]\n",
      " [ 1.4513953e+01  2.9882538e+00 -9.5511639e-01]]\n",
      "\n",
      "Event 5: [[185.33188     -0.9398658    1.6659472 ]\n",
      " [215.28633     -0.81829405  -1.5329396 ]\n",
      " [ 13.394765     2.9998572    0.36809367]]\n",
      "\n"
     ]
    }
   ],
   "source": [
    "# Example of jagged data\n",
    "\n",
    "jagged_fields = ['Jet.Mass', 'Jet.Eta', 'Jet.Phi']\n",
    "jagged_data = get_events_from_tree(tree, jagged_fields)\n",
    "\n",
    "for i in range(5):\n",
    "    print(\"Event {}: {}\\n\".format(i+1, jagged_data[i]))"
   ],
   "metadata": {
    "collapsed": false,
    "pycharm": {
     "name": "#%%\n"
    }
   }
  },
  {
   "cell_type": "markdown",
   "source": [
    "## Object Network Block\n",
    "\n",
    "- Possible modes: `lstm`, `gru`, `vanilla_rnn`, or `deepset`\n",
    "\n",
    "- Takes as input arrays of data structures interpreted as object\n",
    "by `uproot`\n",
    "\n",
    "- Distinct from jagged arrays in that not only does each event\n",
    "have a varying number of say jets, but each jet also has a\n",
    "varying number of say particles or constituents. So it is variable on\n",
    "two levels, whereas jagged arrays are variable on one level.\n",
    "\n",
    "- Ad-hoc: feeds forward like a modified recurrent neural network\n",
    "or deepset model\n",
    "\n",
    "- Modified RNN consists of 2 RNNs stacked on top of each other:\n",
    "    - the first RNN takes as input each subevent (e.g. jet or particle\n",
    "    in an event) and sequentially processes it one element at a time.\n",
    "    It returns a hidden state for each subevent.\n",
    "    - the second RNN takes as input the all the hidden states from\n",
    "    the first RNN, processing them sequentially one at a time.\n",
    "    Its output is another hidden state.\n",
    "\n",
    "- this deepset model consists of 2 standard deepset models stacked\n",
    "on top of each other:\n",
    "    - the first network takes each subevent, feeds forward through\n",
    "    its phi network one element at time, element-wise sums the\n",
    "    outputs from the phi network, and then feeds forward through\n",
    "    its rho network.\n",
    "    - the second network takes the outputs from each subevent\n",
    "    as its inputs, passes each one through its phi network, sums\n",
    "    the latent state for each subevent, then feeds forward through\n",
    "    its rho network."
   ],
   "metadata": {
    "collapsed": false,
    "pycharm": {
     "name": "#%% md\n"
    }
   }
  },
  {
   "cell_type": "code",
   "execution_count": 17,
   "outputs": [
    {
     "name": "stderr",
     "output_type": "stream",
     "text": [
      "/Users/edisonweik/.pyenv/versions/3.6.11/lib/python3.6/site-packages/awkward/array/base.py:394: VisibleDeprecationWarning: Creating an ndarray from ragged nested sequences (which is a list-or-tuple of lists-or-tuples-or ndarrays with different lengths or shapes) is deprecated. If you meant to do this, you must specify 'dtype=object' when creating the ndarray\n",
      "  return cls.numpy.array(value, copy=False)\n"
     ]
    },
    {
     "name": "stdout",
     "output_type": "stream",
     "text": [
      "Event 1\n",
      "107 [array([[1398.]], dtype=float32), array([[1428.]], dtype=float32), array([[1275.]], dtype=float32), array([[1427.]], dtype=float32), array([[1413.]], dtype=float32), array([[1268.]], dtype=float32), array([[1452.]], dtype=float32), array([[1260.]], dtype=float32), array([[1443.]], dtype=float32), array([[1441.]], dtype=float32), array([[1448.]], dtype=float32), array([[1246.]], dtype=float32), array([[1442.]], dtype=float32), array([[1250.]], dtype=float32), array([[1439.]], dtype=float32), array([[1446.]], dtype=float32), array([[1254.]], dtype=float32), array([[1444.]], dtype=float32), array([[1445.]], dtype=float32), array([[1415.]], dtype=float32), array([[1421.]], dtype=float32), array([[1227.]], dtype=float32), array([[1230.]], dtype=float32), array([[1419.]], dtype=float32), array([[1417.]], dtype=float32), array([[1430.]], dtype=float32), array([[1393.]], dtype=float32), array([[1207.]], dtype=float32), array([[1396.]], dtype=float32), array([[1391.]], dtype=float32), array([[1395.]], dtype=float32), array([[1411.]], dtype=float32), array([[1400.]], dtype=float32), array([[1394.]], dtype=float32), array([[1224.]], dtype=float32), array([[1222.]], dtype=float32), array([[1403.]], dtype=float32), array([[1219.]], dtype=float32), array([[1205.]], dtype=float32), array([[1402.]], dtype=float32), array([[1406.]], dtype=float32), array([[1212.]], dtype=float32), array([[1210.]], dtype=float32), array([[1404.]], dtype=float32), array([[1217.]], dtype=float32), array([[1408.]], dtype=float32), array([[1407.]], dtype=float32), array([[1215.]], dtype=float32), array([[375.]], dtype=float32), array([[503.]], dtype=float32), array([[687.]], dtype=float32), array([[503.]], dtype=float32), array([[587.]], dtype=float32), array([[685.]], dtype=float32), array([[507.]], dtype=float32), array([[648.]], dtype=float32), array([[694.]], dtype=float32), array([[594.]], dtype=float32), array([[690.]], dtype=float32), array([[692.]], dtype=float32), array([[694.]], dtype=float32), array([[728.]], dtype=float32), array([[729.]], dtype=float32), array([[732.]], dtype=float32), array([[594.]], dtype=float32), array([[737.]], dtype=float32), array([[693.]], dtype=float32), array([[690.]], dtype=float32), array([[736.]], dtype=float32), array([[692.]], dtype=float32), array([[728.]], dtype=float32), array([[505.]], dtype=float32), array([[352.]], dtype=float32), array([[568.]], dtype=float32), array([[651.]], dtype=float32), array([[646.]], dtype=float32), array([[647.]], dtype=float32), array([[353.]], dtype=float32), array([[356.]], dtype=float32), array([[636.]], dtype=float32), array([[567.]], dtype=float32), array([[499.]], dtype=float32), array([[357.]], dtype=float32), array([[637.]], dtype=float32), array([[500.]], dtype=float32), array([[569.]], dtype=float32), array([[306.]], dtype=float32), array([[679.]], dtype=float32), array([[677.]], dtype=float32), array([[288.]], dtype=float32), array([[580.]], dtype=float32), array([[676.]], dtype=float32), array([[576.]], dtype=float32), array([[288.]], dtype=float32), array([[481.]], dtype=float32), array([[482.]], dtype=float32), array([[572.]], dtype=float32), array([[570.]], dtype=float32), array([[575.]], dtype=float32), array([[548.]], dtype=float32), array([[549.]], dtype=float32), array([[572.]], dtype=float32), array([[579.]], dtype=float32), array([[573.]], dtype=float32), array([[361.]], dtype=float32), array([[577.]], dtype=float32), array([[578.]], dtype=float32)]\n",
      "140 [array([[1324.]], dtype=float32), array([[1322.]], dtype=float32), array([[1321.]], dtype=float32), array([[1334.]], dtype=float32), array([[1464.]], dtype=float32), array([[1319.]], dtype=float32), array([[1326.]], dtype=float32), array([[1389.]], dtype=float32), array([[1381.]], dtype=float32), array([[1385.]], dtype=float32), array([[1379.]], dtype=float32), array([[1380.]], dtype=float32), array([[1179.]], dtype=float32), array([[1383.]], dtype=float32), array([[1384.]], dtype=float32), array([[1183.]], dtype=float32), array([[1100.]], dtype=float32), array([[1197.]], dtype=float32), array([[1328.]], dtype=float32), array([[1102.]], dtype=float32), array([[1337.]], dtype=float32), array([[1330.]], dtype=float32), array([[1113.]], dtype=float32), array([[1346.]], dtype=float32), array([[1366.]], dtype=float32), array([[1387.]], dtype=float32), array([[1163.]], dtype=float32), array([[1194.]], dtype=float32), array([[1167.]], dtype=float32), array([[1172.]], dtype=float32), array([[1159.]], dtype=float32), array([[1169.]], dtype=float32), array([[1118.]], dtype=float32), array([[1364.]], dtype=float32), array([[1150.]], dtype=float32), array([[1121.]], dtype=float32), array([[1123.]], dtype=float32), array([[1342.]], dtype=float32), array([[1340.]], dtype=float32), array([[1133.]], dtype=float32), array([[1135.]], dtype=float32), array([[1339.]], dtype=float32), array([[1141.]], dtype=float32), array([[1131.]], dtype=float32), array([[1349.]], dtype=float32), array([[1335.]], dtype=float32), array([[1138.]], dtype=float32), array([[1344.]], dtype=float32), array([[1143.]], dtype=float32), array([[1351.]], dtype=float32), array([[1377.]], dtype=float32), array([[1187.]], dtype=float32), array([[1372.]], dtype=float32), array([[1376.]], dtype=float32), array([[1371.]], dtype=float32), array([[1153.]], dtype=float32), array([[1347.]], dtype=float32), array([[1357.]], dtype=float32), array([[1368.]], dtype=float32), array([[1370.]], dtype=float32), array([[1374.]], dtype=float32), array([[1359.]], dtype=float32), array([[1353.]], dtype=float32), array([[1355.]], dtype=float32), array([[1157.]], dtype=float32), array([[1361.]], dtype=float32), array([[1360.]], dtype=float32), array([[1362.]], dtype=float32), array([[458.]], dtype=float32), array([[509.]], dtype=float32), array([[509.]], dtype=float32), array([[606.]], dtype=float32), array([[662.]], dtype=float32), array([[404.]], dtype=float32), array([[407.]], dtype=float32), array([[733.]], dtype=float32), array([[524.]], dtype=float32), array([[719.]], dtype=float32), array([[720.]], dtype=float32), array([[717.]], dtype=float32), array([[734.]], dtype=float32), array([[454.]], dtype=float32), array([[718.]], dtype=float32), array([[735.]], dtype=float32), array([[652.]], dtype=float32), array([[656.]], dtype=float32), array([[406.]], dtype=float32), array([[701.]], dtype=float32), array([[672.]], dtype=float32), array([[599.]], dtype=float32), array([[699.]], dtype=float32), array([[433.]], dtype=float32), array([[519.]], dtype=float32), array([[431.]], dtype=float32), array([[621.]], dtype=float32), array([[614.]], dtype=float32), array([[715.]], dtype=float32), array([[619.]], dtype=float32), array([[714.]], dtype=float32), array([[710.]], dtype=float32), array([[612.]], dtype=float32), array([[523.]], dtype=float32), array([[620.]], dtype=float32), array([[705.]], dtype=float32), array([[610.]], dtype=float32), array([[602.]], dtype=float32), array([[410.]], dtype=float32), array([[707.]], dtype=float32), array([[611.]], dtype=float32), array([[416.]], dtype=float32), array([[711.]], dtype=float32), array([[604.]], dtype=float32), array([[706.]], dtype=float32), array([[607.]], dtype=float32), array([[606.]], dtype=float32), array([[605.]], dtype=float32), array([[601.]], dtype=float32), array([[655.]], dtype=float32), array([[411.]], dtype=float32), array([[522.]], dtype=float32), array([[613.]], dtype=float32), array([[424.]], dtype=float32), array([[512.]], dtype=float32), array([[520.]], dtype=float32), array([[654.]], dtype=float32), array([[511.]], dtype=float32), array([[418.]], dtype=float32), array([[517.]], dtype=float32), array([[427.]], dtype=float32), array([[515.]], dtype=float32), array([[417.]], dtype=float32), array([[425.]], dtype=float32), array([[513.]], dtype=float32), array([[514.]], dtype=float32), array([[518.]], dtype=float32), array([[423.]], dtype=float32), array([[609.]], dtype=float32), array([[417.]], dtype=float32), array([[513.]], dtype=float32), array([[425.]], dtype=float32)]\n",
      "20 [array([[1454.]], dtype=float32), array([[1266.]], dtype=float32), array([[1270.]], dtype=float32), array([[1450.]], dtype=float32), array([[1423.]], dtype=float32), array([[1433.]], dtype=float32), array([[1425.]], dtype=float32), array([[1437.]], dtype=float32), array([[1432.]], dtype=float32), array([[1435.]], dtype=float32), array([[379.]], dtype=float32), array([[581.]], dtype=float32), array([[582.]], dtype=float32), array([[299.]], dtype=float32), array([[502.]], dtype=float32), array([[300.]], dtype=float32), array([[480.]], dtype=float32), array([[501.]], dtype=float32), array([[479.]], dtype=float32), array([[297.]], dtype=float32)]\n",
      "25 [array([[1286.]], dtype=float32), array([[1488.]], dtype=float32), array([[1471.]], dtype=float32), array([[1469.]], dtype=float32), array([[1485.]], dtype=float32), array([[1473.]], dtype=float32), array([[1477.]], dtype=float32), array([[1290.]], dtype=float32), array([[1475.]], dtype=float32), array([[1481.]], dtype=float32), array([[1483.]], dtype=float32), array([[561.]], dtype=float32), array([[292.]], dtype=float32), array([[333.]], dtype=float32), array([[328.]], dtype=float32), array([[670.]], dtype=float32), array([[490.]], dtype=float32), array([[312.]], dtype=float32), array([[489.]], dtype=float32), array([[550.]], dtype=float32), array([[551.]], dtype=float32), array([[671.]], dtype=float32), array([[545.]], dtype=float32), array([[294.]], dtype=float32), array([[311.]], dtype=float32)]\n",
      "\n",
      "Event 2\n",
      "126 [array([[1375.]], dtype=float32), array([[1373.]], dtype=float32), array([[1236.]], dtype=float32), array([[1326.]], dtype=float32), array([[1332.]], dtype=float32), array([[1322.]], dtype=float32), array([[1288.]], dtype=float32), array([[1324.]], dtype=float32), array([[1128.]], dtype=float32), array([[1327.]], dtype=float32), array([[1320.]], dtype=float32), array([[1328.]], dtype=float32), array([[1323.]], dtype=float32), array([[1314.]], dtype=float32), array([[1309.]], dtype=float32), array([[1286.]], dtype=float32), array([[1301.]], dtype=float32), array([[1316.]], dtype=float32), array([[1094.]], dtype=float32), array([[1312.]], dtype=float32), array([[1298.]], dtype=float32), array([[1096.]], dtype=float32), array([[1310.]], dtype=float32), array([[1089.]], dtype=float32), array([[1300.]], dtype=float32), array([[1278.]], dtype=float32), array([[1249.]], dtype=float32), array([[1303.]], dtype=float32), array([[1078.]], dtype=float32), array([[1080.]], dtype=float32), array([[1251.]], dtype=float32), array([[1076.]], dtype=float32), array([[1290.]], dtype=float32), array([[1030.]], dtype=float32), array([[1272.]], dtype=float32), array([[1255.]], dtype=float32), array([[1061.]], dtype=float32), array([[1253.]], dtype=float32), array([[1048.]], dtype=float32), array([[1038.]], dtype=float32), array([[1265.]], dtype=float32), array([[1247.]], dtype=float32), array([[1256.]], dtype=float32), array([[1259.]], dtype=float32), array([[1036.]], dtype=float32), array([[1043.]], dtype=float32), array([[1028.]], dtype=float32), array([[1276.]], dtype=float32), array([[1258.]], dtype=float32), array([[1045.]], dtype=float32), array([[1274.]], dtype=float32), array([[1058.]], dtype=float32), array([[1262.]], dtype=float32), array([[1056.]], dtype=float32), array([[1267.]], dtype=float32), array([[1268.]], dtype=float32), array([[1261.]], dtype=float32), array([[1263.]], dtype=float32), array([[1266.]], dtype=float32), array([[1054.]], dtype=float32), array([[563.]], dtype=float32), array([[562.]], dtype=float32), array([[403.]], dtype=float32), array([[623.]], dtype=float32), array([[444.]], dtype=float32), array([[278.]], dtype=float32), array([[445.]], dtype=float32), array([[469.]], dtype=float32), array([[445.]], dtype=float32), array([[514.]], dtype=float32), array([[442.]], dtype=float32), array([[622.]], dtype=float32), array([[280.]], dtype=float32), array([[278.]], dtype=float32), array([[472.]], dtype=float32), array([[286.]], dtype=float32), array([[471.]], dtype=float32), array([[349.]], dtype=float32), array([[282.]], dtype=float32), array([[608.]], dtype=float32), array([[446.]], dtype=float32), array([[443.]], dtype=float32), array([[607.]], dtype=float32), array([[286.]], dtype=float32), array([[606.]], dtype=float32), array([[475.]], dtype=float32), array([[558.]], dtype=float32), array([[343.]], dtype=float32), array([[473.]], dtype=float32), array([[537.]], dtype=float32), array([[538.]], dtype=float32), array([[467.]], dtype=float32), array([[515.]], dtype=float32), array([[401.]], dtype=float32), array([[555.]], dtype=float32), array([[557.]], dtype=float32), array([[337.]], dtype=float32), array([[603.]], dtype=float32), array([[465.]], dtype=float32), array([[602.]], dtype=float32), array([[534.]], dtype=float32), array([[344.]], dtype=float32), array([[466.]], dtype=float32), array([[337.]], dtype=float32), array([[339.]], dtype=float32), array([[536.]], dtype=float32), array([[605.]], dtype=float32), array([[535.]], dtype=float32), array([[487.]], dtype=float32), array([[338.]], dtype=float32), array([[339.]], dtype=float32), array([[556.]], dtype=float32), array([[486.]], dtype=float32), array([[665.]], dtype=float32), array([[427.]], dtype=float32), array([[628.]], dtype=float32), array([[666.]], dtype=float32), array([[428.]], dtype=float32), array([[506.]], dtype=float32), array([[398.]], dtype=float32), array([[427.]], dtype=float32), array([[625.]], dtype=float32), array([[664.]], dtype=float32), array([[625.]], dtype=float32), array([[504.]], dtype=float32), array([[627.]], dtype=float32)]\n",
      "132 [array([[1280.]], dtype=float32), array([[1282.]], dtype=float32), array([[1284.]], dtype=float32), array([[1100.]], dtype=float32), array([[1294.]], dtype=float32), array([[1270.]], dtype=float32), array([[1105.]], dtype=float32), array([[1084.]], dtype=float32), array([[1292.]], dtype=float32), array([[1296.]], dtype=float32), array([[1086.]], dtype=float32), array([[1102.]], dtype=float32), array([[1318.]], dtype=float32), array([[1108.]], dtype=float32), array([[1113.]], dtype=float32), array([[1306.]], dtype=float32), array([[1111.]], dtype=float32), array([[1135.]], dtype=float32), array([[1340.]], dtype=float32), array([[1125.]], dtype=float32), array([[1132.]], dtype=float32), array([[1334.]], dtype=float32), array([[1330.]], dtype=float32), array([[1369.]], dtype=float32), array([[1336.]], dtype=float32), array([[1338.]], dtype=float32), array([[1151.]], dtype=float32), array([[1143.]], dtype=float32), array([[1344.]], dtype=float32), array([[1356.]], dtype=float32), array([[1195.]], dtype=float32), array([[1192.]], dtype=float32), array([[1353.]], dtype=float32), array([[1365.]], dtype=float32), array([[1350.]], dtype=float32), array([[1184.]], dtype=float32), array([[1171.]], dtype=float32), array([[1168.]], dtype=float32), array([[1360.]], dtype=float32), array([[1186.]], dtype=float32), array([[1359.]], dtype=float32), array([[1188.]], dtype=float32), array([[1358.]], dtype=float32), array([[1173.]], dtype=float32), array([[1182.]], dtype=float32), array([[1351.]], dtype=float32), array([[1362.]], dtype=float32), array([[1005.]], dtype=float32), array([[1367.]], dtype=float32), array([[1366.]], dtype=float32), array([[1178.]], dtype=float32), array([[1361.]], dtype=float32), array([[1363.]], dtype=float32), array([[1342.]], dtype=float32), array([[1348.]], dtype=float32), array([[1164.]], dtype=float32), array([[1162.]], dtype=float32), array([[1156.]], dtype=float32), array([[1158.]], dtype=float32), array([[1346.]], dtype=float32), array([[1347.]], dtype=float32), array([[438.]], dtype=float32), array([[433.]], dtype=float32), array([[435.]], dtype=float32), array([[510.]], dtype=float32), array([[267.]], dtype=float32), array([[598.]], dtype=float32), array([[509.]], dtype=float32), array([[589.]], dtype=float32), array([[600.]], dtype=float32), array([[437.]], dtype=float32), array([[511.]], dtype=float32), array([[587.]], dtype=float32), array([[439.]], dtype=float32), array([[583.]], dtype=float32), array([[585.]], dtype=float32), array([[480.]], dtype=float32), array([[586.]], dtype=float32), array([[548.]], dtype=float32), array([[482.]], dtype=float32), array([[590.]], dtype=float32), array([[643.]], dtype=float32), array([[449.]], dtype=float32), array([[543.]], dtype=float32), array([[478.]], dtype=float32), array([[295.]], dtype=float32), array([[601.]], dtype=float32), array([[546.]], dtype=float32), array([[518.]], dtype=float32), array([[365.]], dtype=float32), array([[374.]], dtype=float32), array([[520.]], dtype=float32), array([[612.]], dtype=float32), array([[450.]], dtype=float32), array([[298.]], dtype=float32), array([[674.]], dtype=float32), array([[678.]], dtype=float32), array([[452.]], dtype=float32), array([[593.]], dtype=float32), array([[613.]], dtype=float32), array([[592.]], dtype=float32), array([[451.]], dtype=float32), array([[671.]], dtype=float32), array([[453.]], dtype=float32), array([[519.]], dtype=float32), array([[299.]], dtype=float32), array([[451.]], dtype=float32), array([[453.]], dtype=float32), array([[630.]], dtype=float32), array([[633.]], dtype=float32), array([[670.]], dtype=float32), array([[680.]], dtype=float32), array([[452.]], dtype=float32), array([[299.]], dtype=float32), array([[667.]], dtype=float32), array([[298.]], dtype=float32), array([[674.]], dtype=float32), array([[672.]], dtype=float32), array([[673.]], dtype=float32), array([[633.]], dtype=float32), array([[630.]], dtype=float32), array([[542.]], dtype=float32), array([[479.]], dtype=float32), array([[540.]], dtype=float32), array([[541.]], dtype=float32), array([[539.]], dtype=float32), array([[663.]], dtype=float32), array([[660.]], dtype=float32), array([[661.]], dtype=float32), array([[662.]], dtype=float32), array([[363.]], dtype=float32), array([[366.]], dtype=float32)]\n",
      "\n",
      "Event 3\n",
      "148 [array([[2439.]], dtype=float32), array([[2399.]], dtype=float32), array([[2394.]], dtype=float32), array([[2401.]], dtype=float32), array([[2405.]], dtype=float32), array([[2107.]], dtype=float32), array([[2355.]], dtype=float32), array([[2104.]], dtype=float32), array([[2352.]], dtype=float32), array([[2334.]], dtype=float32), array([[2370.]], dtype=float32), array([[2351.]], dtype=float32), array([[2372.]], dtype=float32), array([[2061.]], dtype=float32), array([[2059.]], dtype=float32), array([[2353.]], dtype=float32), array([[2374.]], dtype=float32), array([[2395.]], dtype=float32), array([[2380.]], dtype=float32), array([[2397.]], dtype=float32), array([[2368.]], dtype=float32), array([[2332.]], dtype=float32), array([[2367.]], dtype=float32), array([[2057.]], dtype=float32), array([[2051.]], dtype=float32), array([[2048.]], dtype=float32), array([[2347.]], dtype=float32), array([[2309.]], dtype=float32), array([[2330.]], dtype=float32), array([[2011.]], dtype=float32), array([[2345.]], dtype=float32), array([[2349.]], dtype=float32), array([[2038.]], dtype=float32), array([[2348.]], dtype=float32), array([[2009.]], dtype=float32), array([[2319.]], dtype=float32), array([[2019.]], dtype=float32), array([[2344.]], dtype=float32), array([[2328.]], dtype=float32), array([[2028.]], dtype=float32), array([[2023.]], dtype=float32), array([[2007.]], dtype=float32), array([[2320.]], dtype=float32), array([[2005.]], dtype=float32), array([[2326.]], dtype=float32), array([[2322.]], dtype=float32), array([[2016.]], dtype=float32), array([[1993.]], dtype=float32), array([[1989.]], dtype=float32), array([[1997.]], dtype=float32), array([[2000.]], dtype=float32), array([[2002.]], dtype=float32), array([[1995.]], dtype=float32), array([[2324.]], dtype=float32), array([[2323.]], dtype=float32), array([[2325.]], dtype=float32), array([[2072.]], dtype=float32), array([[2075.]], dtype=float32), array([[2090.]], dtype=float32), array([[2386.]], dtype=float32), array([[2388.]], dtype=float32), array([[2077.]], dtype=float32), array([[2384.]], dtype=float32), array([[2086.]], dtype=float32), array([[2079.]], dtype=float32), array([[2088.]], dtype=float32), array([[2382.]], dtype=float32), array([[2385.]], dtype=float32), array([[720.]], dtype=float32), array([[615.]], dtype=float32), array([[727.]], dtype=float32), array([[882.]], dtype=float32), array([[722.]], dtype=float32), array([[933.]], dtype=float32), array([[930.]], dtype=float32), array([[932.]], dtype=float32), array([[515.]], dtype=float32), array([[517.]], dtype=float32), array([[931.]], dtype=float32), array([[515.]], dtype=float32), array([[807.]], dtype=float32), array([[806.]], dtype=float32), array([[929.]], dtype=float32), array([[928.]], dtype=float32), array([[807.]], dtype=float32), array([[719.]], dtype=float32), array([[727.]], dtype=float32), array([[936.]], dtype=float32), array([[536.]], dtype=float32), array([[814.]], dtype=float32), array([[875.]], dtype=float32), array([[814.]], dtype=float32), array([[944.]], dtype=float32), array([[1063.]], dtype=float32), array([[1062.]], dtype=float32), array([[1148.]], dtype=float32), array([[707.]], dtype=float32), array([[708.]], dtype=float32), array([[877.]], dtype=float32), array([[878.]], dtype=float32), array([[716.]], dtype=float32), array([[937.]], dtype=float32), array([[1009.]], dtype=float32), array([[711.]], dtype=float32), array([[877.]], dtype=float32), array([[1008.]], dtype=float32), array([[878.]], dtype=float32), array([[1104.]], dtype=float32), array([[879.]], dtype=float32), array([[1010.]], dtype=float32), array([[1105.]], dtype=float32), array([[715.]], dtype=float32), array([[709.]], dtype=float32), array([[1106.]], dtype=float32), array([[1013.]], dtype=float32), array([[1107.]], dtype=float32), array([[1011.]], dtype=float32), array([[1254.]], dtype=float32), array([[1257.]], dtype=float32), array([[1255.]], dtype=float32), array([[1248.]], dtype=float32), array([[1246.]], dtype=float32), array([[1103.]], dtype=float32), array([[1007.]], dtype=float32), array([[1234.]], dtype=float32), array([[1256.]], dtype=float32), array([[1245.]], dtype=float32), array([[1264.]], dtype=float32), array([[1102.]], dtype=float32), array([[1265.]], dtype=float32), array([[1266.]], dtype=float32), array([[1267.]], dtype=float32), array([[873.]], dtype=float32), array([[1258.]], dtype=float32), array([[1259.]], dtype=float32), array([[943.]], dtype=float32), array([[1210.]], dtype=float32), array([[941.]], dtype=float32), array([[547.]], dtype=float32), array([[546.]], dtype=float32), array([[1207.]], dtype=float32), array([[540.]], dtype=float32), array([[1209.]], dtype=float32), array([[939.]], dtype=float32), array([[942.]], dtype=float32), array([[940.]], dtype=float32), array([[539.]], dtype=float32), array([[544.]], dtype=float32)]\n",
      "174 [array([[2417.]], dtype=float32), array([[2241.]], dtype=float32), array([[2390.]], dtype=float32), array([[2032.]], dtype=float32), array([[1913.]], dtype=float32), array([[2244.]], dtype=float32), array([[2336.]], dtype=float32), array([[2420.]], dtype=float32), array([[2273.]], dtype=float32), array([[2391.]], dtype=float32), array([[2437.]], dtype=float32), array([[2232.]], dtype=float32), array([[2363.]], dtype=float32), array([[2433.]], dtype=float32), array([[2252.]], dtype=float32), array([[2378.]], dtype=float32), array([[2055.]], dtype=float32), array([[2357.]], dtype=float32), array([[2277.]], dtype=float32), array([[2263.]], dtype=float32), array([[1943.]], dtype=float32), array([[2046.]], dtype=float32), array([[2339.]], dtype=float32), array([[2036.]], dtype=float32), array([[2364.]], dtype=float32), array([[2359.]], dtype=float32), array([[2415.]], dtype=float32), array([[2361.]], dtype=float32), array([[2313.]], dtype=float32), array([[2341.]], dtype=float32), array([[2317.]], dtype=float32), array([[2303.]], dtype=float32), array([[2435.]], dtype=float32), array([[2338.]], dtype=float32), array([[2315.]], dtype=float32), array([[2305.]], dtype=float32), array([[2289.]], dtype=float32), array([[2302.]], dtype=float32), array([[2291.]], dtype=float32), array([[1982.]], dtype=float32), array([[2311.]], dtype=float32), array([[1964.]], dtype=float32), array([[2295.]], dtype=float32), array([[1977.]], dtype=float32), array([[2299.]], dtype=float32), array([[2307.]], dtype=float32), array([[2296.]], dtype=float32), array([[2293.]], dtype=float32), array([[2297.]], dtype=float32), array([[1979.]], dtype=float32), array([[2300.]], dtype=float32), array([[1973.]], dtype=float32), array([[2248.]], dtype=float32), array([[2279.]], dtype=float32), array([[1958.]], dtype=float32), array([[1960.]], dtype=float32), array([[2256.]], dtype=float32), array([[2264.]], dtype=float32), array([[1962.]], dtype=float32), array([[1953.]], dtype=float32), array([[2250.]], dtype=float32), array([[1905.]], dtype=float32), array([[2285.]], dtype=float32), array([[1951.]], dtype=float32), array([[1907.]], dtype=float32), array([[2283.]], dtype=float32), array([[2266.]], dtype=float32), array([[2258.]], dtype=float32), array([[2281.]], dtype=float32), array([[2276.]], dtype=float32), array([[2261.]], dtype=float32), array([[1927.]], dtype=float32), array([[2259.]], dtype=float32), array([[2254.]], dtype=float32), array([[1922.]], dtype=float32), array([[2275.]], dtype=float32), array([[1934.]], dtype=float32), array([[2268.]], dtype=float32), array([[2270.]], dtype=float32), array([[1939.]], dtype=float32), array([[2269.]], dtype=float32), array([[2272.]], dtype=float32), array([[1932.]], dtype=float32), array([[1251.]], dtype=float32), array([[863.]], dtype=float32), array([[996.]], dtype=float32), array([[867.]], dtype=float32), array([[870.]], dtype=float32), array([[1095.]], dtype=float32), array([[999.]], dtype=float32), array([[837.]], dtype=float32), array([[1100.]], dtype=float32), array([[855.]], dtype=float32), array([[613.]], dtype=float32), array([[867.]], dtype=float32), array([[1097.]], dtype=float32), array([[833.]], dtype=float32), array([[1001.]], dtype=float32), array([[892.]], dtype=float32), array([[668.]], dtype=float32), array([[1000.]], dtype=float32), array([[1197.]], dtype=float32), array([[1028.]], dtype=float32), array([[1130.]], dtype=float32), array([[776.]], dtype=float32), array([[1117.]], dtype=float32), array([[1198.]], dtype=float32), array([[865.]], dtype=float32), array([[1026.]], dtype=float32), array([[1001.]], dtype=float32), array([[896.]], dtype=float32), array([[895.]], dtype=float32), array([[1031.]], dtype=float32), array([[744.]], dtype=float32), array([[1032.]], dtype=float32), array([[1029.]], dtype=float32), array([[496.]], dtype=float32), array([[1123.]], dtype=float32), array([[865.]], dtype=float32), array([[894.]], dtype=float32), array([[1199.]], dtype=float32), array([[902.]], dtype=float32), array([[670.]], dtype=float32), array([[496.]], dtype=float32), array([[926.]], dtype=float32), array([[897.]], dtype=float32), array([[1146.]], dtype=float32), array([[925.]], dtype=float32), array([[1120.]], dtype=float32), array([[506.]], dtype=float32), array([[1035.]], dtype=float32), array([[502.]], dtype=float32), array([[803.]], dtype=float32), array([[1057.]], dtype=float32), array([[801.]], dtype=float32), array([[773.]], dtype=float32), array([[900.]], dtype=float32), array([[1054.]], dtype=float32), array([[1055.]], dtype=float32), array([[502.]], dtype=float32), array([[1052.]], dtype=float32), array([[1053.]], dtype=float32), array([[498.]], dtype=float32), array([[495.]], dtype=float32), array([[1118.]], dtype=float32), array([[1037.]], dtype=float32), array([[1038.]], dtype=float32), array([[1223.]], dtype=float32), array([[776.]], dtype=float32), array([[1147.]], dtype=float32), array([[1119.]], dtype=float32), array([[555.]], dtype=float32), array([[1151.]], dtype=float32), array([[770.]], dtype=float32), array([[1121.]], dtype=float32), array([[1152.]], dtype=float32), array([[1056.]], dtype=float32), array([[499.]], dtype=float32), array([[946.]], dtype=float32), array([[771.]], dtype=float32), array([[1131.]], dtype=float32), array([[492.]], dtype=float32), array([[1145.]], dtype=float32), array([[1224.]], dtype=float32), array([[947.]], dtype=float32), array([[1153.]], dtype=float32), array([[923.]], dtype=float32), array([[1144.]], dtype=float32), array([[922.]], dtype=float32), array([[554.]], dtype=float32), array([[1067.]], dtype=float32), array([[552.]], dtype=float32), array([[817.]], dtype=float32), array([[1066.]], dtype=float32)]\n",
      "19 [array([[2450.]], dtype=float32), array([[2466.]], dtype=float32), array([[2158.]], dtype=float32), array([[2470.]], dtype=float32), array([[2161.]], dtype=float32), array([[2461.]], dtype=float32), array([[2167.]], dtype=float32), array([[2464.]], dtype=float32), array([[569.]], dtype=float32), array([[1158.]], dtype=float32), array([[954.]], dtype=float32), array([[1160.]], dtype=float32), array([[959.]], dtype=float32), array([[1226.]], dtype=float32), array([[1157.]], dtype=float32), array([[1155.]], dtype=float32), array([[1156.]], dtype=float32), array([[572.]], dtype=float32), array([[958.]], dtype=float32)]\n",
      "18 [array([[2392.]], dtype=float32), array([[2376.]], dtype=float32), array([[1893.]], dtype=float32), array([[2234.]], dtype=float32), array([[2237.]], dtype=float32), array([[2242.]], dtype=float32), array([[2246.]], dtype=float32), array([[2239.]], dtype=float32), array([[1887.]], dtype=float32), array([[870.]], dtype=float32), array([[680.]], dtype=float32), array([[1093.]], dtype=float32), array([[864.]], dtype=float32), array([[859.]], dtype=float32), array([[863.]], dtype=float32), array([[661.]], dtype=float32), array([[857.]], dtype=float32), array([[1221.]], dtype=float32)]\n",
      "\n",
      "Event 4\n",
      "131 [array([[2366.]], dtype=float32), array([[2364.]], dtype=float32), array([[2362.]], dtype=float32), array([[2511.]], dtype=float32), array([[2368.]], dtype=float32), array([[2411.]], dtype=float32), array([[2413.]], dtype=float32), array([[2399.]], dtype=float32), array([[2091.]], dtype=float32), array([[2314.]], dtype=float32), array([[2071.]], dtype=float32), array([[2451.]], dtype=float32), array([[2103.]], dtype=float32), array([[2076.]], dtype=float32), array([[2105.]], dtype=float32), array([[2470.]], dtype=float32), array([[2440.]], dtype=float32), array([[2445.]], dtype=float32), array([[2442.]], dtype=float32), array([[2415.]], dtype=float32), array([[2458.]], dtype=float32), array([[2149.]], dtype=float32), array([[2147.]], dtype=float32), array([[2127.]], dtype=float32), array([[2139.]], dtype=float32), array([[2145.]], dtype=float32), array([[2142.]], dtype=float32), array([[2454.]], dtype=float32), array([[2133.]], dtype=float32), array([[2455.]], dtype=float32), array([[2456.]], dtype=float32), array([[2135.]], dtype=float32), array([[2131.]], dtype=float32), array([[2137.]], dtype=float32), array([[2481.]], dtype=float32), array([[2156.]], dtype=float32), array([[2186.]], dtype=float32), array([[2461.]], dtype=float32), array([[2154.]], dtype=float32), array([[2483.]], dtype=float32), array([[2463.]], dtype=float32), array([[2466.]], dtype=float32), array([[2478.]], dtype=float32), array([[2160.]], dtype=float32), array([[2468.]], dtype=float32), array([[2476.]], dtype=float32), array([[2472.]], dtype=float32), array([[2163.]], dtype=float32), array([[2169.]], dtype=float32), array([[2464.]], dtype=float32), array([[2474.]], dtype=float32), array([[2182.]], dtype=float32), array([[2173.]], dtype=float32), array([[2180.]], dtype=float32), array([[2473.]], dtype=float32), array([[2479.]], dtype=float32), array([[2475.]], dtype=float32), array([[2171.]], dtype=float32), array([[1271.]], dtype=float32), array([[1018.]], dtype=float32), array([[1163.]], dtype=float32), array([[1164.]], dtype=float32), array([[999.]], dtype=float32), array([[885.]], dtype=float32), array([[1134.]], dtype=float32), array([[1360.]], dtype=float32), array([[1359.]], dtype=float32), array([[1362.]], dtype=float32), array([[1363.]], dtype=float32), array([[1165.]], dtype=float32), array([[1375.]], dtype=float32), array([[1364.]], dtype=float32), array([[1378.]], dtype=float32), array([[1310.]], dtype=float32), array([[1377.]], dtype=float32), array([[828.]], dtype=float32), array([[1002.]], dtype=float32), array([[825.]], dtype=float32), array([[822.]], dtype=float32), array([[995.]], dtype=float32), array([[761.]], dtype=float32), array([[1109.]], dtype=float32), array([[1110.]], dtype=float32), array([[1111.]], dtype=float32), array([[1107.]], dtype=float32), array([[1387.]], dtype=float32), array([[1112.]], dtype=float32), array([[1108.]], dtype=float32), array([[764.]], dtype=float32), array([[1230.]], dtype=float32), array([[1231.]], dtype=float32), array([[1301.]], dtype=float32), array([[1388.]], dtype=float32), array([[764.]], dtype=float32), array([[1301.]], dtype=float32), array([[1116.]], dtype=float32), array([[1113.]], dtype=float32), array([[1114.]], dtype=float32), array([[1358.]], dtype=float32), array([[1383.]], dtype=float32), array([[1385.]], dtype=float32), array([[1102.]], dtype=float32), array([[1296.]], dtype=float32), array([[1297.]], dtype=float32), array([[1104.]], dtype=float32), array([[1384.]], dtype=float32), array([[997.]], dtype=float32), array([[759.]], dtype=float32), array([[1105.]], dtype=float32), array([[970.]], dtype=float32), array([[1299.]], dtype=float32), array([[1101.]], dtype=float32), array([[757.]], dtype=float32), array([[752.]], dtype=float32), array([[753.]], dtype=float32), array([[754.]], dtype=float32), array([[757.]], dtype=float32), array([[972.]], dtype=float32), array([[1038.]], dtype=float32), array([[1298.]], dtype=float32), array([[1227.]], dtype=float32), array([[756.]], dtype=float32), array([[754.]], dtype=float32), array([[1228.]], dtype=float32), array([[1224.]], dtype=float32), array([[1225.]], dtype=float32), array([[1229.]], dtype=float32), array([[752.]], dtype=float32), array([[970.]], dtype=float32), array([[972.]], dtype=float32), array([[1226.]], dtype=float32)]\n",
      "128 [array([[2402.]], dtype=float32), array([[2404.]], dtype=float32), array([[2351.]], dtype=float32), array([[2330.]], dtype=float32), array([[2324.]], dtype=float32), array([[2357.]], dtype=float32), array([[2355.]], dtype=float32), array([[2342.]], dtype=float32), array([[2340.]], dtype=float32), array([[1976.]], dtype=float32), array([[2002.]], dtype=float32), array([[2000.]], dtype=float32), array([[1987.]], dtype=float32), array([[1982.]], dtype=float32), array([[2345.]], dtype=float32), array([[1989.]], dtype=float32), array([[1991.]], dtype=float32), array([[2354.]], dtype=float32), array([[2353.]], dtype=float32), array([[1993.]], dtype=float32), array([[2343.]], dtype=float32), array([[2346.]], dtype=float32), array([[2360.]], dtype=float32), array([[2347.]], dtype=float32), array([[2111.]], dtype=float32), array([[2376.]], dtype=float32), array([[2098.]], dtype=float32), array([[2429.]], dtype=float32), array([[2082.]], dtype=float32), array([[2407.]], dtype=float32), array([[2409.]], dtype=float32), array([[2059.]], dtype=float32), array([[2397.]], dtype=float32), array([[2052.]], dtype=float32), array([[2384.]], dtype=float32), array([[2054.]], dtype=float32), array([[2026.]], dtype=float32), array([[2042.]], dtype=float32), array([[2044.]], dtype=float32), array([[2049.]], dtype=float32), array([[2387.]], dtype=float32), array([[2046.]], dtype=float32), array([[2035.]], dtype=float32), array([[2395.]], dtype=float32), array([[2385.]], dtype=float32), array([[2390.]], dtype=float32), array([[2379.]], dtype=float32), array([[2037.]], dtype=float32), array([[2389.]], dtype=float32), array([[1934.]], dtype=float32), array([[2381.]], dtype=float32), array([[2019.]], dtype=float32), array([[2017.]], dtype=float32), array([[2028.]], dtype=float32), array([[2382.]], dtype=float32), array([[2383.]], dtype=float32), array([[2388.]], dtype=float32), array([[802.]], dtype=float32), array([[804.]], dtype=float32), array([[620.]], dtype=float32), array([[695.]], dtype=float32), array([[1057.]], dtype=float32), array([[1055.]], dtype=float32), array([[1390.]], dtype=float32), array([[912.]], dtype=float32), array([[1283.]], dtype=float32), array([[1053.]], dtype=float32), array([[1353.]], dtype=float32), array([[1190.]], dtype=float32), array([[1052.]], dtype=float32), array([[1281.]], dtype=float32), array([[1282.]], dtype=float32), array([[1278.]], dtype=float32), array([[1279.]], dtype=float32), array([[1380.]], dtype=float32), array([[1389.]], dtype=float32), array([[1382.]], dtype=float32), array([[1381.]], dtype=float32), array([[1369.]], dtype=float32), array([[591.]], dtype=float32), array([[1354.]], dtype=float32), array([[912.]], dtype=float32), array([[1279.]], dtype=float32), array([[1284.]], dtype=float32), array([[1389.]], dtype=float32), array([[1084.]], dtype=float32), array([[1054.]], dtype=float32), array([[1085.]], dtype=float32), array([[679.]], dtype=float32), array([[1204.]], dtype=float32), array([[1205.]], dtype=float32), array([[943.]], dtype=float32), array([[941.]], dtype=float32), array([[1082.]], dtype=float32), array([[907.]], dtype=float32), array([[1083.]], dtype=float32), array([[1185.]], dtype=float32), array([[1080.]], dtype=float32), array([[1044.]], dtype=float32), array([[1202.]], dtype=float32), array([[1203.]], dtype=float32), array([[1081.]], dtype=float32), array([[1075.]], dtype=float32), array([[1078.]], dtype=float32), array([[1349.]], dtype=float32), array([[1290.]], dtype=float32), array([[1292.]], dtype=float32), array([[1366.]], dtype=float32), array([[1077.]], dtype=float32), array([[1074.]], dtype=float32), array([[1078.]], dtype=float32), array([[939.]], dtype=float32), array([[1289.]], dtype=float32), array([[1291.]], dtype=float32), array([[1075.]], dtype=float32), array([[1274.]], dtype=float32), array([[673.]], dtype=float32), array([[675.]], dtype=float32), array([[1074.]], dtype=float32), array([[1184.]], dtype=float32), array([[1185.]], dtype=float32), array([[1348.]], dtype=float32), array([[1186.]], dtype=float32), array([[1367.]], dtype=float32), array([[1187.]], dtype=float32), array([[1348.]], dtype=float32), array([[1184.]], dtype=float32), array([[1349.]], dtype=float32)]\n",
      "84 [array([[2488.]], dtype=float32), array([[2326.]], dtype=float32), array([[2151.]], dtype=float32), array([[2393.]], dtype=float32), array([[2436.]], dtype=float32), array([[2336.]], dtype=float32), array([[2332.]], dtype=float32), array([[2120.]], dtype=float32), array([[2334.]], dtype=float32), array([[2438.]], dtype=float32), array([[2486.]], dtype=float32), array([[2198.]], dtype=float32), array([[2193.]], dtype=float32), array([[2014.]], dtype=float32), array([[2166.]], dtype=float32), array([[2338.]], dtype=float32), array([[2349.]], dtype=float32), array([[2447.]], dtype=float32), array([[2424.]], dtype=float32), array([[2065.]], dtype=float32), array([[2177.]], dtype=float32), array([[2009.]], dtype=float32), array([[2374.]], dtype=float32), array([[2370.]], dtype=float32), array([[2030.]], dtype=float32), array([[2372.]], dtype=float32), array([[2062.]], dtype=float32), array([[2118.]], dtype=float32), array([[2417.]], dtype=float32), array([[2449.]], dtype=float32), array([[2116.]], dtype=float32), array([[2419.]], dtype=float32), array([[2114.]], dtype=float32), array([[2431.]], dtype=float32), array([[2096.]], dtype=float32), array([[2434.]], dtype=float32), array([[2427.]], dtype=float32), array([[2084.]], dtype=float32), array([[2088.]], dtype=float32), array([[2420.]], dtype=float32), array([[2422.]], dtype=float32), array([[2425.]], dtype=float32), array([[984.]], dtype=float32), array([[1235.]], dtype=float32), array([[1120.]], dtype=float32), array([[989.]], dtype=float32), array([[986.]], dtype=float32), array([[816.]], dtype=float32), array([[1305.]], dtype=float32), array([[1061.]], dtype=float32), array([[991.]], dtype=float32), array([[987.]], dtype=float32), array([[626.]], dtype=float32), array([[1232.]], dtype=float32), array([[1195.]], dtype=float32), array([[1210.]], dtype=float32), array([[1060.]], dtype=float32), array([[994.]], dtype=float32), array([[812.]], dtype=float32), array([[1059.]], dtype=float32), array([[990.]], dtype=float32), array([[1121.]], dtype=float32), array([[1233.]], dtype=float32), array([[1129.]], dtype=float32), array([[977.]], dtype=float32), array([[701.]], dtype=float32), array([[1123.]], dtype=float32), array([[1307.]], dtype=float32), array([[1212.]], dtype=float32), array([[1091.]], dtype=float32), array([[980.]], dtype=float32), array([[704.]], dtype=float32), array([[1356.]], dtype=float32), array([[1118.]], dtype=float32), array([[1302.]], dtype=float32), array([[797.]], dtype=float32), array([[1355.]], dtype=float32), array([[1294.]], dtype=float32), array([[1304.]], dtype=float32), array([[1093.]], dtype=float32), array([[1092.]], dtype=float32), array([[1293.]], dtype=float32), array([[1095.]], dtype=float32), array([[1096.]], dtype=float32)]\n",
      "29 [array([[2249.]], dtype=float32), array([[2543.]], dtype=float32), array([[2551.]], dtype=float32), array([[2566.]], dtype=float32), array([[2570.]], dtype=float32), array([[2525.]], dtype=float32), array([[2541.]], dtype=float32), array([[2527.]], dtype=float32), array([[2519.]], dtype=float32), array([[2536.]], dtype=float32), array([[2538.]], dtype=float32), array([[2554.]], dtype=float32), array([[2556.]], dtype=float32), array([[1322.]], dtype=float32), array([[719.]], dtype=float32), array([[723.]], dtype=float32), array([[1011.]], dtype=float32), array([[660.]], dtype=float32), array([[1039.]], dtype=float32), array([[718.]], dtype=float32), array([[1215.]], dtype=float32), array([[868.]], dtype=float32), array([[1200.]], dtype=float32), array([[954.]], dtype=float32), array([[583.]], dtype=float32), array([[585.]], dtype=float32), array([[910.]], dtype=float32), array([[717.]], dtype=float32), array([[911.]], dtype=float32)]\n",
      "\n",
      "Event 5\n",
      "81 [array([[1451.]], dtype=float32), array([[1449.]], dtype=float32), array([[1335.]], dtype=float32), array([[1333.]], dtype=float32), array([[1336.]], dtype=float32), array([[1340.]], dtype=float32), array([[1342.]], dtype=float32), array([[1144.]], dtype=float32), array([[1347.]], dtype=float32), array([[1343.]], dtype=float32), array([[1345.]], dtype=float32), array([[1338.]], dtype=float32), array([[1153.]], dtype=float32), array([[1351.]], dtype=float32), array([[1407.]], dtype=float32), array([[1359.]], dtype=float32), array([[1396.]], dtype=float32), array([[1409.]], dtype=float32), array([[1404.]], dtype=float32), array([[1398.]], dtype=float32), array([[1400.]], dtype=float32), array([[1401.]], dtype=float32), array([[1217.]], dtype=float32), array([[1406.]], dtype=float32), array([[1402.]], dtype=float32), array([[1209.]], dtype=float32), array([[1357.]], dtype=float32), array([[1370.]], dtype=float32), array([[1374.]], dtype=float32), array([[1186.]], dtype=float32), array([[1184.]], dtype=float32), array([[1372.]], dtype=float32), array([[1376.]], dtype=float32), array([[1375.]], dtype=float32), array([[1371.]], dtype=float32), array([[1194.]], dtype=float32), array([[446.]], dtype=float32), array([[731.]], dtype=float32), array([[392.]], dtype=float32), array([[388.]], dtype=float32), array([[392.]], dtype=float32), array([[395.]], dtype=float32), array([[396.]], dtype=float32), array([[607.]], dtype=float32), array([[389.]], dtype=float32), array([[534.]], dtype=float32), array([[390.]], dtype=float32), array([[393.]], dtype=float32), array([[674.]], dtype=float32), array([[387.]], dtype=float32), array([[789.]], dtype=float32), array([[732.]], dtype=float32), array([[532.]], dtype=float32), array([[448.]], dtype=float32), array([[781.]], dtype=float32), array([[449.]], dtype=float32), array([[386.]], dtype=float32), array([[788.]], dtype=float32), array([[761.]], dtype=float32), array([[762.]], dtype=float32), array([[760.]], dtype=float32), array([[734.]], dtype=float32), array([[630.]], dtype=float32), array([[385.]], dtype=float32), array([[525.]], dtype=float32), array([[527.]], dtype=float32), array([[571.]], dtype=float32), array([[526.]], dtype=float32), array([[670.]], dtype=float32), array([[673.]], dtype=float32), array([[525.]], dtype=float32), array([[380.]], dtype=float32), array([[529.]], dtype=float32), array([[527.]], dtype=float32), array([[672.]], dtype=float32), array([[715.]], dtype=float32), array([[716.]], dtype=float32), array([[717.]], dtype=float32), array([[718.]], dtype=float32), array([[719.]], dtype=float32), array([[720.]], dtype=float32)]\n",
      "134 [array([[1331.]], dtype=float32), array([[1453.]], dtype=float32), array([[1390.]], dtype=float32), array([[1380.]], dtype=float32), array([[1428.]], dtype=float32), array([[1378.]], dtype=float32), array([[1252.]], dtype=float32), array([[1413.]], dtype=float32), array([[1411.]], dtype=float32), array([[1430.]], dtype=float32), array([[1426.]], dtype=float32), array([[1424.]], dtype=float32), array([[1384.]], dtype=float32), array([[1155.]], dtype=float32), array([[1158.]], dtype=float32), array([[1349.]], dtype=float32), array([[1355.]], dtype=float32), array([[1177.]], dtype=float32), array([[1168.]], dtype=float32), array([[1363.]], dtype=float32), array([[1366.]], dtype=float32), array([[1368.]], dtype=float32), array([[1361.]], dtype=float32), array([[1365.]], dtype=float32), array([[1171.]], dtype=float32), array([[1353.]], dtype=float32), array([[1364.]], dtype=float32), array([[1180.]], dtype=float32), array([[1446.]], dtype=float32), array([[1440.]], dtype=float32), array([[1189.]], dtype=float32), array([[1447.]], dtype=float32), array([[1437.]], dtype=float32), array([[1444.]], dtype=float32), array([[1439.]], dtype=float32), array([[1442.]], dtype=float32), array([[1394.]], dtype=float32), array([[1231.]], dtype=float32), array([[1435.]], dtype=float32), array([[1432.]], dtype=float32), array([[1422.]], dtype=float32), array([[1433.]], dtype=float32), array([[1417.]], dtype=float32), array([[1245.]], dtype=float32), array([[1385.]], dtype=float32), array([[1392.]], dtype=float32), array([[1214.]], dtype=float32), array([[1221.]], dtype=float32), array([[1234.]], dtype=float32), array([[1387.]], dtype=float32), array([[1237.]], dtype=float32), array([[1382.]], dtype=float32), array([[1388.]], dtype=float32), array([[1223.]], dtype=float32), array([[1240.]], dtype=float32), array([[1418.]], dtype=float32), array([[1419.]], dtype=float32), array([[1415.]], dtype=float32), array([[1420.]], dtype=float32), array([[489.]], dtype=float32), array([[478.]], dtype=float32), array([[742.]], dtype=float32), array([[557.]], dtype=float32), array([[488.]], dtype=float32), array([[481.]], dtype=float32), array([[750.]], dtype=float32), array([[484.]], dtype=float32), array([[643.]], dtype=float32), array([[644.]], dtype=float32), array([[556.]], dtype=float32), array([[479.]], dtype=float32), array([[554.]], dtype=float32), array([[602.]], dtype=float32), array([[601.]], dtype=float32), array([[360.]], dtype=float32), array([[355.]], dtype=float32), array([[597.]], dtype=float32), array([[598.]], dtype=float32), array([[354.]], dtype=float32), array([[518.]], dtype=float32), array([[569.]], dtype=float32), array([[710.]], dtype=float32), array([[711.]], dtype=float32), array([[518.]], dtype=float32), array([[667.]], dtype=float32), array([[666.]], dtype=float32), array([[710.]], dtype=float32), array([[714.]], dtype=float32), array([[353.]], dtype=float32), array([[711.]], dtype=float32), array([[713.]], dtype=float32), array([[757.]], dtype=float32), array([[758.]], dtype=float32), array([[367.]], dtype=float32), array([[521.]], dtype=float32), array([[747.]], dtype=float32), array([[367.]], dtype=float32), array([[524.]], dtype=float32), array([[522.]], dtype=float32), array([[698.]], dtype=float32), array([[368.]], dtype=float32), array([[519.]], dtype=float32), array([[647.]], dtype=float32), array([[699.]], dtype=float32), array([[364.]], dtype=float32), array([[363.]], dtype=float32), array([[764.]], dtype=float32), array([[364.]], dtype=float32), array([[755.]], dtype=float32), array([[772.]], dtype=float32), array([[773.]], dtype=float32), array([[777.]], dtype=float32), array([[778.]], dtype=float32), array([[784.]], dtype=float32), array([[790.]], dtype=float32), array([[768.]], dtype=float32), array([[741.]], dtype=float32), array([[474.]], dtype=float32), array([[687.]], dtype=float32), array([[783.]], dtype=float32), array([[782.]], dtype=float32), array([[634.]], dtype=float32), array([[632.]], dtype=float32), array([[739.]], dtype=float32), array([[792.]], dtype=float32), array([[633.]], dtype=float32), array([[785.]], dtype=float32), array([[740.]], dtype=float32), array([[637.]], dtype=float32), array([[791.]], dtype=float32), array([[772.]], dtype=float32), array([[784.]], dtype=float32), array([[766.]], dtype=float32), array([[773.]], dtype=float32)]\n",
      "32 [array([[1487.]], dtype=float32), array([[1482.]], dtype=float32), array([[1458.]], dtype=float32), array([[1465.]], dtype=float32), array([[1471.]], dtype=float32), array([[1473.]], dtype=float32), array([[1479.]], dtype=float32), array([[1463.]], dtype=float32), array([[1467.]], dtype=float32), array([[1283.]], dtype=float32), array([[1285.]], dtype=float32), array([[1288.]], dtype=float32), array([[1475.]], dtype=float32), array([[414.]], dtype=float32), array([[427.]], dtype=float32), array([[542.]], dtype=float32), array([[547.]], dtype=float32), array([[548.]], dtype=float32), array([[617.]], dtype=float32), array([[619.]], dtype=float32), array([[435.]], dtype=float32), array([[546.]], dtype=float32), array([[620.]], dtype=float32), array([[423.]], dtype=float32), array([[433.]], dtype=float32), array([[436.]], dtype=float32), array([[616.]], dtype=float32), array([[722.]], dtype=float32), array([[721.]], dtype=float32), array([[682.]], dtype=float32), array([[683.]], dtype=float32), array([[432.]], dtype=float32)]\n",
      "\n"
     ]
    }
   ],
   "source": [
    "# Example of object data\n",
    "\n",
    "object_fields = ['Jet.Constituents', 'Jet.Particles']\n",
    "object_data = get_events_from_tree(tree, object_fields)\n",
    "\n",
    "for i in range(5):\n",
    "    print(\"Event {}\".format(i+1))\n",
    "    for obj_array in object_data[i]:\n",
    "        print(\"{} {}\".format(len(obj_array), list(obj_array)))\n",
    "    print()\n"
   ],
   "metadata": {
    "collapsed": false,
    "pycharm": {
     "name": "#%%\n"
    }
   }
  },
  {
   "cell_type": "markdown",
   "source": [
    "## Nested Network Block\n",
    "\n",
    "- Possible modes: `lstm`, `gru`, `vanilla_rnn`, `mlp`, or `deepset`\n",
    "    - Note: the `deepset` mode here is the same one used in the\n",
    "    jagged block\n",
    "\n",
    "- Takes as input the output arrays of AwkwardNN subblocks because\n",
    "by construction, a field from a rootfile can only be in a nested\n",
    "block if it has its own tree structure\n",
    "\n",
    "- The input size and how it feeds forward depends on the mode\n",
    "\n",
    "- If the mode is `lstm`, `gru`, `vanilla_rnn`, or `deepset`\n",
    "    - the input size is the output size (i.e. the `embed_dim` field)\n",
    "    from its AwkwardNN subblocks. Note: all of these `embed_dim` fields\n",
    "    must have the same value, or else an error will be raised.\n",
    "\n",
    "    - the nested block feeds forward by sequentially processing\n",
    "    its AwkwardNN subblocks one at a time. It then returns its hidden\n",
    "    state as its output for the next network.\n",
    "\n",
    "    - Note: it is sometimes the case that different subevents\n",
    "    are null within an event. E.g. an event may have 5 jets but 0 muons.\n",
    "    In this case, the AwkwardNN subblock associated with `Muon` would\n",
    "    return an empty array that would be skipped over by the nested\n",
    "    block.\n",
    "\n",
    "- If the mode is `mlp`\n",
    "    - the inputs size is the sum of the output sizes (i.e. the `embed_dim`\n",
    "    field) from its AwkwardNN subblocks. Note: unlike the rnn-style mode,\n",
    "    these `embed_dim` fields are not required to have the same value\n",
    "\n",
    "    - the nested block feeds forward the concatenated output arrays\n",
    "    from all of its AwkwardNN subblocks\n",
    "\n",
    "    - Note: In the case that one subevent is null within an event, e.g.\n",
    "    an event has 5 jets but 0 muons, the resulting input array to\n",
    "    the nested block is zero padded to replace what would have\n",
    "    been the output array from the muon block.\n"
   ],
   "metadata": {
    "collapsed": false,
    "pycharm": {
     "name": "#%% md\n"
    }
   }
  },
  {
   "cell_type": "markdown",
   "source": [
    "## AwkwardNN Block\n",
    "\n",
    "- Possible modes: `mlp` or `deepset`\n",
    "\n",
    "- Takes as input arrays of fixed length - the concatenated output\n",
    "of all of its subblocks.\n",
    "\n",
    "    - Note: not every type of subblock may be present. If the\n",
    "    list of fields doesn't have a type of data structure present,\n",
    "    then the network subblock associated with that data structure will\n",
    "    not be in the AwkwardNN block.\n",
    "\n",
    "- Feeds forward like a normal neural network or deepset model\n",
    "    - Note: the `deepset` mode here is the same one used in the\n",
    "    fixed block\n",
    "\n"
   ],
   "metadata": {
    "collapsed": false,
    "pycharm": {
     "name": "#%% md\n"
    }
   }
  }
 ],
 "metadata": {
  "kernelspec": {
   "display_name": "Python 3",
   "language": "python",
   "name": "python3"
  },
  "language_info": {
   "codemirror_mode": {
    "name": "ipython",
    "version": 2
   },
   "file_extension": ".py",
   "mimetype": "text/x-python",
   "name": "python",
   "nbconvert_exporter": "python",
   "pygments_lexer": "ipython2",
   "version": "2.7.6"
  }
 },
 "nbformat": 4,
 "nbformat_minor": 0
}