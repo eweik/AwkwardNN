{
 "cells": [
  {
   "cell_type": "markdown",
   "metadata": {
    "collapsed": true,
    "pycharm": {
     "name": "#%% md\n"
    }
   },
   "source": [
    "# Rootfiles and uproot\n",
    "\n",
    "- Rootfiles contain particle physics data organized in a\n",
    "column-style manner\n",
    "\n",
    "- Specifically, Rootfile datasets consist of events.\n",
    "Each event consists of fields of information.\n",
    "The events correspond to rows and the fields correspond\n",
    "to columns.\n",
    "To access the information in a Rootfile, you can read in\n",
    "the columns/fields from the dataset (because that is how it\n",
    "was chosen to be organized).\n",
    "You cannot read in rows/individual events.\n",
    "\n",
    "\n",
    "- `Uproot` is a python library that allows direct access to root files\n",
    "without dealing with ROOT\n",
    "\n",
    "- `Uproot4` is currently being developed to replace `Uproot`, but it has\n",
    "some issues dealing with certain characters in the column names\n",
    "(heretoafter referred to as field names). But the same general ideas\n",
    "apply to `Uproot4` as for `Uproot`.\n",
    "\n",
    "    - Note: `Uproot4` does make reading in data easier, and I have already\n",
    "    written some code to transition to uproot4/awkward1 easily once the bugs\n",
    "    are fixed.\n",
    "\n",
    "- This notebook will focus on Uproot, not Uproot4\n"
   ]
  },
  {
   "cell_type": "code",
   "execution_count": 2,
   "outputs": [],
   "source": [
    "import uproot\n"
   ],
   "metadata": {
    "collapsed": false,
    "pycharm": {
     "name": "#%%\n"
    }
   }
  },
  {
   "cell_type": "markdown",
   "source": [
    "Opening rootfiles returns a `ROOTDirectory` object\n"
   ],
   "metadata": {
    "collapsed": false,
    "pycharm": {
     "name": "#%% md\n"
    }
   }
  },
  {
   "cell_type": "code",
   "execution_count": 3,
   "outputs": [
    {
     "name": "stdout",
     "output_type": "stream",
     "text": [
      "<class 'uproot.rootio.ROOTDirectory'>\n"
     ]
    }
   ],
   "source": [
    "file = uproot.open(\"../data/test_ttbar_1000.root\")\n",
    "print(type(file))"
   ],
   "metadata": {
    "collapsed": false,
    "pycharm": {
     "name": "#%%\n"
    }
   }
  },
  {
   "cell_type": "markdown",
   "source": [
    "The `ROOTDirectory` should contain a `TTree` object, which contains all of the\n",
    "data we're interested in."
   ],
   "metadata": {
    "collapsed": false,
    "pycharm": {
     "name": "#%% md\n"
    }
   }
  },
  {
   "cell_type": "code",
   "execution_count": 4,
   "outputs": [
    {
     "name": "stdout",
     "output_type": "stream",
     "text": [
      "b'ProcessID0;1' <TProcessID b'ProcessID0' at 0x000107ef2438>\n",
      "b'Delphes;1' <TTree b'Delphes' at 0x000107ef2518>\n"
     ]
    }
   ],
   "source": [
    "for k, v in file.items():\n",
    "    print(\"{} {}\".format(k, v))\n"
   ],
   "metadata": {
    "collapsed": false,
    "pycharm": {
     "name": "#%%\n"
    }
   }
  },
  {
   "cell_type": "markdown",
   "source": [
    "## TTree\n",
    "\n",
    "- The method .keys() returns a list of all the fields at the top of the\n",
    "rootfile data structure\n",
    "\n",
    "- Some of these fields are subtrees, which contain subfields within their\n",
    "tree structure.\n",
    "\n",
    "- The method .allkeys() returns a list of all the fields in the entire\n",
    "rootfile data structure, down through all subtrees"
   ],
   "metadata": {
    "collapsed": false,
    "pycharm": {
     "name": "#%% md\n"
    }
   }
  },
  {
   "cell_type": "code",
   "execution_count": 5,
   "outputs": [
    {
     "name": "stdout",
     "output_type": "stream",
     "text": [
      "b'Event'\n",
      "b'Event_size'\n",
      "b'Particle'\n",
      "b'Particle_size'\n",
      "b'Track'\n",
      "b'Track_size'\n",
      "b'Tower'\n",
      "b'Tower_size'\n",
      "b'EFlowTrack'\n",
      "b'EFlowTrack_size'\n",
      "b'EFlowPhoton'\n",
      "b'EFlowPhoton_size'\n",
      "b'EFlowNeutralHadron'\n",
      "b'EFlowNeutralHadron_size'\n",
      "b'Jet'\n",
      "b'Jet_size'\n",
      "b'Electron'\n",
      "b'Electron_size'\n",
      "b'Photon'\n",
      "b'Photon_size'\n",
      "b'Muon'\n",
      "b'Muon_size'\n",
      "b'FatJet'\n",
      "b'FatJet_size'\n",
      "b'MissingET'\n",
      "b'MissingET_size'\n",
      "b'ScalarHT'\n",
      "b'ScalarHT_size'\n",
      "\n",
      " total # of fields in rootfile: 299\n"
     ]
    }
   ],
   "source": [
    "tree = file['Delphes']\n",
    "for k in tree.keys():\n",
    "    print(k)\n",
    "print(\"\\n total # of fields in rootfile: {}\".format(len(tree.allkeys())))\n"
   ],
   "metadata": {
    "collapsed": false,
    "pycharm": {
     "name": "#%%\n"
    }
   }
  },
  {
   "cell_type": "markdown",
   "source": [
    "Because there are so many fields in this tree, we're going to focus on\n",
    "the subtree `Jet` in this notebook\n"
   ],
   "metadata": {
    "collapsed": false,
    "pycharm": {
     "name": "#%% md\n"
    }
   }
  },
  {
   "cell_type": "code",
   "execution_count": 6,
   "outputs": [],
   "source": [
    "jet = tree['Jet']\n"
   ],
   "metadata": {
    "collapsed": false,
    "pycharm": {
     "name": "#%%\n"
    }
   }
  },
  {
   "cell_type": "markdown",
   "source": [
    "- Can see the data list of fields associated with the `Jet` field by\n",
    "calling .keys().\n",
    "\n",
    "- But can see more information regarding the types of primitives within\n",
    "each field by calling the .show() method (can also do this with the\n",
    "above for tree.show())"
   ],
   "metadata": {
    "collapsed": false,
    "pycharm": {
     "name": "#%% md\n"
    }
   }
  },
  {
   "cell_type": "code",
   "execution_count": 7,
   "outputs": [
    {
     "name": "stdout",
     "output_type": "stream",
     "text": [
      "Jet                        TStreamerInfo              asdtype('>i4')\n",
      "Jet.fUniqueID              TStreamerBasicType         asjagged(asdtype('>u4'))\n",
      "Jet.fBits                  TStreamerBasicType         asjagged(asdtype('>u4'))\n",
      "Jet.PT                     TStreamerBasicType         asjagged(asdtype('>f4'))\n",
      "Jet.Eta                    TStreamerBasicType         asjagged(asdtype('>f4'))\n",
      "Jet.Phi                    TStreamerBasicType         asjagged(asdtype('>f4'))\n",
      "Jet.T                      TStreamerBasicType         asjagged(asdtype('>f4'))\n",
      "Jet.Mass                   TStreamerBasicType         asjagged(asdtype('>f4'))\n",
      "Jet.DeltaEta               TStreamerBasicType         asjagged(asdtype('>f4'))\n",
      "Jet.DeltaPhi               TStreamerBasicType         asjagged(asdtype('>f4'))\n",
      "Jet.Flavor                 TStreamerBasicType         asjagged(asdtype('>u4'))\n",
      "Jet.FlavorAlgo             TStreamerBasicType         asjagged(asdtype('>u4'))\n",
      "Jet.FlavorPhys             TStreamerBasicType         asjagged(asdtype('>u4'))\n",
      "Jet.BTag                   TStreamerBasicType         asjagged(asdtype('>u4'))\n",
      "Jet.BTagAlgo               TStreamerBasicType         asjagged(asdtype('>u4'))\n",
      "Jet.BTagPhys               TStreamerBasicType         asjagged(asdtype('>u4'))\n",
      "Jet.TauTag                 TStreamerBasicType         asjagged(asdtype('>u4'))\n",
      "Jet.Charge                 TStreamerBasicType         asjagged(asdtype('>i4'))\n",
      "Jet.EhadOverEem            TStreamerBasicType         asjagged(asdtype('>f4'))\n",
      "Jet.NCharged               TStreamerBasicType         asjagged(asdtype('>i4'))\n",
      "Jet.NNeutrals              TStreamerBasicType         asjagged(asdtype('>i4'))\n",
      "Jet.Beta                   TStreamerBasicType         asjagged(asdtype('>f4'))\n",
      "Jet.BetaStar               TStreamerBasicType         asjagged(asdtype('>f4'))\n",
      "Jet.MeanSqDeltaR           TStreamerBasicType         asjagged(asdtype('>f4'))\n",
      "Jet.PTD                    TStreamerBasicType         asjagged(asdtype('>f4'))\n",
      "Jet.FracPt[5]              TStreamerBasicType         asjagged(asdtype(\"('>f4', (5,))\"))\n",
      "Jet.Tau[5]                 TStreamerBasicType         asjagged(asdtype(\"('>f4', (5,))\"))\n",
      "Jet.TrimmedP4[5]           TStreamerInfo              asjagged(asobj(<uproot_methods.classes.TLorentzVector.Methods>))\n",
      "Jet.PrunedP4[5]            TStreamerInfo              asjagged(asobj(<uproot_methods.classes.TLorentzVector.Methods>))\n",
      "Jet.SoftDroppedP4[5]       TStreamerInfo              asjagged(asobj(<uproot_methods.classes.TLorentzVector.Methods>))\n",
      "Jet.NSubJetsTrimmed        TStreamerBasicType         asjagged(asdtype('>i4'))\n",
      "Jet.NSubJetsPruned         TStreamerBasicType         asjagged(asdtype('>i4'))\n",
      "Jet.NSubJetsSoftDropped    TStreamerBasicType         asjagged(asdtype('>i4'))\n",
      "Jet.Constituents           TStreamerInfo              asgenobj(SimpleArray(TRefArray))\n",
      "Jet.Particles              TStreamerInfo              asgenobj(SimpleArray(TRefArray))\n",
      "Jet.Area                   TStreamerInfo              asjagged(asobj(<uproot_methods.classes.TLorentzVector.Methods>))\n",
      "\n"
     ]
    }
   ],
   "source": [
    "jet.show()"
   ],
   "metadata": {
    "collapsed": false,
    "pycharm": {
     "name": "#%%\n"
    }
   }
  },
  {
   "cell_type": "markdown",
   "source": [
    "## Uproot interpretations\n",
    "\n",
    "- Can see from the right hand column that there are different possible\n",
    "combinations of datatypes each field can have\n",
    "\n",
    "- As I see it (based on the examples I have seen), there are\n",
    "4 different types of data structures interpretations that a field\n",
    "can have:\n",
    "\n",
    "    - a fixed data structure interpretation\n",
    "\n",
    "    - a jagged data structure interpretation\n",
    "\n",
    "    - an object data structure interpretation\n",
    "\n",
    "    - a nested data structure interpretation\n",
    "\n",
    "        - Note: in `uproot` you have to check if a field is nested by\n",
    "        looking at its .keys() list of subfields, but in `uproot4`\n",
    "        you could check in the same way as for the other interpretations"
   ],
   "metadata": {
    "collapsed": false,
    "pycharm": {
     "name": "#%% md\n"
    }
   }
  },
  {
   "cell_type": "code",
   "execution_count": 8,
   "outputs": [
    {
     "name": "stdout",
     "output_type": "stream",
     "text": [
      "Example of fixed interpretation: `Jet_size`: <class 'uproot.interp.numerical.asdtype'>\n",
      "\n",
      "Example of jagged interpretation: `Jet.Mass`: <class 'uproot.interp.jagged.asjagged'>\n",
      "\n",
      "Example of object interpretation: `Jet.Constituents`: <class 'uproot.interp.objects.asgenobj'>\n",
      "\n",
      "Example of nested interpretation: `Jet`: <class 'uproot.interp.numerical.asdtype'>\n",
      "\n"
     ]
    }
   ],
   "source": [
    "jet_size_interp = type(tree['Jet_size'].interpretation)\n",
    "print(\"Example of fixed interpretation: `Jet_size`: {}\\n\".format(jet_size_interp))\n",
    "\n",
    "jet_mass_interp = type(tree['Jet.Mass'].interpretation)\n",
    "print(\"Example of jagged interpretation: `Jet.Mass`: {}\\n\".format(jet_mass_interp))\n",
    "\n",
    "jet_const_interp = type(tree['Jet.Constituents'].interpretation)\n",
    "print(\"Example of object interpretation: `Jet.Constituents`: {}\\n\".format(jet_const_interp))\n",
    "\n",
    "jet_interp = type(tree['Jet'].interpretation)\n",
    "print(\"Example of nested interpretation: `Jet`: {}\\n\".format(jet_interp))\n"
   ],
   "metadata": {
    "collapsed": false,
    "pycharm": {
     "name": "#%%\n"
    }
   }
  },
  {
   "cell_type": "code",
   "execution_count": 9,
   "outputs": [
    {
     "name": "stdout",
     "output_type": "stream",
     "text": [
      "# of events: 1000\n"
     ]
    }
   ],
   "source": [
    "# Note: we are reading in data in the column manner as mentioned above.\n",
    "# To read in a column, specify the column name, e.g.\n",
    "\n",
    "jet_size = tree['Jet_size']\n",
    "\n",
    "# Can check the number of events by checking the length of the column\n",
    "\n",
    "print(\"# of events: {}\".format(len(jet_size)))"
   ],
   "metadata": {
    "collapsed": false,
    "pycharm": {
     "name": "#%%\n"
    }
   }
  },
  {
   "cell_type": "markdown",
   "source": [
    "### Fixed interpretation\n",
    "\n",
    "- Each event in a fixed column is associated to single number.\n",
    "\n",
    "- It is called fixed because each event has a fixed number of data points associated\n",
    "with it; in this case, 1."
   ],
   "metadata": {
    "collapsed": false,
    "pycharm": {
     "name": "#%% md\n"
    }
   }
  },
  {
   "cell_type": "code",
   "execution_count": 10,
   "outputs": [
    {
     "name": "stdout",
     "output_type": "stream",
     "text": [
      "<class 'numpy.ndarray'>\n",
      "4\n",
      "2\n",
      "4\n"
     ]
    }
   ],
   "source": [
    "jet_size = tree['Jet_size']\n",
    "print(type(jet_size.array()))\n",
    "for i in jet_size.array()[:3]:\n",
    "    print(i)"
   ],
   "metadata": {
    "collapsed": false,
    "pycharm": {
     "name": "#%%\n"
    }
   }
  },
  {
   "cell_type": "markdown",
   "source": [
    "### Jagged interpretation\n",
    "\n",
    "- Each event in a jagged column is associated to an array.\n",
    "\n",
    "- It is called jagged because each event has a variable/jagged number of possible\n",
    "data points associated with it.\n",
    "\n",
    "- The interpretation of these fields is that each event has a variable number of\n",
    "say Jets, and that each jet in each event has an associated data point given in\n",
    "jagged array\n",
    "\n",
    "- Note: across different fields within the same subtree, each field has the same\n",
    "size jagged array. For example, the first event in jet mass, `tree['Jet.Mass'].array()[0]`,\n",
    "has the same size as the first event in jet charge, `tree['Jet.Charge'].array()[0]`.\n",
    "\n",
    "    - Caveat: not technically true. Actually across different fields within each\n",
    "    subtree, each field can be an integer multiple of the minimum of data points.\n",
    "    For example, if an event has 4 jets, then a jagged field can have length 4\n",
    "    (Jet.Mass) or say length 20 (Jet.Tau[5]), where the first 5 points are associated\n",
    "    to the first jet, the next 5 to second jet, and so on.\n",
    "\n",
    "- Note: however, across different fields from different subtrees, this is not the case.\n",
    "E.g. the first event in jet mass, `tree['Jet.Mass'].array()[0]`, is not the same size\n",
    "as the first event in particle energy, `tree['Particle.E'].array()[0]`."
   ],
   "metadata": {
    "collapsed": false,
    "pycharm": {
     "name": "#%% md\n"
    }
   }
  },
  {
   "cell_type": "code",
   "execution_count": 11,
   "outputs": [
    {
     "name": "stdout",
     "output_type": "stream",
     "text": [
      "<class 'awkward.array.jagged.JaggedArray'>\n",
      "[206.97768  179.3755    10.840576  14.236657]\n",
      "[180.59798 133.46812]\n",
      "[216.01949   167.80676     8.562021    7.6187215]\n"
     ]
    }
   ],
   "source": [
    "jet_mass = tree['Jet.Mass']\n",
    "print(type(jet_mass.array()))\n",
    "for i in jet_mass.array()[:3]:\n",
    "    print(i)"
   ],
   "metadata": {
    "collapsed": false,
    "pycharm": {
     "name": "#%%\n"
    }
   }
  },
  {
   "cell_type": "markdown",
   "source": [
    "### Object interpretation\n",
    "\n",
    "- Each event in an object column is associated to an array.\n",
    "\n",
    "- Like jagged arrays, object arrays have a varying length that is related to say the\n",
    "number of jets in each event.\n",
    "\n",
    "- Unlike jagged interpretations, object interpretations seem to have two levels of\n",
    "variation, where, for example, each of the four jets in the first event has an\n",
    "array of varying length."
   ],
   "metadata": {
    "collapsed": false,
    "pycharm": {
     "name": "#%% md\n"
    }
   }
  },
  {
   "cell_type": "code",
   "execution_count": 12,
   "outputs": [
    {
     "name": "stdout",
     "output_type": "stream",
     "text": [
      "<class 'awkward.array.objects.ObjectArray'>\n",
      "[1398, 1428, 1275, 1427, 1413, 1268, 1452, 1260, 1443, 1441, 1448, 1246, 1442, 1250, 1439, 1446, 1254, 1444, 1445, 1415, 1421, 1227, 1230, 1419, 1417, 1430, 1393, 1207, 1396, 1391, 1395, 1411, 1400, 1394, 1224, 1222, 1403, 1219, 1205, 1402, 1406, 1212, 1210, 1404, 1217, 1408, 1407, 1215]\n",
      "[1324, 1322, 1321, 1334, 1464, 1319, 1326, 1389, 1381, 1385, 1379, 1380, 1179, 1383, 1384, 1183, 1100, 1197, 1328, 1102, 1337, 1330, 1113, 1346, 1366, 1387, 1163, 1194, 1167, 1172, 1159, 1169, 1118, 1364, 1150, 1121, 1123, 1342, 1340, 1133, 1135, 1339, 1141, 1131, 1349, 1335, 1138, 1344, 1143, 1351, 1377, 1187, 1372, 1376, 1371, 1153, 1347, 1357, 1368, 1370, 1374, 1359, 1353, 1355, 1157, 1361, 1360, 1362]\n",
      "[1454, 1266, 1270, 1450, 1423, 1433, 1425, 1437, 1432, 1435]\n",
      "[1286, 1488, 1471, 1469, 1485, 1473, 1477, 1290, 1475, 1481, 1483]\n",
      "\n",
      "[1375, 1373, 1236, 1326, 1332, 1322, 1288, 1324, 1128, 1327, 1320, 1328, 1323, 1314, 1309, 1286, 1301, 1316, 1094, 1312, 1298, 1096, 1310, 1089, 1300, 1278, 1249, 1303, 1078, 1080, 1251, 1076, 1290, 1030, 1272, 1255, 1061, 1253, 1048, 1038, 1265, 1247, 1256, 1259, 1036, 1043, 1028, 1276, 1258, 1045, 1274, 1058, 1262, 1056, 1267, 1268, 1261, 1263, 1266, 1054]\n",
      "[1280, 1282, 1284, 1100, 1294, 1270, 1105, 1084, 1292, 1296, 1086, 1102, 1318, 1108, 1113, 1306, 1111, 1135, 1340, 1125, 1132, 1334, 1330, 1369, 1336, 1338, 1151, 1143, 1344, 1356, 1195, 1192, 1353, 1365, 1350, 1184, 1171, 1168, 1360, 1186, 1359, 1188, 1358, 1173, 1182, 1351, 1362, 1005, 1367, 1366, 1178, 1361, 1363, 1342, 1348, 1164, 1162, 1156, 1158, 1346, 1347]\n",
      "\n",
      "[2439, 2399, 2394, 2401, 2405, 2107, 2355, 2104, 2352, 2334, 2370, 2351, 2372, 2061, 2059, 2353, 2374, 2395, 2380, 2397, 2368, 2332, 2367, 2057, 2051, 2048, 2347, 2309, 2330, 2011, 2345, 2349, 2038, 2348, 2009, 2319, 2019, 2344, 2328, 2028, 2023, 2007, 2320, 2005, 2326, 2322, 2016, 1993, 1989, 1997, 2000, 2002, 1995, 2324, 2323, 2325, 2072, 2075, 2090, 2386, 2388, 2077, 2384, 2086, 2079, 2088, 2382, 2385]\n",
      "[2417, 2241, 2390, 2032, 1913, 2244, 2336, 2420, 2273, 2391, 2437, 2232, 2363, 2433, 2252, 2378, 2055, 2357, 2277, 2263, 1943, 2046, 2339, 2036, 2364, 2359, 2415, 2361, 2313, 2341, 2317, 2303, 2435, 2338, 2315, 2305, 2289, 2302, 2291, 1982, 2311, 1964, 2295, 1977, 2299, 2307, 2296, 2293, 2297, 1979, 2300, 1973, 2248, 2279, 1958, 1960, 2256, 2264, 1962, 1953, 2250, 1905, 2285, 1951, 1907, 2283, 2266, 2258, 2281, 2276, 2261, 1927, 2259, 2254, 1922, 2275, 1934, 2268, 2270, 1939, 2269, 2272, 1932]\n",
      "[2450, 2466, 2158, 2470, 2161, 2461, 2167, 2464]\n",
      "[2392, 2376, 1893, 2234, 2237, 2242, 2246, 2239, 1887]\n",
      "\n"
     ]
    },
    {
     "name": "stderr",
     "output_type": "stream",
     "text": [
      "/Users/edisonweik/.pyenv/versions/3.6.11/lib/python3.6/site-packages/awkward/array/base.py:394: VisibleDeprecationWarning: Creating an ndarray from ragged nested sequences (which is a list-or-tuple of lists-or-tuples-or ndarrays with different lengths or shapes) is deprecated. If you meant to do this, you must specify 'dtype=object' when creating the ndarray\n",
      "  return cls.numpy.array(value, copy=False)\n"
     ]
    }
   ],
   "source": [
    "jet_const = tree['Jet.Constituents']\n",
    "print(type(jet_const.array()))\n",
    "for i in jet_const.array()[:3]:\n",
    "    for j in i:\n",
    "        print(j)\n",
    "    print()"
   ],
   "metadata": {
    "collapsed": false,
    "pycharm": {
     "name": "#%%\n"
    }
   }
  },
  {
   "cell_type": "markdown",
   "source": [
    "### Nested interpretation\n",
    "\n",
    "- As mentioned above, `uproot` doesn't assign a special interpretation to nested fields.\n",
    "You have to check the length of the array that .keys() returns\n",
    "\n",
    "- However, `uproot4` does interpret nested fields as `Groups`."
   ],
   "metadata": {
    "collapsed": false,
    "pycharm": {
     "name": "#%% md\n"
    }
   }
  },
  {
   "cell_type": "code",
   "execution_count": 13,
   "outputs": [
    {
     "name": "stdout",
     "output_type": "stream",
     "text": [
      "Length of .keys() for nested field: 35\n",
      "Length of .keys() for non-nested field: 0\n"
     ]
    }
   ],
   "source": [
    "nested_key_length = len(jet.keys())\n",
    "non_nested_key_length = len(jet_mass.keys())\n",
    "print(\"Length of .keys() for nested field: {}\".format(nested_key_length))\n",
    "print(\"Length of .keys() for non-nested field: {}\".format(non_nested_key_length))"
   ],
   "metadata": {
    "collapsed": false,
    "pycharm": {
     "name": "#%%\n"
    }
   }
  },
  {
   "cell_type": "markdown",
   "source": [
    "## Primitives\n",
    "\n",
    "- Each field, regardless of whether it is jagged or fixed or object, has an associated\n",
    "primitive data type associated with it. Can again see this in the .show() function above."
   ],
   "metadata": {
    "collapsed": false,
    "pycharm": {
     "name": "#%% md\n"
    }
   }
  },
  {
   "cell_type": "code",
   "execution_count": 22,
   "outputs": [
    {
     "name": "stdout",
     "output_type": "stream",
     "text": [
      "Jet mass primitive: float32\n",
      "Jet pruned primitive: <class 'uproot_methods.classes.TLorentzVector.Methods'>\n",
      "Muon Particle primitive: <class 'uproot.rootio.TRef'>\n"
     ]
    }
   ],
   "source": [
    "prim1 = jet_mass.interpretation.type.to\n",
    "jet_pruned = tree['Jet.PrunedP4[5]']\n",
    "prim2 = jet_pruned.interpretation.type.to\n",
    "muon_particle = tree['Muon.Particle']\n",
    "prim3 = muon_particle.interpretation.type.to\n",
    "\n",
    "print(\"Jet mass primitive: {}\".format(prim1))\n",
    "print(\"Jet pruned primitive: {}\".format(prim2))\n",
    "print(\"Muon Particle primitive: {}\".format(prim3))"
   ],
   "metadata": {
    "collapsed": false,
    "pycharm": {
     "name": "#%%\n"
    }
   }
  },
  {
   "cell_type": "markdown",
   "source": [
    "- Most of the primitives are numerical types: `int`, `float`, etc.\n",
    "\n",
    "- But some of them are custom types specific to particle physics: `TLorentzVector`\n",
    "and `TREF` are the only two I have come across so far. Each of these custom types\n",
    "are not really primitives, they are objects with methods and fields you can call.\n",
    "\n",
    "- Because a neural network can't process these custom types, I call one of their methods\n",
    "to convert them to numerical types. This, though, is rather ad hoc, just so I can\n",
    "train them.\n",
    "\n",
    "    - Question: How should I be dealing with this?\n",
    "\n",
    "    - Perhaps, add a field in the yaml file so the user can specify what to do?\n",
    "    Or something else?"
   ],
   "metadata": {
    "collapsed": false,
    "pycharm": {
     "name": "#%% md\n"
    }
   }
  },
  {
   "cell_type": "code",
   "execution_count": 29,
   "outputs": [
    {
     "name": "stdout",
     "output_type": "stream",
     "text": [
      "[TLorentzVector(x=0, y=0, z=0, t=0) TLorentzVector(x=0, y=0, z=0, t=0) TLorentzVector(x=0, y=0, z=0, t=0) ... TLorentzVector(x=0, y=0, z=0, t=0) TLorentzVector(x=0, y=0, z=0, t=0) TLorentzVector(x=0, y=0, z=0, t=0)]\n",
      "[<TRef 424>]\n",
      "[0. 0. 0. 0. 0. 0. 0. 0. 0. 0. 0. 0. 0. 0. 0. 0. 0. 0. 0. 0.]\n",
      "[424]\n"
     ]
    }
   ],
   "source": [
    "print(jet_pruned.array()[0])\n",
    "print(muon_particle.array()[275])\n",
    "print()\n",
    "print(jet_pruned.array().E[0])\n",
    "print(muon_particle.array().id[275])\n"
   ],
   "metadata": {
    "collapsed": false,
    "pycharm": {
     "name": "#%%\n"
    }
   }
  },
  {
   "cell_type": "markdown",
   "source": [
    "## Converting to something a neural network can read\n",
    "\n",
    "- `uproot` reads in data organized in columns.\n",
    "\n",
    "- But a neural network would presumably process a single event at a time, not a single\n",
    "field at a time. That is, it would process rows, not columns.\n",
    "\n",
    "- So, given a set of fields that are to be used as inputs in a neural network,\n",
    "I process the data from those fields such that it is organized as rows instead\n",
    "of columns."
   ],
   "metadata": {
    "collapsed": false,
    "pycharm": {
     "name": "#%% md\n"
    }
   }
  },
  {
   "cell_type": "code",
   "execution_count": 40,
   "outputs": [
    {
     "name": "stdout",
     "output_type": "stream",
     "text": [
      "before processing\n",
      "Jet.PT: [[827.8882 769.4987 97.594574 70.50537] [936.3517 898.72076]]\n",
      "Jet.Eta: [[0.27329388 -0.33246595 0.49002475 3.0309205] [-0.15793906 0.4833028]]\n",
      "Jet.Phi: [[0.88772887 -2.410344 -0.22583866 -1.910816] [1.7673397 -1.3502347]]\n",
      "\n",
      "after processing\n",
      "Event 1: [[ 8.2788818e+02  2.7329388e-01  8.8772887e-01]\n",
      " [ 7.6949872e+02 -3.3246595e-01 -2.4103439e+00]\n",
      " [ 9.7594574e+01  4.9002475e-01 -2.2583866e-01]\n",
      " [ 7.0505371e+01  3.0309205e+00 -1.9108160e+00]]\n",
      "\n",
      "Event 2: [[ 9.3635168e+02 -1.5793906e-01  1.7673397e+00]\n",
      " [ 8.9872076e+02  4.8330280e-01 -1.3502347e+00]]\n",
      "\n"
     ]
    }
   ],
   "source": [
    "# Example\n",
    "\n",
    "fields = ['Jet.PT', 'Jet.Eta', 'Jet.Phi']\n",
    "\n",
    "print(\"before processing\")\n",
    "for col_dict in tree.iterate(branches=fields, entrysteps=2, namedecode='ascii'):\n",
    "    for k, v in col_dict.items():\n",
    "        print(\"{}: {}\".format(k, v))\n",
    "    break\n",
    "print()\n",
    "\n",
    "print(\"after processing\")\n",
    "from awkwardNN.utils.dataset_utils_uproot import get_events_from_tree\n",
    "data = get_events_from_tree(tree, fields)\n",
    "for i in range(2):\n",
    "    print(\"Event {}: {}\\n\".format(i+1, data[i]))\n"
   ],
   "metadata": {
    "collapsed": false,
    "pycharm": {
     "name": "#%%\n"
    }
   }
  },
  {
   "cell_type": "markdown",
   "source": [
    "- Assumption: the $$ith$$ index of a field, say `Jet.PT`, in say event 1, is\n",
    "associated with the $$ith$$ index of `Jet.Eta` for the same event.\n",
    "That is to say, if there are 4 jets in an event, then each jagged field\n",
    "for that event will be of length 4, where I assume that for each field,\n",
    "the first element of the jagged array will always correspond to the same jet,\n",
    "and the second element will correspond to the same second jet, and so on.\n",
    "\n",
    "    - As opposed to all the elements of a jagged array just being associated\n",
    "    to one of the 4 jets, but we can't tell which jet because of how the data\n",
    "    was first processed initially.\n",
    "\n",
    "- Then, when this goes through a neural network, say an rnn or lstm, it will\n",
    "process each event sequentially by processing each jet or each particle\n",
    "in an event.\n",
    "\n",
    "- Note: The way I organize events and fields means that fixed fields, jagged fields,\n",
    "and object fields should be not trained together on a single neural network.\n",
    "\n",
    "- Note: fields from different events shouldn't be trained together on\n",
    "the same neural network because their is no natural way to pre process them in the same\n",
    "manner as the above example. E.g. The $$ith$$ event in the `Particle` subtree may have 3\n",
    "particles with 6 fields, but the same event in the `Jet` subtree may have 5 jets with\n",
    "4 fields. It's not obvious to me how to combine these in a way for a neural network\n",
    "to process, especially if the fields are different sizes.\n"
   ],
   "metadata": {
    "collapsed": false,
    "pycharm": {
     "name": "#%% md\n"
    }
   }
  },
  {
   "cell_type": "markdown",
   "source": [
    "## Note: bad keys\n",
    "\n",
    "- Sometimes `uproot` can't read in some fields because of some error related\n",
    "to way the data is organized in memory (I think).\n",
    "\n",
    "- The fields that return errors in the rootfiles `test_qcd_1000.root` and\n",
    "`test_ttbar_1000.root` are: `EFlowNeutralHadron.fBits`, `EFlowPhoton.fBits`,\n",
    "`EFlowTrack.fBits`, `Muon.fBits`, `Particle.fBits`, `Tower.fBits`, `Track.fBits`\n",
    "\n",
    "- These keys are also filtered out during the yaml file processing. They are also\n",
    "specified in the yaml file.\n"
   ],
   "metadata": {
    "collapsed": false,
    "pycharm": {
     "name": "#%% md\n"
    }
   }
  },
  {
   "cell_type": "code",
   "execution_count": 42,
   "outputs": [
    {
     "ename": "AssertionError",
     "evalue": "",
     "output_type": "error",
     "traceback": [
      "\u001B[0;31m---------------------------------------------------------------------------\u001B[0m",
      "\u001B[0;31mAssertionError\u001B[0m                            Traceback (most recent call last)",
      "\u001B[0;32m<ipython-input-42-b42b5550945c>\u001B[0m in \u001B[0;36m<module>\u001B[0;34m\u001B[0m\n\u001B[0;32m----> 1\u001B[0;31m \u001B[0mtree\u001B[0m\u001B[0;34m[\u001B[0m\u001B[0;34m\"EFlowNeutralHadron.fBits\"\u001B[0m\u001B[0;34m]\u001B[0m\u001B[0;34m.\u001B[0m\u001B[0marray\u001B[0m\u001B[0;34m(\u001B[0m\u001B[0;34m)\u001B[0m\u001B[0;34m\u001B[0m\u001B[0;34m\u001B[0m\u001B[0m\n\u001B[0m\u001B[1;32m      2\u001B[0m \u001B[0;34m\u001B[0m\u001B[0m\n",
      "\u001B[0;32m~/.pyenv/versions/3.6.11/lib/python3.6/site-packages/uproot/tree.py\u001B[0m in \u001B[0;36marray\u001B[0;34m(self, interpretation, entrystart, entrystop, flatten, awkwardlib, cache, basketcache, keycache, executor, blocking)\u001B[0m\n\u001B[1;32m   1415\u001B[0m             \u001B[0mkeycache\u001B[0m \u001B[0;34m=\u001B[0m \u001B[0;34m{\u001B[0m\u001B[0;34m}\u001B[0m\u001B[0;34m\u001B[0m\u001B[0;34m\u001B[0m\u001B[0m\n\u001B[1;32m   1416\u001B[0m \u001B[0;34m\u001B[0m\u001B[0m\n\u001B[0;32m-> 1417\u001B[0;31m         \u001B[0mbasket_itemoffset\u001B[0m \u001B[0;34m=\u001B[0m \u001B[0mself\u001B[0m\u001B[0;34m.\u001B[0m\u001B[0m_basket_itemoffset\u001B[0m\u001B[0;34m(\u001B[0m\u001B[0minterpretation\u001B[0m\u001B[0;34m,\u001B[0m \u001B[0mbasketstart\u001B[0m\u001B[0;34m,\u001B[0m \u001B[0mbasketstop\u001B[0m\u001B[0;34m,\u001B[0m \u001B[0mkeycache\u001B[0m\u001B[0;34m)\u001B[0m\u001B[0;34m\u001B[0m\u001B[0;34m\u001B[0m\u001B[0m\n\u001B[0m\u001B[1;32m   1418\u001B[0m         \u001B[0mbasket_entryoffset\u001B[0m \u001B[0;34m=\u001B[0m \u001B[0mself\u001B[0m\u001B[0;34m.\u001B[0m\u001B[0m_basket_entryoffset\u001B[0m\u001B[0;34m(\u001B[0m\u001B[0mbasketstart\u001B[0m\u001B[0;34m,\u001B[0m \u001B[0mbasketstop\u001B[0m\u001B[0;34m)\u001B[0m\u001B[0;34m\u001B[0m\u001B[0;34m\u001B[0m\u001B[0m\n\u001B[1;32m   1419\u001B[0m \u001B[0;34m\u001B[0m\u001B[0m\n",
      "\u001B[0;32m~/.pyenv/versions/3.6.11/lib/python3.6/site-packages/uproot/tree.py\u001B[0m in \u001B[0;36m_basket_itemoffset\u001B[0;34m(self, interpretation, basketstart, basketstop, keycache)\u001B[0m\n\u001B[1;32m   1370\u001B[0m         \u001B[0;32mfor\u001B[0m \u001B[0mj\u001B[0m\u001B[0;34m,\u001B[0m \u001B[0mkey\u001B[0m \u001B[0;32min\u001B[0m \u001B[0menumerate\u001B[0m\u001B[0;34m(\u001B[0m\u001B[0mself\u001B[0m\u001B[0;34m.\u001B[0m\u001B[0m_threadsafe_iterate_keys\u001B[0m\u001B[0;34m(\u001B[0m\u001B[0mkeycache\u001B[0m\u001B[0;34m,\u001B[0m \u001B[0;32mTrue\u001B[0m\u001B[0;34m,\u001B[0m \u001B[0mbasketstart\u001B[0m\u001B[0;34m,\u001B[0m \u001B[0mbasketstop\u001B[0m\u001B[0;34m)\u001B[0m\u001B[0;34m)\u001B[0m\u001B[0;34m:\u001B[0m\u001B[0;34m\u001B[0m\u001B[0;34m\u001B[0m\u001B[0m\n\u001B[1;32m   1371\u001B[0m             \u001B[0mi\u001B[0m \u001B[0;34m=\u001B[0m \u001B[0mbasketstart\u001B[0m \u001B[0;34m+\u001B[0m \u001B[0mj\u001B[0m\u001B[0;34m\u001B[0m\u001B[0;34m\u001B[0m\u001B[0m\n\u001B[0;32m-> 1372\u001B[0;31m             \u001B[0mnumitems\u001B[0m \u001B[0;34m=\u001B[0m \u001B[0minterpretation\u001B[0m\u001B[0;34m.\u001B[0m\u001B[0mnumitems\u001B[0m\u001B[0;34m(\u001B[0m\u001B[0mkey\u001B[0m\u001B[0;34m.\u001B[0m\u001B[0mborder\u001B[0m\u001B[0;34m,\u001B[0m \u001B[0mself\u001B[0m\u001B[0;34m.\u001B[0m\u001B[0mbasket_numentries\u001B[0m\u001B[0;34m(\u001B[0m\u001B[0mi\u001B[0m\u001B[0;34m)\u001B[0m\u001B[0;34m)\u001B[0m\u001B[0;34m\u001B[0m\u001B[0;34m\u001B[0m\u001B[0m\n\u001B[0m\u001B[1;32m   1373\u001B[0m             \u001B[0mbasket_itemoffset\u001B[0m\u001B[0;34m.\u001B[0m\u001B[0mappend\u001B[0m\u001B[0;34m(\u001B[0m\u001B[0mbasket_itemoffset\u001B[0m\u001B[0;34m[\u001B[0m\u001B[0;34m-\u001B[0m\u001B[0;36m1\u001B[0m\u001B[0;34m]\u001B[0m \u001B[0;34m+\u001B[0m \u001B[0mnumitems\u001B[0m\u001B[0;34m)\u001B[0m\u001B[0;34m\u001B[0m\u001B[0;34m\u001B[0m\u001B[0m\n\u001B[1;32m   1374\u001B[0m         \u001B[0;32mreturn\u001B[0m \u001B[0mbasket_itemoffset\u001B[0m\u001B[0;34m\u001B[0m\u001B[0;34m\u001B[0m\u001B[0m\n",
      "\u001B[0;32m~/.pyenv/versions/3.6.11/lib/python3.6/site-packages/uproot/interp/jagged.py\u001B[0m in \u001B[0;36mnumitems\u001B[0;34m(self, numbytes, numentries)\u001B[0m\n\u001B[1;32m     59\u001B[0m \u001B[0;34m\u001B[0m\u001B[0m\n\u001B[1;32m     60\u001B[0m     \u001B[0;32mdef\u001B[0m \u001B[0mnumitems\u001B[0m\u001B[0;34m(\u001B[0m\u001B[0mself\u001B[0m\u001B[0;34m,\u001B[0m \u001B[0mnumbytes\u001B[0m\u001B[0;34m,\u001B[0m \u001B[0mnumentries\u001B[0m\u001B[0;34m)\u001B[0m\u001B[0;34m:\u001B[0m\u001B[0;34m\u001B[0m\u001B[0;34m\u001B[0m\u001B[0m\n\u001B[0;32m---> 61\u001B[0;31m         \u001B[0;32mreturn\u001B[0m \u001B[0mself\u001B[0m\u001B[0;34m.\u001B[0m\u001B[0mcontent\u001B[0m\u001B[0;34m.\u001B[0m\u001B[0mnumitems\u001B[0m\u001B[0;34m(\u001B[0m\u001B[0mnumbytes\u001B[0m \u001B[0;34m-\u001B[0m \u001B[0mnumentries\u001B[0m \u001B[0;34m*\u001B[0m \u001B[0mself\u001B[0m\u001B[0;34m.\u001B[0m\u001B[0mskipbytes\u001B[0m\u001B[0;34m,\u001B[0m \u001B[0mnumentries\u001B[0m\u001B[0;34m)\u001B[0m\u001B[0;34m\u001B[0m\u001B[0;34m\u001B[0m\u001B[0m\n\u001B[0m\u001B[1;32m     62\u001B[0m \u001B[0;34m\u001B[0m\u001B[0m\n\u001B[1;32m     63\u001B[0m     \u001B[0;32mdef\u001B[0m \u001B[0msource_numitems\u001B[0m\u001B[0;34m(\u001B[0m\u001B[0mself\u001B[0m\u001B[0;34m,\u001B[0m \u001B[0msource\u001B[0m\u001B[0;34m)\u001B[0m\u001B[0;34m:\u001B[0m\u001B[0;34m\u001B[0m\u001B[0;34m\u001B[0m\u001B[0m\n",
      "\u001B[0;32m~/.pyenv/versions/3.6.11/lib/python3.6/site-packages/uproot/interp/numerical.py\u001B[0m in \u001B[0;36mnumitems\u001B[0;34m(self, numbytes, numentries)\u001B[0m\n\u001B[1;32m    157\u001B[0m         \u001B[0mdtype\u001B[0m\u001B[0;34m,\u001B[0m \u001B[0mshape\u001B[0m \u001B[0;34m=\u001B[0m \u001B[0m_dtypeshape\u001B[0m\u001B[0;34m(\u001B[0m\u001B[0mself\u001B[0m\u001B[0;34m.\u001B[0m\u001B[0mfromdtype\u001B[0m\u001B[0;34m)\u001B[0m\u001B[0;34m\u001B[0m\u001B[0;34m\u001B[0m\u001B[0m\n\u001B[1;32m    158\u001B[0m         \u001B[0mquotient\u001B[0m\u001B[0;34m,\u001B[0m \u001B[0mremainder\u001B[0m \u001B[0;34m=\u001B[0m \u001B[0mdivmod\u001B[0m\u001B[0;34m(\u001B[0m\u001B[0mnumbytes\u001B[0m\u001B[0;34m,\u001B[0m \u001B[0mdtype\u001B[0m\u001B[0;34m.\u001B[0m\u001B[0mitemsize\u001B[0m\u001B[0;34m)\u001B[0m\u001B[0;34m\u001B[0m\u001B[0;34m\u001B[0m\u001B[0m\n\u001B[0;32m--> 159\u001B[0;31m         \u001B[0;32massert\u001B[0m \u001B[0mremainder\u001B[0m \u001B[0;34m==\u001B[0m \u001B[0;36m0\u001B[0m\u001B[0;34m\u001B[0m\u001B[0;34m\u001B[0m\u001B[0m\n\u001B[0m\u001B[1;32m    160\u001B[0m         \u001B[0;32mreturn\u001B[0m \u001B[0mquotient\u001B[0m\u001B[0;34m\u001B[0m\u001B[0;34m\u001B[0m\u001B[0m\n\u001B[1;32m    161\u001B[0m \u001B[0;34m\u001B[0m\u001B[0m\n",
      "\u001B[0;31mAssertionError\u001B[0m: "
     ]
    }
   ],
   "source": [
    "tree[\"EFlowNeutralHadron.fBits\"].array()"
   ],
   "metadata": {
    "collapsed": false,
    "pycharm": {
     "name": "#%%\n"
    }
   }
  },
  {
   "cell_type": "code",
   "execution_count": null,
   "outputs": [],
   "source": [],
   "metadata": {
    "collapsed": false,
    "pycharm": {
     "name": "#%%\n"
    }
   }
  }
 ],
 "metadata": {
  "kernelspec": {
   "display_name": "Python 3",
   "language": "python",
   "name": "python3"
  },
  "language_info": {
   "codemirror_mode": {
    "name": "ipython",
    "version": 2
   },
   "file_extension": ".py",
   "mimetype": "text/x-python",
   "name": "python",
   "nbconvert_exporter": "python",
   "pygments_lexer": "ipython2",
   "version": "2.7.6"
  }
 },
 "nbformat": 4,
 "nbformat_minor": 0
}