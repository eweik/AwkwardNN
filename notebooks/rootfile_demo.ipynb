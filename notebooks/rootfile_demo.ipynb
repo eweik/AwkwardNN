{
 "cells": [
  {
   "cell_type": "markdown",
   "metadata": {
    "collapsed": true,
    "pycharm": {
     "name": "#%% md\n"
    }
   },
   "source": [
    "# Rootfiles and uproot\n",
    "\n",
    "- Rootfiles contain particle physics data organized in a\n",
    "column-style format.\n",
    "\n",
    "- Specifically, Rootfile datasets is composed of events and\n",
    "each event is composed of fields of data.\n",
    "\n",
    "    - Events correspond to rows.\n",
    "    - Fields correspond to columns.\n",
    "\n",
    "- To access the Rootfile data, a user reads in\n",
    "the columns/fields from the dataset (because that is how it\n",
    "was chosen to be organized).\n",
    "\n",
    "    - You cannot read in rows/individual events.\n",
    "\n",
    "\n",
    "- `Uproot` is a python library that allows direct access to root files\n",
    "without dealing with the `ROOT` program.\n",
    "\n",
    "- `Uproot4` is currently being developed to replace `Uproot`, but it has\n",
    "some issues dealing with certain characters in the column names\n",
    "(heretoafter referred to as field names). But the same general ideas\n",
    "for `Uproot` apply to `Uproot4`.\n",
    "\n",
    "    - Note: `Uproot4` does make reading in data easier, and I have already\n",
    "    written some code to transition to uproot4/awkward1 easily once the bugs\n",
    "    are fixed.\n",
    "\n",
    "- This notebook will focus on Uproot, not Uproot4.\n"
   ]
  },
  {
   "cell_type": "code",
   "execution_count": 1,
   "outputs": [],
   "source": [
    "import uproot\n"
   ],
   "metadata": {
    "collapsed": false,
    "pycharm": {
     "name": "#%%\n"
    }
   }
  },
  {
   "cell_type": "markdown",
   "source": [
    "Opening rootfiles returns a `ROOTDirectory` object.\n"
   ],
   "metadata": {
    "collapsed": false,
    "pycharm": {
     "name": "#%% md\n"
    }
   }
  },
  {
   "cell_type": "code",
   "execution_count": 2,
   "outputs": [
    {
     "name": "stdout",
     "output_type": "stream",
     "text": [
      "<class 'uproot.rootio.ROOTDirectory'>\n"
     ]
    }
   ],
   "source": [
    "file = uproot.open(\"../data/test_ttbar_1000.root\")\n",
    "print(type(file))"
   ],
   "metadata": {
    "collapsed": false,
    "pycharm": {
     "name": "#%%\n"
    }
   }
  },
  {
   "cell_type": "markdown",
   "source": [
    "The `ROOTDirectory` should contain a `TTree` object, which contains the\n",
    "data we're interested in."
   ],
   "metadata": {
    "collapsed": false,
    "pycharm": {
     "name": "#%% md\n"
    }
   }
  },
  {
   "cell_type": "code",
   "execution_count": 3,
   "outputs": [
    {
     "name": "stdout",
     "output_type": "stream",
     "text": [
      "b'ProcessID0;1' <TProcessID b'ProcessID0' at 0x000105d6d4a8>\n",
      "b'Delphes;1' <TTree b'Delphes' at 0x000105d6d588>\n"
     ]
    }
   ],
   "source": [
    "for k, v in file.items():\n",
    "    print(\"{} {}\".format(k, v))\n"
   ],
   "metadata": {
    "collapsed": false,
    "pycharm": {
     "name": "#%%\n"
    }
   }
  },
  {
   "cell_type": "markdown",
   "source": [
    "## TTree\n",
    "\n",
    "- The method .keys() returns a list of all the fields at the top of the\n",
    "rootfile data structure.\n",
    "\n",
    "- Some of these fields are associated with subtrees, which contain\n",
    "subfields within their own tree structure.\n",
    "\n",
    "- The method .allkeys() returns a list of all the fields in the entire\n",
    "rootfile data structure, down through all subtrees."
   ],
   "metadata": {
    "collapsed": false,
    "pycharm": {
     "name": "#%% md\n"
    }
   }
  },
  {
   "cell_type": "code",
   "execution_count": 4,
   "outputs": [
    {
     "name": "stdout",
     "output_type": "stream",
     "text": [
      "Keys at top of tree structure\n",
      "b'Event'\n",
      "b'Event_size'\n",
      "b'Particle'\n",
      "b'Particle_size'\n",
      "b'Track'\n",
      "b'Track_size'\n",
      "b'Tower'\n",
      "b'Tower_size'\n",
      "b'EFlowTrack'\n",
      "b'EFlowTrack_size'\n",
      "b'EFlowPhoton'\n",
      "b'EFlowPhoton_size'\n",
      "b'EFlowNeutralHadron'\n",
      "b'EFlowNeutralHadron_size'\n",
      "b'Jet'\n",
      "b'Jet_size'\n",
      "b'Electron'\n",
      "b'Electron_size'\n",
      "b'Photon'\n",
      "b'Photon_size'\n",
      "b'Muon'\n",
      "b'Muon_size'\n",
      "b'FatJet'\n",
      "b'FatJet_size'\n",
      "b'MissingET'\n",
      "b'MissingET_size'\n",
      "b'ScalarHT'\n",
      "b'ScalarHT_size'\n",
      "\n",
      " total # of fields in rootfile: 299\n"
     ]
    }
   ],
   "source": [
    "tree = file['Delphes']\n",
    "print(\"Keys at top of tree structure\")\n",
    "for k in tree.keys():\n",
    "    print(k)\n",
    "print(\"\\n total # of fields in rootfile: {}\".format(len(tree.allkeys())))\n"
   ],
   "metadata": {
    "collapsed": false,
    "pycharm": {
     "name": "#%%\n"
    }
   }
  },
  {
   "cell_type": "markdown",
   "source": [
    "### Jet subtree\n",
    "\n",
    "- Because there are so many fields in this tree, we're going to focus on\n",
    "the subtree `Jet` in this notebook\n"
   ],
   "metadata": {
    "collapsed": false,
    "pycharm": {
     "name": "#%% md\n"
    }
   }
  },
  {
   "cell_type": "code",
   "execution_count": 5,
   "outputs": [],
   "source": [
    "jet = tree['Jet']\n"
   ],
   "metadata": {
    "collapsed": false,
    "pycharm": {
     "name": "#%%\n"
    }
   }
  },
  {
   "cell_type": "markdown",
   "source": [
    "\n",
    "- Can see the list of fields associated with the `Jet` field by\n",
    "calling .keys(), just as in the above cell.\n",
    "\n",
    "- But can see more information about `Jet` by calling the .show() method\n",
    "(can also do this with the above for tree.show()). Can see:\n",
    "\n",
    "    - the keys\n",
    "    - the `Uproot` interpretation\n",
    "    - the primitive data type (e.g. int, float, etc.)"
   ],
   "metadata": {
    "collapsed": false,
    "pycharm": {
     "name": "#%% md\n"
    }
   }
  },
  {
   "cell_type": "code",
   "execution_count": 6,
   "outputs": [
    {
     "name": "stdout",
     "output_type": "stream",
     "text": [
      "Jet                        TStreamerInfo              asdtype('>i4')\n",
      "Jet.fUniqueID              TStreamerBasicType         asjagged(asdtype('>u4'))\n",
      "Jet.fBits                  TStreamerBasicType         asjagged(asdtype('>u4'))\n",
      "Jet.PT                     TStreamerBasicType         asjagged(asdtype('>f4'))\n",
      "Jet.Eta                    TStreamerBasicType         asjagged(asdtype('>f4'))\n",
      "Jet.Phi                    TStreamerBasicType         asjagged(asdtype('>f4'))\n",
      "Jet.T                      TStreamerBasicType         asjagged(asdtype('>f4'))\n",
      "Jet.Mass                   TStreamerBasicType         asjagged(asdtype('>f4'))\n",
      "Jet.DeltaEta               TStreamerBasicType         asjagged(asdtype('>f4'))\n",
      "Jet.DeltaPhi               TStreamerBasicType         asjagged(asdtype('>f4'))\n",
      "Jet.Flavor                 TStreamerBasicType         asjagged(asdtype('>u4'))\n",
      "Jet.FlavorAlgo             TStreamerBasicType         asjagged(asdtype('>u4'))\n",
      "Jet.FlavorPhys             TStreamerBasicType         asjagged(asdtype('>u4'))\n",
      "Jet.BTag                   TStreamerBasicType         asjagged(asdtype('>u4'))\n",
      "Jet.BTagAlgo               TStreamerBasicType         asjagged(asdtype('>u4'))\n",
      "Jet.BTagPhys               TStreamerBasicType         asjagged(asdtype('>u4'))\n",
      "Jet.TauTag                 TStreamerBasicType         asjagged(asdtype('>u4'))\n",
      "Jet.Charge                 TStreamerBasicType         asjagged(asdtype('>i4'))\n",
      "Jet.EhadOverEem            TStreamerBasicType         asjagged(asdtype('>f4'))\n",
      "Jet.NCharged               TStreamerBasicType         asjagged(asdtype('>i4'))\n",
      "Jet.NNeutrals              TStreamerBasicType         asjagged(asdtype('>i4'))\n",
      "Jet.Beta                   TStreamerBasicType         asjagged(asdtype('>f4'))\n",
      "Jet.BetaStar               TStreamerBasicType         asjagged(asdtype('>f4'))\n",
      "Jet.MeanSqDeltaR           TStreamerBasicType         asjagged(asdtype('>f4'))\n",
      "Jet.PTD                    TStreamerBasicType         asjagged(asdtype('>f4'))\n",
      "Jet.FracPt[5]              TStreamerBasicType         asjagged(asdtype(\"('>f4', (5,))\"))\n",
      "Jet.Tau[5]                 TStreamerBasicType         asjagged(asdtype(\"('>f4', (5,))\"))\n",
      "Jet.TrimmedP4[5]           TStreamerInfo              asjagged(asobj(<uproot_methods.classes.TLorentzVector.Methods>))\n",
      "Jet.PrunedP4[5]            TStreamerInfo              asjagged(asobj(<uproot_methods.classes.TLorentzVector.Methods>))\n",
      "Jet.SoftDroppedP4[5]       TStreamerInfo              asjagged(asobj(<uproot_methods.classes.TLorentzVector.Methods>))\n",
      "Jet.NSubJetsTrimmed        TStreamerBasicType         asjagged(asdtype('>i4'))\n",
      "Jet.NSubJetsPruned         TStreamerBasicType         asjagged(asdtype('>i4'))\n",
      "Jet.NSubJetsSoftDropped    TStreamerBasicType         asjagged(asdtype('>i4'))\n",
      "Jet.Constituents           TStreamerInfo              asgenobj(SimpleArray(TRefArray))\n",
      "Jet.Particles              TStreamerInfo              asgenobj(SimpleArray(TRefArray))\n",
      "Jet.Area                   TStreamerInfo              asjagged(asobj(<uproot_methods.classes.TLorentzVector.Methods>))\n",
      "\n"
     ]
    }
   ],
   "source": [
    "jet.show()"
   ],
   "metadata": {
    "collapsed": false,
    "pycharm": {
     "name": "#%%\n"
    }
   }
  },
  {
   "cell_type": "markdown",
   "source": [
    "## Uproot interpretations\n",
    "\n",
    "- ROOT data can be interpreted in different ways in Python (as opposed\n",
    "to C++).\n",
    "\n",
    "- A branch may be interpreted be interpreted as:\n",
    "    - a Numpy array,\n",
    "    - an array of unequal length arrays,\n",
    "    - an array of classes defined by ROOT streamers,\n",
    "    - an array of custom classes,\n",
    "    - a string,\n",
    "    - etc.\n",
    "\n",
    "- Currently, AwkwardNN supports training on 4 different interpretations:\n",
    "\n",
    "    - a fixed data structure interpretation,\n",
    "\n",
    "    - a jagged data structure interpretation,\n",
    "\n",
    "    - an object data structure interpretation,\n",
    "\n",
    "    - a nested data structure interpretation,\n",
    "\n",
    "        - Note: in `uproot` you have to check if a field is nested by\n",
    "        looking at its .keys() list of subfields, but in `uproot4`\n",
    "        you could check in the same way as for the other interpretations."
   ],
   "metadata": {
    "collapsed": false,
    "pycharm": {
     "name": "#%% md\n"
    }
   }
  },
  {
   "cell_type": "code",
   "execution_count": 7,
   "outputs": [
    {
     "name": "stdout",
     "output_type": "stream",
     "text": [
      "Example of fixed interpretation: `Jet_size`: <class 'uproot.interp.numerical.asdtype'>\n",
      "\n",
      "Example of jagged interpretation: `Jet.Mass`: <class 'uproot.interp.jagged.asjagged'>\n",
      "\n",
      "Example of object interpretation: `Jet.Constituents`: <class 'uproot.interp.objects.asgenobj'>\n",
      "\n",
      "Example of nested interpretation: `Jet`: <class 'uproot.interp.numerical.asdtype'>\n",
      "\n",
      "Note: in `uproot4`, this nested field would be interpreted as a \"group\".\n"
     ]
    }
   ],
   "source": [
    "jet_size_interp = type(tree['Jet_size'].interpretation)\n",
    "print(\"Example of fixed interpretation: `Jet_size`: {}\\n\".format(jet_size_interp))\n",
    "\n",
    "jet_mass_interp = type(tree['Jet.Mass'].interpretation)\n",
    "print(\"Example of jagged interpretation: `Jet.Mass`: {}\\n\".format(jet_mass_interp))\n",
    "\n",
    "jet_const_interp = type(tree['Jet.Constituents'].interpretation)\n",
    "print(\"Example of object interpretation: `Jet.Constituents`: {}\\n\".format(jet_const_interp))\n",
    "\n",
    "jet_interp = type(tree['Jet'].interpretation)\n",
    "print(\"Example of nested interpretation: `Jet`: {}\\n\".format(jet_interp))\n",
    "print(\"Note: in `uproot4`, this nested field would be interpreted \"\n",
    "      \"as a \\\"group\\\".\")\n"
   ],
   "metadata": {
    "collapsed": false,
    "pycharm": {
     "name": "#%%\n"
    }
   }
  },
  {
   "cell_type": "markdown",
   "source": [
    "### Fixed interpretation\n",
    "\n",
    "- Each branch/column is a Numpy array.\n",
    "\n",
    "- Each element in the Numpy array is a number that is associated to an event.\n"
   ],
   "metadata": {
    "collapsed": false,
    "pycharm": {
     "name": "#%% md\n"
    }
   }
  },
  {
   "cell_type": "code",
   "execution_count": 8,
   "outputs": [
    {
     "name": "stdout",
     "output_type": "stream",
     "text": [
      "Type of fixed interpreted branch: <class 'numpy.ndarray'>\n",
      "\n",
      "Event 1: 4\n",
      "Event 2: 2\n",
      "Event 3: 4\n"
     ]
    }
   ],
   "source": [
    "# Note: we are reading in data in the column manner as mentioned above.\n",
    "# To read in a column, specify the column name, e.g.\n",
    "\n",
    "jet_size = tree['Jet_size']\n",
    "\n",
    "print(\"Type of fixed interpreted branch: {}\".format(type(jet_size.array())))\n",
    "print()\n",
    "for i in range(3):\n",
    "    print(\"Event {}: {}\".format(i+1, jet_size.array()[i]))\n"
   ],
   "metadata": {
    "collapsed": false,
    "pycharm": {
     "name": "#%%\n"
    }
   }
  },
  {
   "cell_type": "markdown",
   "source": [
    "### Jagged interpretation\n",
    "\n",
    "- Each branch/column is a jagged array.\n",
    "\n",
    "- Each element in the jagged array is also an array that is associated to an\n",
    " event. These subarrays may have either numbers or more arrays as elements.\n",
    "\n",
    "- Each subarray has a different length, hence the name jagged.\n",
    "\n",
    "- The elements of subarrays as associated with the objects that make up the event.\n",
    "\n",
    "    - So if I am looking at a jagged interpreted branch, \"Jet.Mass\" for\n",
    "    example, then each element in a subarray is associated with a different\n",
    "    jet within the event.\n",
    "\n",
    "- Across different fields within the same subtree, each field has the same\n",
    "size jagged array with respect to a specified modulus.\n",
    "\n",
    "    - E.g., the first event in jet mass, `tree['Jet.Mass'].array()[0]`, has\n",
    "    the same size as the first event in jet charge, `tree['Jet.Charge'].array()[0]`.\n",
    "\n",
    "    - E.g. if an event has 4 jets, then an event in jagged subbranch can have\n",
    "    length 4 (Jet.Mass) or say length 20 (Jet.Tau[5]), where the first\n",
    "    5 points are associated to the first jet, the next 5 to second jet, and so on.\n",
    "\n",
    "\n",
    "- Note: fields from different subtrees do not have the same length. This is why\n",
    "they cannot be trained within the same AwkwardNN block.\n",
    "\n",
    "    - E.g. the first event in jet mass, `tree['Jet.Mass'].array()[0]`, is not\n",
    "    the same size as the first event in particle energy,\n",
    "    `tree['Particle.E'].array()[0]`."
   ],
   "metadata": {
    "collapsed": false,
    "pycharm": {
     "name": "#%% md\n"
    }
   }
  },
  {
   "cell_type": "code",
   "execution_count": 9,
   "outputs": [
    {
     "name": "stdout",
     "output_type": "stream",
     "text": [
      "Type of jagged interpreted branch: <class 'awkward.array.jagged.JaggedArray'>\n",
      "\n",
      "Event 1: [206.97768  179.3755    10.840576  14.236657]\n",
      "Event 2: [180.59798 133.46812]\n",
      "Event 3: [216.01949   167.80676     8.562021    7.6187215]\n"
     ]
    }
   ],
   "source": [
    "jet_mass = tree['Jet.Mass']\n",
    "print(\"Type of jagged interpreted branch: {}\".format(type(jet_mass.array())))\n",
    "print()\n",
    "for i in range(3):\n",
    "    print(\"Event {}: {}\".format(i+1, jet_mass.array()[i]))"
   ],
   "metadata": {
    "collapsed": false,
    "pycharm": {
     "name": "#%%\n"
    }
   }
  },
  {
   "cell_type": "markdown",
   "source": [
    "### Object interpretation\n",
    "\n",
    "- Each branch/column is an object array.\n",
    "\n",
    "- Each element in the object array is also an array that is associated to an\n",
    " event. Furthermore, these subarrays have arrays as elements.\n",
    "\n",
    " - Like the jagged interpreted branches, each event/subarray has a different length.\n",
    "\n",
    "- The elements of events/subarrays as associated with the objects that make up\n",
    "the event.\n",
    "\n",
    "    - So if I am looking at an object interpreted branch, \"Jet.Particles\" for\n",
    "    example, then each element in an event/subarray is also an array that is\n",
    "    associated with a particle jet within the event.\n",
    "\n",
    "    - Each of these second nested arrays can have different lengths.\n"
   ],
   "metadata": {
    "collapsed": false,
    "pycharm": {
     "name": "#%% md\n"
    }
   }
  },
  {
   "cell_type": "code",
   "execution_count": 10,
   "outputs": [
    {
     "name": "stdout",
     "output_type": "stream",
     "text": [
      "Type of object interpreted branch: <class 'awkward.array.jagged.JaggedArray'>\n",
      "\n",
      "Event 1: number of jets = 4\n",
      "Jet 1 has length 48\n",
      "Jet 2 has length 68\n",
      "Jet 3 has length 10\n",
      "Jet 4 has length 11\n",
      "\n",
      "Event 2: number of jets = 2\n",
      "Jet 1 has length 60\n",
      "Jet 2 has length 61\n",
      "\n",
      "Event 3: number of jets = 4\n",
      "Jet 1 has length 68\n",
      "Jet 2 has length 83\n",
      "Jet 3 has length 8\n",
      "Jet 4 has length 9\n",
      "\n"
     ]
    },
    {
     "name": "stderr",
     "output_type": "stream",
     "text": [
      "/Users/edisonweik/.pyenv/versions/3.6.11/lib/python3.6/site-packages/awkward/array/base.py:394: VisibleDeprecationWarning: Creating an ndarray from ragged nested sequences (which is a list-or-tuple of lists-or-tuples-or ndarrays with different lengths or shapes) is deprecated. If you meant to do this, you must specify 'dtype=object' when creating the ndarray\n",
      "  return cls.numpy.array(value, copy=False)\n"
     ]
    }
   ],
   "source": [
    "jet_const = tree['Jet.Constituents']\n",
    "\n",
    "print(\"Type of object interpreted branch: {}\".format(type(jet_mass.array())))\n",
    "print()\n",
    "for i in range(3):\n",
    "    print(\"Event {}: number of jets = {}\".format(i+1, len(jet_const.array()[i])))\n",
    "    for j, k in enumerate(jet_const.array()[i]):\n",
    "        print(\"Jet {} has length {}\".format(j+1, len(k)))\n",
    "    print()\n"
   ],
   "metadata": {
    "collapsed": false,
    "pycharm": {
     "name": "#%%\n"
    }
   }
  },
  {
   "cell_type": "markdown",
   "source": [
    "### Nested interpretation\n",
    "\n",
    "- `uproot` doesn't assign a special interpretation to nested fields.\n",
    "\n",
    "- To check whether or not a field is a subtree, i.e. is nested, then\n",
    "you have to check the length of the array that .keys() returns .\n",
    "\n",
    "- However, `uproot4` does interpret nested fields as \"Groups\"."
   ],
   "metadata": {
    "collapsed": false,
    "pycharm": {
     "name": "#%% md\n"
    }
   }
  },
  {
   "cell_type": "code",
   "execution_count": 11,
   "outputs": [
    {
     "name": "stdout",
     "output_type": "stream",
     "text": [
      "Length of .keys() for nested field \"jet\": 35\n",
      "Length of .keys() for non-nested field \"jet_mass\": 0\n"
     ]
    }
   ],
   "source": [
    "nested_key_length = len(jet.keys())\n",
    "non_nested_key_length = len(jet_mass.keys())\n",
    "print(\"Length of .keys() for nested field \\\"jet\\\": {}\".format(nested_key_length))\n",
    "print(\"Length of .keys() for non-nested field \\\"jet_mass\\\": {}\".format(non_nested_key_length))"
   ],
   "metadata": {
    "collapsed": false,
    "pycharm": {
     "name": "#%%\n"
    }
   }
  },
  {
   "cell_type": "markdown",
   "source": [
    "## Primitives\n",
    "\n",
    "- Each field, regardless of its interpretation, has an associated\n",
    "primitive data type associated with it. Can again see this in the\n",
    ".show() function above."
   ],
   "metadata": {
    "collapsed": false,
    "pycharm": {
     "name": "#%% md\n"
    }
   }
  },
  {
   "cell_type": "code",
   "execution_count": 12,
   "outputs": [
    {
     "name": "stdout",
     "output_type": "stream",
     "text": [
      "Jet charge primitive: int32\n",
      "Jet mass primitive: float32\n",
      "Jet pruned primitive: <class 'uproot_methods.classes.TLorentzVector.Methods'>\n",
      "Muon Particle primitive: <class 'uproot.rootio.TRef'>\n"
     ]
    }
   ],
   "source": [
    "jet_charge = tree['Jet.Charge']\n",
    "prim0 = jet_charge.interpretation.type.to\n",
    "prim1 = jet_mass.interpretation.type.to\n",
    "jet_pruned = tree['Jet.PrunedP4[5]']\n",
    "prim2 = jet_pruned.interpretation.type.to\n",
    "muon_particle = tree['Muon.Particle']\n",
    "prim3 = muon_particle.interpretation.type.to\n",
    "\n",
    "print(\"Jet charge primitive: {}\".format(prim0))\n",
    "print(\"Jet mass primitive: {}\".format(prim1))\n",
    "print(\"Jet pruned primitive: {}\".format(prim2))\n",
    "print(\"Muon Particle primitive: {}\".format(prim3))"
   ],
   "metadata": {
    "collapsed": false,
    "pycharm": {
     "name": "#%%\n"
    }
   }
  },
  {
   "cell_type": "markdown",
   "source": [
    "- Most of the primitives are numerical types: `int`, `float`, etc.\n",
    "\n",
    "- But some of them are custom types specific to particle physics:\n",
    "    - `TLorentzVector`, and\n",
    "    - `TREF`\n",
    "\n",
    "- Because a neural network can't process these custom types, I call one of\n",
    "their methods to convert them to numerical types. This, though, is rather\n",
    "ad hoc, just so I can train them.\n",
    "\n",
    "    - Question: How should I be dealing with this?\n",
    "\n",
    "    - Perhaps, add a field in the yaml file so the user can specify what to do?\n",
    "    Or something else?"
   ],
   "metadata": {
    "collapsed": false,
    "pycharm": {
     "name": "#%% md\n"
    }
   }
  },
  {
   "cell_type": "code",
   "execution_count": 13,
   "outputs": [
    {
     "name": "stdout",
     "output_type": "stream",
     "text": [
      "Custom data types before being modified\n",
      "[TLorentzVector(x=0, y=0, z=0, t=0) TLorentzVector(x=0, y=0, z=0, t=0) TLorentzVector(x=0, y=0, z=0, t=0) ... TLorentzVector(x=0, y=0, z=0, t=0) TLorentzVector(x=0, y=0, z=0, t=0) TLorentzVector(x=0, y=0, z=0, t=0)]\n",
      "[<TRef 424>]\n",
      "\n",
      " Custom data types are being modified\n",
      "[0. 0. 0. 0. 0. 0. 0. 0. 0. 0. 0. 0. 0. 0. 0. 0. 0. 0. 0. 0.]\n",
      "[424]\n"
     ]
    }
   ],
   "source": [
    "print(\"Custom data types before being modified\")\n",
    "print(jet_pruned.array()[0])\n",
    "print(muon_particle.array()[275])\n",
    "print(\"\\n Custom data types are being modified\")\n",
    "print(jet_pruned.array().E[0])\n",
    "print(muon_particle.array().id[275])\n"
   ],
   "metadata": {
    "collapsed": false,
    "pycharm": {
     "name": "#%%\n"
    }
   }
  },
  {
   "cell_type": "markdown",
   "source": [
    "## Processing data\n",
    "\n",
    "- But a neural network processes a single event at a time, not a single\n",
    "field at a time. That is, it feeds forward rows, not columns.\n",
    "\n",
    "- But it makes more sense for a neural network to process a single event\n",
    "at a time, not a single field/branch at a time. That is, it makes more\n",
    "sense to feed forward rows, not columns.\n",
    "\n",
    "- So, given a set of fields, I process the data from those fields such\n",
    "that it is organized as rows instead of columns."
   ],
   "metadata": {
    "collapsed": false,
    "pycharm": {
     "name": "#%% md\n"
    }
   }
  },
  {
   "cell_type": "code",
   "execution_count": 14,
   "outputs": [
    {
     "name": "stdout",
     "output_type": "stream",
     "text": [
      "before processing\n",
      "Jet.PT: [[827.8882 769.4987 97.594574 70.50537] [936.3517 898.72076] [918.127 844.6479 21.60765 20.497742]]\n",
      "Jet.Eta: [[0.27329388 -0.33246595 0.49002475 3.0309205] [-0.15793906 0.4833028] [0.70078456 0.37452587 3.4654589 0.18378289]]\n",
      "Jet.Phi: [[0.88772887 -2.410344 -0.22583866 -1.910816] [1.7673397 -1.3502347] [3.0060477 -0.14007255 -2.3441007 -1.2875067]]\n",
      "\n",
      "after processing\n",
      "Event 1: tensor([[[ 8.2789e+02,  2.7329e-01,  8.8773e-01]],\n",
      "\n",
      "        [[ 7.6950e+02, -3.3247e-01, -2.4103e+00]],\n",
      "\n",
      "        [[ 9.7595e+01,  4.9002e-01, -2.2584e-01]],\n",
      "\n",
      "        [[ 7.0505e+01,  3.0309e+00, -1.9108e+00]]])\n",
      "\n",
      "Event 2: tensor([[[ 9.3635e+02, -1.5794e-01,  1.7673e+00]],\n",
      "\n",
      "        [[ 8.9872e+02,  4.8330e-01, -1.3502e+00]]])\n",
      "\n",
      "Event 3: tensor([[[ 9.1813e+02,  7.0078e-01,  3.0060e+00]],\n",
      "\n",
      "        [[ 8.4465e+02,  3.7453e-01, -1.4007e-01]],\n",
      "\n",
      "        [[ 2.1608e+01,  3.4655e+00, -2.3441e+00]],\n",
      "\n",
      "        [[ 2.0498e+01,  1.8378e-01, -1.2875e+00]]])\n",
      "\n"
     ]
    }
   ],
   "source": [
    "# Example\n",
    "\n",
    "fields = ['Jet.PT', 'Jet.Eta', 'Jet.Phi']\n",
    "\n",
    "print(\"before processing\")\n",
    "for col_dict in tree.iterate(branches=fields, entrysteps=3, namedecode='ascii'):\n",
    "    for k, v in col_dict.items():\n",
    "        print(\"{}: {}\".format(k, v))\n",
    "    break\n",
    "print()\n",
    "\n",
    "print(\"after processing\")\n",
    "from awkwardNN.utils.dataset_utils_uproot import get_events_from_tree\n",
    "data = get_events_from_tree(tree, fields)\n",
    "for i in range(3):\n",
    "    print(\"Event {}: {}\\n\".format(i+1, data[i]))\n"
   ],
   "metadata": {
    "collapsed": false,
    "pycharm": {
     "name": "#%%\n"
    }
   }
  },
  {
   "cell_type": "markdown",
   "source": [
    "- Assumption: within the context of an event, the i^th index of a subfield,\n",
    "say `Jet.PT`, is associated with the i^th subobject, in this case jet, of\n",
    "an event.\n",
    "\n",
    "    - That is, the elements in fields are ordered, as opposed to being\n",
    "    unordered.\n",
    "\n",
    "    - E.g. if there are 4 jets in an event, then the first element in both\n",
    "    `Jet.PT` and `Jet.Mass` are associated with the same jet and should\n",
    "    therefore be trained together.\n",
    "\n",
    "- So when training an rnn or lstm, it will process each event by processing\n",
    "each subobject (e.g. jet or particle) in an event sequentially.\n"
   ],
   "metadata": {
    "collapsed": false,
    "pycharm": {
     "name": "#%% md\n"
    }
   }
  },
  {
   "cell_type": "markdown",
   "source": [
    "## Note: bad keys\n",
    "\n",
    "- Sometimes `uproot` can't read in some fields because of an error related\n",
    "to how data is read in (I think).\n",
    "\n",
    "- The fields that return errors in the rootfiles `test_qcd_1000.root` and\n",
    "`test_ttbar_1000.root` are:\n",
    "    - `EFlowNeutralHadron.fBits`,\n",
    "    - `EFlowPhoton.fBits`,\n",
    "    - `EFlowTrack.fBits`,\n",
    "    - `Muon.fBits`,\n",
    "    - `Particle.fBits`,\n",
    "    - `Tower.fBits`, and\n",
    "    - `Track.fBits`.\n",
    "\n",
    "- I filter these keys out during the yaml file processing.\n"
   ],
   "metadata": {
    "collapsed": false,
    "pycharm": {
     "name": "#%% md\n"
    }
   }
  },
  {
   "cell_type": "code",
   "execution_count": 15,
   "outputs": [
    {
     "ename": "AssertionError",
     "evalue": "",
     "output_type": "error",
     "traceback": [
      "\u001B[0;31m---------------------------------------------------------------------------\u001B[0m",
      "\u001B[0;31mAssertionError\u001B[0m                            Traceback (most recent call last)",
      "\u001B[0;32m<ipython-input-15-3b2ab5489c15>\u001B[0m in \u001B[0;36m<module>\u001B[0;34m\u001B[0m\n\u001B[1;32m      1\u001B[0m \u001B[0;31m# Example of error\u001B[0m\u001B[0;34m\u001B[0m\u001B[0;34m\u001B[0m\u001B[0;34m\u001B[0m\u001B[0m\n\u001B[0;32m----> 2\u001B[0;31m \u001B[0mtree\u001B[0m\u001B[0;34m[\u001B[0m\u001B[0;34m\"EFlowNeutralHadron.fBits\"\u001B[0m\u001B[0;34m]\u001B[0m\u001B[0;34m.\u001B[0m\u001B[0marray\u001B[0m\u001B[0;34m(\u001B[0m\u001B[0;34m)\u001B[0m\u001B[0;34m\u001B[0m\u001B[0;34m\u001B[0m\u001B[0m\n\u001B[0m\u001B[1;32m      3\u001B[0m \u001B[0;34m\u001B[0m\u001B[0m\n",
      "\u001B[0;32m~/.pyenv/versions/3.6.11/lib/python3.6/site-packages/uproot/tree.py\u001B[0m in \u001B[0;36marray\u001B[0;34m(self, interpretation, entrystart, entrystop, flatten, awkwardlib, cache, basketcache, keycache, executor, blocking)\u001B[0m\n\u001B[1;32m   1415\u001B[0m             \u001B[0mkeycache\u001B[0m \u001B[0;34m=\u001B[0m \u001B[0;34m{\u001B[0m\u001B[0;34m}\u001B[0m\u001B[0;34m\u001B[0m\u001B[0;34m\u001B[0m\u001B[0m\n\u001B[1;32m   1416\u001B[0m \u001B[0;34m\u001B[0m\u001B[0m\n\u001B[0;32m-> 1417\u001B[0;31m         \u001B[0mbasket_itemoffset\u001B[0m \u001B[0;34m=\u001B[0m \u001B[0mself\u001B[0m\u001B[0;34m.\u001B[0m\u001B[0m_basket_itemoffset\u001B[0m\u001B[0;34m(\u001B[0m\u001B[0minterpretation\u001B[0m\u001B[0;34m,\u001B[0m \u001B[0mbasketstart\u001B[0m\u001B[0;34m,\u001B[0m \u001B[0mbasketstop\u001B[0m\u001B[0;34m,\u001B[0m \u001B[0mkeycache\u001B[0m\u001B[0;34m)\u001B[0m\u001B[0;34m\u001B[0m\u001B[0;34m\u001B[0m\u001B[0m\n\u001B[0m\u001B[1;32m   1418\u001B[0m         \u001B[0mbasket_entryoffset\u001B[0m \u001B[0;34m=\u001B[0m \u001B[0mself\u001B[0m\u001B[0;34m.\u001B[0m\u001B[0m_basket_entryoffset\u001B[0m\u001B[0;34m(\u001B[0m\u001B[0mbasketstart\u001B[0m\u001B[0;34m,\u001B[0m \u001B[0mbasketstop\u001B[0m\u001B[0;34m)\u001B[0m\u001B[0;34m\u001B[0m\u001B[0;34m\u001B[0m\u001B[0m\n\u001B[1;32m   1419\u001B[0m \u001B[0;34m\u001B[0m\u001B[0m\n",
      "\u001B[0;32m~/.pyenv/versions/3.6.11/lib/python3.6/site-packages/uproot/tree.py\u001B[0m in \u001B[0;36m_basket_itemoffset\u001B[0;34m(self, interpretation, basketstart, basketstop, keycache)\u001B[0m\n\u001B[1;32m   1370\u001B[0m         \u001B[0;32mfor\u001B[0m \u001B[0mj\u001B[0m\u001B[0;34m,\u001B[0m \u001B[0mkey\u001B[0m \u001B[0;32min\u001B[0m \u001B[0menumerate\u001B[0m\u001B[0;34m(\u001B[0m\u001B[0mself\u001B[0m\u001B[0;34m.\u001B[0m\u001B[0m_threadsafe_iterate_keys\u001B[0m\u001B[0;34m(\u001B[0m\u001B[0mkeycache\u001B[0m\u001B[0;34m,\u001B[0m \u001B[0;32mTrue\u001B[0m\u001B[0;34m,\u001B[0m \u001B[0mbasketstart\u001B[0m\u001B[0;34m,\u001B[0m \u001B[0mbasketstop\u001B[0m\u001B[0;34m)\u001B[0m\u001B[0;34m)\u001B[0m\u001B[0;34m:\u001B[0m\u001B[0;34m\u001B[0m\u001B[0;34m\u001B[0m\u001B[0m\n\u001B[1;32m   1371\u001B[0m             \u001B[0mi\u001B[0m \u001B[0;34m=\u001B[0m \u001B[0mbasketstart\u001B[0m \u001B[0;34m+\u001B[0m \u001B[0mj\u001B[0m\u001B[0;34m\u001B[0m\u001B[0;34m\u001B[0m\u001B[0m\n\u001B[0;32m-> 1372\u001B[0;31m             \u001B[0mnumitems\u001B[0m \u001B[0;34m=\u001B[0m \u001B[0minterpretation\u001B[0m\u001B[0;34m.\u001B[0m\u001B[0mnumitems\u001B[0m\u001B[0;34m(\u001B[0m\u001B[0mkey\u001B[0m\u001B[0;34m.\u001B[0m\u001B[0mborder\u001B[0m\u001B[0;34m,\u001B[0m \u001B[0mself\u001B[0m\u001B[0;34m.\u001B[0m\u001B[0mbasket_numentries\u001B[0m\u001B[0;34m(\u001B[0m\u001B[0mi\u001B[0m\u001B[0;34m)\u001B[0m\u001B[0;34m)\u001B[0m\u001B[0;34m\u001B[0m\u001B[0;34m\u001B[0m\u001B[0m\n\u001B[0m\u001B[1;32m   1373\u001B[0m             \u001B[0mbasket_itemoffset\u001B[0m\u001B[0;34m.\u001B[0m\u001B[0mappend\u001B[0m\u001B[0;34m(\u001B[0m\u001B[0mbasket_itemoffset\u001B[0m\u001B[0;34m[\u001B[0m\u001B[0;34m-\u001B[0m\u001B[0;36m1\u001B[0m\u001B[0;34m]\u001B[0m \u001B[0;34m+\u001B[0m \u001B[0mnumitems\u001B[0m\u001B[0;34m)\u001B[0m\u001B[0;34m\u001B[0m\u001B[0;34m\u001B[0m\u001B[0m\n\u001B[1;32m   1374\u001B[0m         \u001B[0;32mreturn\u001B[0m \u001B[0mbasket_itemoffset\u001B[0m\u001B[0;34m\u001B[0m\u001B[0;34m\u001B[0m\u001B[0m\n",
      "\u001B[0;32m~/.pyenv/versions/3.6.11/lib/python3.6/site-packages/uproot/interp/jagged.py\u001B[0m in \u001B[0;36mnumitems\u001B[0;34m(self, numbytes, numentries)\u001B[0m\n\u001B[1;32m     59\u001B[0m \u001B[0;34m\u001B[0m\u001B[0m\n\u001B[1;32m     60\u001B[0m     \u001B[0;32mdef\u001B[0m \u001B[0mnumitems\u001B[0m\u001B[0;34m(\u001B[0m\u001B[0mself\u001B[0m\u001B[0;34m,\u001B[0m \u001B[0mnumbytes\u001B[0m\u001B[0;34m,\u001B[0m \u001B[0mnumentries\u001B[0m\u001B[0;34m)\u001B[0m\u001B[0;34m:\u001B[0m\u001B[0;34m\u001B[0m\u001B[0;34m\u001B[0m\u001B[0m\n\u001B[0;32m---> 61\u001B[0;31m         \u001B[0;32mreturn\u001B[0m \u001B[0mself\u001B[0m\u001B[0;34m.\u001B[0m\u001B[0mcontent\u001B[0m\u001B[0;34m.\u001B[0m\u001B[0mnumitems\u001B[0m\u001B[0;34m(\u001B[0m\u001B[0mnumbytes\u001B[0m \u001B[0;34m-\u001B[0m \u001B[0mnumentries\u001B[0m \u001B[0;34m*\u001B[0m \u001B[0mself\u001B[0m\u001B[0;34m.\u001B[0m\u001B[0mskipbytes\u001B[0m\u001B[0;34m,\u001B[0m \u001B[0mnumentries\u001B[0m\u001B[0;34m)\u001B[0m\u001B[0;34m\u001B[0m\u001B[0;34m\u001B[0m\u001B[0m\n\u001B[0m\u001B[1;32m     62\u001B[0m \u001B[0;34m\u001B[0m\u001B[0m\n\u001B[1;32m     63\u001B[0m     \u001B[0;32mdef\u001B[0m \u001B[0msource_numitems\u001B[0m\u001B[0;34m(\u001B[0m\u001B[0mself\u001B[0m\u001B[0;34m,\u001B[0m \u001B[0msource\u001B[0m\u001B[0;34m)\u001B[0m\u001B[0;34m:\u001B[0m\u001B[0;34m\u001B[0m\u001B[0;34m\u001B[0m\u001B[0m\n",
      "\u001B[0;32m~/.pyenv/versions/3.6.11/lib/python3.6/site-packages/uproot/interp/numerical.py\u001B[0m in \u001B[0;36mnumitems\u001B[0;34m(self, numbytes, numentries)\u001B[0m\n\u001B[1;32m    157\u001B[0m         \u001B[0mdtype\u001B[0m\u001B[0;34m,\u001B[0m \u001B[0mshape\u001B[0m \u001B[0;34m=\u001B[0m \u001B[0m_dtypeshape\u001B[0m\u001B[0;34m(\u001B[0m\u001B[0mself\u001B[0m\u001B[0;34m.\u001B[0m\u001B[0mfromdtype\u001B[0m\u001B[0;34m)\u001B[0m\u001B[0;34m\u001B[0m\u001B[0;34m\u001B[0m\u001B[0m\n\u001B[1;32m    158\u001B[0m         \u001B[0mquotient\u001B[0m\u001B[0;34m,\u001B[0m \u001B[0mremainder\u001B[0m \u001B[0;34m=\u001B[0m \u001B[0mdivmod\u001B[0m\u001B[0;34m(\u001B[0m\u001B[0mnumbytes\u001B[0m\u001B[0;34m,\u001B[0m \u001B[0mdtype\u001B[0m\u001B[0;34m.\u001B[0m\u001B[0mitemsize\u001B[0m\u001B[0;34m)\u001B[0m\u001B[0;34m\u001B[0m\u001B[0;34m\u001B[0m\u001B[0m\n\u001B[0;32m--> 159\u001B[0;31m         \u001B[0;32massert\u001B[0m \u001B[0mremainder\u001B[0m \u001B[0;34m==\u001B[0m \u001B[0;36m0\u001B[0m\u001B[0;34m\u001B[0m\u001B[0;34m\u001B[0m\u001B[0m\n\u001B[0m\u001B[1;32m    160\u001B[0m         \u001B[0;32mreturn\u001B[0m \u001B[0mquotient\u001B[0m\u001B[0;34m\u001B[0m\u001B[0;34m\u001B[0m\u001B[0m\n\u001B[1;32m    161\u001B[0m \u001B[0;34m\u001B[0m\u001B[0m\n",
      "\u001B[0;31mAssertionError\u001B[0m: "
     ]
    }
   ],
   "source": [
    "# Example of error\n",
    "tree[\"EFlowNeutralHadron.fBits\"].array()"
   ],
   "metadata": {
    "collapsed": false,
    "pycharm": {
     "name": "#%%\n"
    }
   }
  },
  {
   "cell_type": "code",
   "execution_count": null,
   "outputs": [],
   "source": [],
   "metadata": {
    "collapsed": false,
    "pycharm": {
     "name": "#%%\n"
    }
   }
  }
 ],
 "metadata": {
  "kernelspec": {
   "display_name": "Python 3",
   "language": "python",
   "name": "python3"
  },
  "language_info": {
   "codemirror_mode": {
    "name": "ipython",
    "version": 2
   },
   "file_extension": ".py",
   "mimetype": "text/x-python",
   "name": "python",
   "nbconvert_exporter": "python",
   "pygments_lexer": "ipython2",
   "version": "2.7.6"
  }
 },
 "nbformat": 4,
 "nbformat_minor": 0
}