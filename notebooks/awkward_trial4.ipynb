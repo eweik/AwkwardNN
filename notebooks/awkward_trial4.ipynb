{
 "cells": [
  {
   "cell_type": "markdown",
   "metadata": {
    "collapsed": true,
    "pycharm": {
     "name": "#%% md\n"
    }
   },
   "source": [
    "# Awkward NN Trial 3\n",
    "\n",
    "## Working with yaml files\n",
    "\n",
    "- Get yaml file for awkwardNN from rootfile showing all the\n",
    "fields associated with which type of neural network:\n",
    "`rnn`, `gru`, `lstm`, 'mlp', or `deepset`."
   ]
  },
  {
   "cell_type": "code",
   "execution_count": null,
   "outputs": [],
   "source": [
    "from awkwardNN.nets.awkwardNN import awkwardNN_fromYaml\n",
    "\n",
    "\n",
    "root_filename = \"../data/test_qcd_1000.root\"\n",
    "yaml_filename = '../test_qcd_1000_default.yaml'\n",
    "\n",
    "# static method to get yaml file\n",
    "yaml_dict_list = awkwardNN_fromYaml.get_yaml_model_from_rootfile(root_filename, yaml_filename)\n"
   ],
   "metadata": {
    "collapsed": false,
    "pycharm": {
     "name": "#%%\n"
    }
   }
  },
  {
   "cell_type": "markdown",
   "source": [
    "## Train yaml AwkwardNN on rootfile\n",
    "\n",
    "- Pass in list of dict with two key:value pairs, as seen in example below\n",
    "\n",
    "### How it trains\n",
    "\n",
    "- For every subset of fields, pass it through the associated type\n",
    "of neural network indicated via `mode`\n",
    "\n",
    "- Then take the output from these sub-networks, concatenate them, and\n",
    "pass them through a fully connected network to predict the output.\n"
   ],
   "metadata": {
    "collapsed": false,
    "pycharm": {
     "name": "#%% md\n"
    }
   }
  },
  {
   "cell_type": "code",
   "execution_count": null,
   "outputs": [],
   "source": [
    "data_info = [{'rootfile': '../data/test_qcd_1000.root', 'target': 0},\n",
    "            {'rootfile': '../data/test_ttbar_1000.root', 'target': 1}]\n",
    "\n",
    "# modeled a lot of the parameters and methods from scikit-learn\n",
    "model = awkwardNN_fromYaml(yaml_dict_list, max_iter=3, verbose=True)\n",
    "model.train(data_info)\n"
   ],
   "metadata": {
    "collapsed": false,
    "pycharm": {
     "name": "#%%\n"
    }
   }
  },
  {
   "cell_type": "markdown",
   "source": [
    "## Issues and next steps\n",
    "\n",
    "- Finish yaml stuff - add some other stuff users can do. Also, validate\n",
    "user entries.\n",
    "\n",
    "- Fix deepset implementation for AwkwardNN with yaml\n",
    "\n",
    "- Also, finish implementations of other functions for awkwardNN:\n",
    "    - predict()\n",
    "    - predict_proba()\n",
    "    - predict_log_proba()\n",
    "\n",
    "- Make pip installable"
   ],
   "metadata": {
    "collapsed": false,
    "pycharm": {
     "name": "#%% md\n"
    }
   }
  }
 ],
 "metadata": {
  "kernelspec": {
   "display_name": "Python 3",
   "language": "python",
   "name": "python3"
  },
  "language_info": {
   "codemirror_mode": {
    "name": "ipython",
    "version": 2
   },
   "file_extension": ".py",
   "mimetype": "text/x-python",
   "name": "python",
   "nbconvert_exporter": "python",
   "pygments_lexer": "ipython2",
   "version": "2.7.6"
  }
 },
 "nbformat": 4,
 "nbformat_minor": 0
}