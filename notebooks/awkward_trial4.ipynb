{
 "cells": [
  {
   "cell_type": "markdown",
   "metadata": {
    "collapsed": true,
    "pycharm": {
     "name": "#%% md\n"
    }
   },
   "source": [
    "# Awkward NN Trial 4\n",
    "\n",
    "## Working with yaml files\n",
    "\n",
    "- Get yaml file for awkwardNN from rootfile showing all the\n",
    "fields from the rootfile and their positions in awkwardNN"
   ]
  },
  {
   "cell_type": "code",
   "execution_count": null,
   "outputs": [],
   "source": [
    "from awkwardNN.nets.awkwardNN import awkwardNN_fromYaml\n",
    "\n",
    "\n",
    "root_filename = \"../data/test_qcd_1000.root\"\n",
    "yaml_filename = '../test_qcd_1000_default.yaml'\n",
    "\n",
    "\n",
    "# can get yaml dict from rootfile\n",
    "yaml_dict = awkwardNN_fromYaml.get_yaml_dict_from_rootfile(root_filename)\n",
    "\n",
    "# can save yaml dict to a yaml file\n",
    "awkwardNN_fromYaml.save_yaml_dict(yaml_dict, yaml_filename)\n",
    "\n",
    "# can create a yaml file directly from a rootfile\n",
    "awkwardNN_fromYaml.create_yaml_file_from_rootfile(root_filename, yaml_filename)\n"
   ],
   "metadata": {
    "collapsed": false,
    "pycharm": {
     "name": "#%%\n"
    }
   }
  },
  {
   "cell_type": "markdown",
   "source": [
    "## Setting parameters in the yaml file\n",
    "\n",
    "- Can edit the yaml file directly to user's satisfaction\n",
    "\n",
    "- Examples of edited yaml files that work can be seen in the github\n",
    "under the names: `test_qcd_1000_test*.yaml`\n",
    "\n",
    "- Can also set some fields from the functions that create yaml file\n",
    "(although they must be keyword arguments)\n"
   ],
   "metadata": {
    "collapsed": false,
    "pycharm": {
     "name": "#%% md\n"
    }
   }
  },
  {
   "cell_type": "code",
   "execution_count": null,
   "outputs": [],
   "source": [
    "# Example 1\n",
    "kwargs_lstm = {'mode': 'lstm', 'embed_dim': 64}\n",
    "yaml_filename_lstm = yaml_filename = '../test_qcd_1000_lstm.yaml'\n",
    "awkwardNN_fromYaml.create_yaml_file_from_rootfile(root_filename,\n",
    "                                                  yaml_filename_lstm,\n",
    "                                                  **kwargs_lstm)\n",
    "\n",
    "# Example 2\n",
    "kwargs_mlp = {'mode': 'mlp', 'embed_dim': 16,\n",
    "              'hidden_sizes': \"(64, 32, 10)\", 'nonlinearity': 'tanh'}\n",
    "yaml_filename_mlp = yaml_filename = '../test_qcd_1000_mlp.yaml'\n",
    "yaml_dict_mlp = awkwardNN_fromYaml.get_yaml_dict_from_rootfile(root_filename, **kwargs_mlp)\n",
    "awkwardNN_fromYaml.save_yaml_dict(yaml_dict_mlp, yaml_filename_mlp)\n",
    "\n",
    "# Example 3\n",
    "kwargs_deepset = {'mode': 'deepset', 'embed_dim': 25}\n",
    "yaml_filename_deepset = yaml_filename = '../test_qcd_1000_deepset.yaml'\n",
    "awkwardNN_fromYaml.create_yaml_file_from_rootfile(root_filename,\n",
    "                                                  yaml_filename_deepset,\n",
    "                                                  **kwargs_deepset)"
   ],
   "metadata": {
    "collapsed": false,
    "pycharm": {
     "name": "#%%\n"
    }
   }
  },
  {
   "cell_type": "markdown",
   "source": [
    "## Train yaml AwkwardNN on rootfile\n",
    "\n",
    "- Pass in list of dict with two key:value pairs, as seen in example below\n",
    "\n",
    "### How it trains\n",
    "\n",
    "- For every subset of fields, awkwardNN passes it through the associated type\n",
    "of neural network indicated via `mode`\n",
    "\n",
    "- Then, it take the output from these sub-networks, concatenate them, and\n",
    "pass them through the next network, and so on and so forth until it\n",
    "reaches the topmost network.\n"
   ],
   "metadata": {
    "collapsed": false,
    "pycharm": {
     "name": "#%% md\n"
    }
   }
  },
  {
   "cell_type": "code",
   "execution_count": null,
   "outputs": [],
   "source": [
    "# Possible keyword arguments for awkwardNN\n",
    "# these are currently all the default values\n",
    "solver='adam'\n",
    "batch_size=1,\n",
    "learning_rate='constant'\n",
    "learning_rate_init=0.001,\n",
    "max_iter=200\n",
    "shuffle=True\n",
    "tol=0.0001,\n",
    "verbose=False\n",
    "resume_training=False,\n",
    "load_best=True\n",
    "momentum=0.9,\n",
    "nesterovs_momentum=True\n",
    "early_stopping=True,\n",
    "validation_fraction=0.1\n",
    "beta_1=0.9,\n",
    "beta_2=0.999\n",
    "epsilon=1e-08,\n",
    "n_iter_no_change=10\n",
    "lr_decay_step=30,\n",
    "lr_decay_factor=0.1\n",
    "l2=0,\n",
    "dropout=0\n",
    "ckpt_dir=\"./ckpt\",\n",
    "model_name='awkwardNN'\n",
    "\n",
    "data_info = [{'rootfile': '../data/test_qcd_1000.root', 'target': 0},\n",
    "            {'rootfile': '../data/test_ttbar_1000.root', 'target': 1}]\n",
    "\n",
    "# Example 1\n",
    "# Pass in yaml file created earlier to initialize awkwardNN.\n",
    "# Can also set some training parameters by keyword\n",
    "model1 = awkwardNN_fromYaml(yaml_filename, max_iter=3, verbose=True)\n",
    "model1.train(data_info)\n",
    "\n",
    "# Example 2\n",
    "kwargs = {'max_iter': 5, 'verbose': True}\n",
    "model2 = awkwardNN_fromYaml(yaml_filename, **kwargs)\n",
    "model2.train(data_info)\n",
    "\n",
    "# Example 3\n",
    "# Can also just initialize awkwardNN without a yaml file. It will\n",
    "# use the default values from the first example above\n",
    "# (test_qcd_1000_default.yaml)\n",
    "model3 = awkwardNN_fromYaml()\n",
    "model3.train(data_info)\n",
    "\n"
   ],
   "metadata": {
    "collapsed": false,
    "pycharm": {
     "name": "#%%\n"
    }
   }
  },
  {
   "cell_type": "markdown",
   "source": [
    "## Issues and next steps\n",
    "\n",
    "- Write documentation\n",
    "\n",
    "- Also, finish implementations of other functions for awkwardNN:\n",
    "    - test()\n",
    "    - predict()\n",
    "    - predict_proba()\n",
    "    - predict_log_proba()\n",
    "\n",
    "- Look into resolving dependencies\n",
    "\n",
    "- Clean up, organize repo\n",
    "\n",
    "- Make pip installable"
   ],
   "metadata": {
    "collapsed": false,
    "pycharm": {
     "name": "#%% md\n"
    }
   }
  }
 ],
 "metadata": {
  "kernelspec": {
   "display_name": "Python 3",
   "language": "python",
   "name": "python3"
  },
  "language_info": {
   "codemirror_mode": {
    "name": "ipython",
    "version": 2
   },
   "file_extension": ".py",
   "mimetype": "text/x-python",
   "name": "python",
   "nbconvert_exporter": "python",
   "pygments_lexer": "ipython2",
   "version": "2.7.6"
  }
 },
 "nbformat": 4,
 "nbformat_minor": 0
}